{
  "cells": [
    {
      "cell_type": "code",
      "execution_count": 1,
      "id": "cc36ea88",
      "metadata": {
        "id": "cc36ea88"
      },
      "outputs": [],
      "source": [
        "import pandas as pd\n",
        "import warnings\n",
        "import matplotlib.pyplot as plt\n",
        "import seaborn as sns\n",
        "import numpy as np\n",
        "warnings.filterwarnings('ignore')"
      ]
    },
    {
      "cell_type": "code",
      "execution_count": 2,
      "id": "ed62e692",
      "metadata": {
        "id": "ed62e692"
      },
      "outputs": [],
      "source": [
        "pd.set_option('display.max_columns', None)\n",
        "pd.set_option('display.max_rows', None)"
      ]
    },
    {
      "cell_type": "code",
      "execution_count": 3,
      "id": "90af691b",
      "metadata": {
        "colab": {
          "base_uri": "https://localhost:8080/",
          "height": 712
        },
        "id": "90af691b",
        "outputId": "59017ca0-27f8-44c9-a6ee-5753a9587945"
      },
      "outputs": [
        {
          "data": {
            "text/html": [
              "<div>\n",
              "<style scoped>\n",
              "    .dataframe tbody tr th:only-of-type {\n",
              "        vertical-align: middle;\n",
              "    }\n",
              "\n",
              "    .dataframe tbody tr th {\n",
              "        vertical-align: top;\n",
              "    }\n",
              "\n",
              "    .dataframe thead th {\n",
              "        text-align: right;\n",
              "    }\n",
              "</style>\n",
              "<table border=\"1\" class=\"dataframe\">\n",
              "  <thead>\n",
              "    <tr style=\"text-align: right;\">\n",
              "      <th></th>\n",
              "      <th>Brand</th>\n",
              "      <th>Model</th>\n",
              "      <th>Series</th>\n",
              "      <th>Thickness</th>\n",
              "      <th>Dimensions (WxDxH)</th>\n",
              "      <th>Weight</th>\n",
              "      <th>Colors</th>\n",
              "      <th>Operating System</th>\n",
              "      <th>Operating System Type</th>\n",
              "      <th>Display Size</th>\n",
              "      <th>Display Resolution</th>\n",
              "      <th>Pixel Density</th>\n",
              "      <th>Display Type</th>\n",
              "      <th>Display Features</th>\n",
              "      <th>Display Touchscreen</th>\n",
              "      <th>Processor</th>\n",
              "      <th>Clock-speed</th>\n",
              "      <th>Chipset</th>\n",
              "      <th>Cache</th>\n",
              "      <th>Graphic Processor</th>\n",
              "      <th>Capacity</th>\n",
              "      <th>RAM Type</th>\n",
              "      <th>RAM Speed</th>\n",
              "      <th>Memory Slots</th>\n",
              "      <th>Memory Layout</th>\n",
              "      <th>SSD Capacity</th>\n",
              "      <th>SSD Type</th>\n",
              "      <th>Battery Cell</th>\n",
              "      <th>Battery Type</th>\n",
              "      <th>Power Supply</th>\n",
              "      <th>Wireless LAN</th>\n",
              "      <th>Wi-Fi Version</th>\n",
              "      <th>Bluetooth</th>\n",
              "      <th>Bluetooth Version</th>\n",
              "      <th>Other Networking Options</th>\n",
              "      <th>HDMI Ports</th>\n",
              "      <th>USB 2.0 slots</th>\n",
              "      <th>SD Card Reader</th>\n",
              "      <th>Ethernet ports</th>\n",
              "      <th>Headphone Jack</th>\n",
              "      <th>Microphone Jack</th>\n",
              "      <th>Web-cam</th>\n",
              "      <th>Video Recording</th>\n",
              "      <th>Audio Solution</th>\n",
              "      <th>Speakers</th>\n",
              "      <th>Sound Technologies</th>\n",
              "      <th>In-built Microphone</th>\n",
              "      <th>Microphone Type</th>\n",
              "      <th>Pointing device</th>\n",
              "      <th>Keyboard</th>\n",
              "      <th>Fingerprint scanner</th>\n",
              "      <th>Face Recognition</th>\n",
              "      <th>Warranty</th>\n",
              "      <th>Sales Package</th>\n",
              "      <th>Refresh Rate</th>\n",
              "      <th>Brightness</th>\n",
              "      <th>Graphics Memory</th>\n",
              "      <th>Expandable Memory</th>\n",
              "      <th>Thunderbolt Port</th>\n",
              "      <th>VGA Port</th>\n",
              "      <th>Backlit Keyboard</th>\n",
              "      <th>HDD Capacity</th>\n",
              "      <th>HDD Speed(RPM)</th>\n",
              "      <th>HDD Type</th>\n",
              "      <th>USB 3.0 slots</th>\n",
              "      <th>Secondary cam(Rear-facing)</th>\n",
              "      <th>Lockport</th>\n",
              "      <th>Battery Life</th>\n",
              "      <th>USB Type C</th>\n",
              "      <th>Battery Capacity</th>\n",
              "      <th>Aspect Ratio</th>\n",
              "      <th>Number of Cores</th>\n",
              "      <th>SSD Interface</th>\n",
              "      <th>Fast Charging Support</th>\n",
              "      <th>market_status</th>\n",
              "      <th>Price (Rs)</th>\n",
              "    </tr>\n",
              "  </thead>\n",
              "  <tbody>\n",
              "    <tr>\n",
              "      <th>0</th>\n",
              "      <td>HP</td>\n",
              "      <td>14-dv0055TU (2N1L1PA)</td>\n",
              "      <td>Pavilion</td>\n",
              "      <td>17 Millimeter thickness</td>\n",
              "      <td>325 x 216 x 17  mm</td>\n",
              "      <td>1.41 Kg weight (Light-weight)</td>\n",
              "      <td>Tranquil Pink</td>\n",
              "      <td>Windows 10 Home Basic</td>\n",
              "      <td>64-bit</td>\n",
              "      <td>14 Inches (35.56 cm)</td>\n",
              "      <td>1920 x 1080 Pixels</td>\n",
              "      <td>157 ppi</td>\n",
              "      <td>LED</td>\n",
              "      <td>Full HD LED Backlit Anti-glare IPS Micro-edge ...</td>\n",
              "      <td>No</td>\n",
              "      <td>Intel Core i5-1135G7 (11th Gen)</td>\n",
              "      <td>4.2 Ghz</td>\n",
              "      <td>Intel SoC</td>\n",
              "      <td>8 MB</td>\n",
              "      <td>Intel Iris X</td>\n",
              "      <td>16 GB</td>\n",
              "      <td>DDR4</td>\n",
              "      <td>3200 Mhz</td>\n",
              "      <td>2</td>\n",
              "      <td>2x8 Gigabyte</td>\n",
              "      <td>512 GB</td>\n",
              "      <td>M.2/Optane</td>\n",
              "      <td>3 Cell</td>\n",
              "      <td>Li-Ion</td>\n",
              "      <td>43 W AC Adapter W</td>\n",
              "      <td>802.11 b/g/n/ax</td>\n",
              "      <td>6.0</td>\n",
              "      <td>Yes</td>\n",
              "      <td>5.0</td>\n",
              "      <td>Multi-Format SD media card reader</td>\n",
              "      <td>1</td>\n",
              "      <td>2.0</td>\n",
              "      <td>Yes</td>\n",
              "      <td>1.0</td>\n",
              "      <td>Yes</td>\n",
              "      <td>Yes</td>\n",
              "      <td>Yes</td>\n",
              "      <td>720p HD</td>\n",
              "      <td>HP Audio Boost</td>\n",
              "      <td>Dual Speakers</td>\n",
              "      <td>Bang &amp; Olufsen</td>\n",
              "      <td>Yes</td>\n",
              "      <td>Dual Array Digital Microphone</td>\n",
              "      <td>Touchpad with Multi-touch Gesture Support</td>\n",
              "      <td>Standard Notebook Keyboard</td>\n",
              "      <td>No</td>\n",
              "      <td>NaN</td>\n",
              "      <td>1 Year</td>\n",
              "      <td>Laptop, Battery, AC Adapter, User Guide</td>\n",
              "      <td>NaN</td>\n",
              "      <td>NaN</td>\n",
              "      <td>NaN</td>\n",
              "      <td>NaN</td>\n",
              "      <td>NaN</td>\n",
              "      <td>NaN</td>\n",
              "      <td>NaN</td>\n",
              "      <td>NaN</td>\n",
              "      <td>NaN</td>\n",
              "      <td>NaN</td>\n",
              "      <td>NaN</td>\n",
              "      <td>NaN</td>\n",
              "      <td>NaN</td>\n",
              "      <td>NaN</td>\n",
              "      <td>NaN</td>\n",
              "      <td>NaN</td>\n",
              "      <td>NaN</td>\n",
              "      <td>NaN</td>\n",
              "      <td>NaN</td>\n",
              "      <td>NaN</td>\n",
              "      <td>Available</td>\n",
              "      <td>71990.0</td>\n",
              "    </tr>\n",
              "    <tr>\n",
              "      <th>1</th>\n",
              "      <td>Acer</td>\n",
              "      <td>PHN16-71 (NH.QLTSI.002)</td>\n",
              "      <td>Predator Helios Neo 16</td>\n",
              "      <td>26.5 Millimeter thickness</td>\n",
              "      <td>361 x 279 x 26.5  mm</td>\n",
              "      <td>2.6 Kg weight</td>\n",
              "      <td>Black</td>\n",
              "      <td>Windows 11 Home Basic</td>\n",
              "      <td>NaN</td>\n",
              "      <td>16 Inches (40.64 cm)</td>\n",
              "      <td>1920 x 1200 Pixels</td>\n",
              "      <td>142 ppi</td>\n",
              "      <td>NaN</td>\n",
              "      <td>Display with IPS (In-Plane Switching) Technolo...</td>\n",
              "      <td>No</td>\n",
              "      <td>Intel Core i7-13700HX (13th Gen)</td>\n",
              "      <td>NaN</td>\n",
              "      <td>NaN</td>\n",
              "      <td>NaN</td>\n",
              "      <td>NVIDIA GeForce RTX 4050</td>\n",
              "      <td>16 GB</td>\n",
              "      <td>DDR5</td>\n",
              "      <td>NaN</td>\n",
              "      <td>1</td>\n",
              "      <td>1*16 Gigabyte</td>\n",
              "      <td>512 GB</td>\n",
              "      <td>NaN</td>\n",
              "      <td>4 Cell</td>\n",
              "      <td>Li-Ion</td>\n",
              "      <td>230 W</td>\n",
              "      <td>802.11 a/b/g/n/ac</td>\n",
              "      <td>5.0</td>\n",
              "      <td>Yes</td>\n",
              "      <td>5.1</td>\n",
              "      <td>NaN</td>\n",
              "      <td>1</td>\n",
              "      <td>NaN</td>\n",
              "      <td>Yes</td>\n",
              "      <td>1.0</td>\n",
              "      <td>Yes</td>\n",
              "      <td>Yes</td>\n",
              "      <td>Yes</td>\n",
              "      <td>720p</td>\n",
              "      <td>NaN</td>\n",
              "      <td>Stereo Speakers</td>\n",
              "      <td>NaN</td>\n",
              "      <td>Yes</td>\n",
              "      <td>Built-In Microphones</td>\n",
              "      <td>Multi-Gesture Touchpad, Supporting Two-Finger ...</td>\n",
              "      <td>103-/104-/107-Key FineTip RGB- Keyboard With I...</td>\n",
              "      <td>NaN</td>\n",
              "      <td>NaN</td>\n",
              "      <td>NaN</td>\n",
              "      <td>Laptop, Power Adaptor, User Guide, Warranty Do...</td>\n",
              "      <td>165 Hz</td>\n",
              "      <td>400 nits</td>\n",
              "      <td>6 GB</td>\n",
              "      <td>32 GB</td>\n",
              "      <td>4.0</td>\n",
              "      <td>No</td>\n",
              "      <td>Yes, 103-/104-/107-Key FineTip RGB-Backlit Key...</td>\n",
              "      <td>NaN</td>\n",
              "      <td>NaN</td>\n",
              "      <td>NaN</td>\n",
              "      <td>NaN</td>\n",
              "      <td>NaN</td>\n",
              "      <td>NaN</td>\n",
              "      <td>NaN</td>\n",
              "      <td>NaN</td>\n",
              "      <td>NaN</td>\n",
              "      <td>NaN</td>\n",
              "      <td>NaN</td>\n",
              "      <td>NaN</td>\n",
              "      <td>NaN</td>\n",
              "      <td>Available</td>\n",
              "      <td>105999.0</td>\n",
              "    </tr>\n",
              "    <tr>\n",
              "      <th>2</th>\n",
              "      <td>Dell</td>\n",
              "      <td>15 5570 (A560126WIN9)</td>\n",
              "      <td>Inspiron 15</td>\n",
              "      <td>22.7 Millimeter thickness</td>\n",
              "      <td>380 x 258 x 22.7  mm</td>\n",
              "      <td>2.2 Kg weight</td>\n",
              "      <td>Platinum Silver</td>\n",
              "      <td>Windows 10 Home Basic</td>\n",
              "      <td>64-bit</td>\n",
              "      <td>15.6 Inches (39.62 cm)</td>\n",
              "      <td>1920 x 1080 Pixels</td>\n",
              "      <td>141 ppi</td>\n",
              "      <td>LED</td>\n",
              "      <td>Full HD LED Backlit Anti-glare Display</td>\n",
              "      <td>No</td>\n",
              "      <td>Intel Core i5-8250U (8th Gen)</td>\n",
              "      <td>1.6 Ghz</td>\n",
              "      <td>NaN</td>\n",
              "      <td>6 MB</td>\n",
              "      <td>AMD Radeon 530</td>\n",
              "      <td>8 GB</td>\n",
              "      <td>DDR4</td>\n",
              "      <td>2400 Mhz</td>\n",
              "      <td>1</td>\n",
              "      <td>1 x 8 Gigabyte</td>\n",
              "      <td>NaN</td>\n",
              "      <td>NaN</td>\n",
              "      <td>3 Cell</td>\n",
              "      <td>Li-Ion</td>\n",
              "      <td>42 W AC Adapter W</td>\n",
              "      <td>802.11 a/b/g/n/ac</td>\n",
              "      <td>5.0</td>\n",
              "      <td>Yes</td>\n",
              "      <td>4.1</td>\n",
              "      <td>Multi-Format SD Media Card Reader</td>\n",
              "      <td>1</td>\n",
              "      <td>1.0</td>\n",
              "      <td>Yes</td>\n",
              "      <td>1.0</td>\n",
              "      <td>Yes</td>\n",
              "      <td>Yes</td>\n",
              "      <td>Yes</td>\n",
              "      <td>HD 720p</td>\n",
              "      <td>NaN</td>\n",
              "      <td>Stereo Speakers</td>\n",
              "      <td>Waves MaxxAudio Pro</td>\n",
              "      <td>Yes</td>\n",
              "      <td>Dual Array Digital Microphone</td>\n",
              "      <td>Touchpad with Multi-touch Gesture Support</td>\n",
              "      <td>Standard Notebook Keyboard</td>\n",
              "      <td>No</td>\n",
              "      <td>NaN</td>\n",
              "      <td>1 Year</td>\n",
              "      <td>Laptop, Battery, AC Adapter, User Guide</td>\n",
              "      <td>NaN</td>\n",
              "      <td>NaN</td>\n",
              "      <td>2 GB</td>\n",
              "      <td>32 GB</td>\n",
              "      <td>NaN</td>\n",
              "      <td>Yes</td>\n",
              "      <td>NaN</td>\n",
              "      <td>2 TB</td>\n",
              "      <td>5400 RPM</td>\n",
              "      <td>SATA</td>\n",
              "      <td>2.0</td>\n",
              "      <td>No</td>\n",
              "      <td>No</td>\n",
              "      <td>NaN</td>\n",
              "      <td>NaN</td>\n",
              "      <td>NaN</td>\n",
              "      <td>NaN</td>\n",
              "      <td>NaN</td>\n",
              "      <td>NaN</td>\n",
              "      <td>NaN</td>\n",
              "      <td>Available</td>\n",
              "      <td>54999.0</td>\n",
              "    </tr>\n",
              "    <tr>\n",
              "      <th>3</th>\n",
              "      <td>MSI</td>\n",
              "      <td>GV62 7RD-2297XIN</td>\n",
              "      <td>NaN</td>\n",
              "      <td>29 Millimeter thickness</td>\n",
              "      <td>383 x 260 x 29  mm</td>\n",
              "      <td>2.2 Kg weight</td>\n",
              "      <td>Black</td>\n",
              "      <td>DOS</td>\n",
              "      <td>64-bit</td>\n",
              "      <td>15.6 Inches (39.62 cm)</td>\n",
              "      <td>1920 x 1080 Pixels</td>\n",
              "      <td>141 ppi</td>\n",
              "      <td>LED</td>\n",
              "      <td>Full HD LED Backlit Wideview Anti-glare Display</td>\n",
              "      <td>No</td>\n",
              "      <td>Intel Core i7-7700HQ (7th Gen)</td>\n",
              "      <td>2.8 Ghz</td>\n",
              "      <td>NaN</td>\n",
              "      <td>6 MB</td>\n",
              "      <td>NVIDIA GeForce GTX 1050</td>\n",
              "      <td>8 GB</td>\n",
              "      <td>DDR4</td>\n",
              "      <td>2400 Mhz</td>\n",
              "      <td>1</td>\n",
              "      <td>1x8 Gigabyte</td>\n",
              "      <td>NaN</td>\n",
              "      <td>NaN</td>\n",
              "      <td>6 Cell</td>\n",
              "      <td>Li-Ion</td>\n",
              "      <td>NaN</td>\n",
              "      <td>802.11 a/b/g/n/ac</td>\n",
              "      <td>5.0</td>\n",
              "      <td>Yes</td>\n",
              "      <td>4.2</td>\n",
              "      <td>Multi-Format SD Media card Reader</td>\n",
              "      <td>1</td>\n",
              "      <td>1.0</td>\n",
              "      <td>Yes</td>\n",
              "      <td>1.0</td>\n",
              "      <td>Yes</td>\n",
              "      <td>Yes</td>\n",
              "      <td>Yes</td>\n",
              "      <td>720p HD</td>\n",
              "      <td>NaN</td>\n",
              "      <td>Quad Speakers</td>\n",
              "      <td>Nahimic 2 Audio Technology Delivering 360 Degr...</td>\n",
              "      <td>Yes</td>\n",
              "      <td>Digital Microphone</td>\n",
              "      <td>Touchpad with Multi-Touch Gestures Enabled</td>\n",
              "      <td>Steelseries Gaming Backlight Keyboard (Red Color)</td>\n",
              "      <td>No</td>\n",
              "      <td>NaN</td>\n",
              "      <td>1 Year</td>\n",
              "      <td>Laptop, Battery, AC Adapter, User Guide</td>\n",
              "      <td>NaN</td>\n",
              "      <td>NaN</td>\n",
              "      <td>4 GB</td>\n",
              "      <td>32 GB</td>\n",
              "      <td>NaN</td>\n",
              "      <td>Yes</td>\n",
              "      <td>NaN</td>\n",
              "      <td>1 TB</td>\n",
              "      <td>5400 RPM</td>\n",
              "      <td>SATA</td>\n",
              "      <td>2.0</td>\n",
              "      <td>No</td>\n",
              "      <td>No</td>\n",
              "      <td>NaN</td>\n",
              "      <td>NaN</td>\n",
              "      <td>NaN</td>\n",
              "      <td>NaN</td>\n",
              "      <td>NaN</td>\n",
              "      <td>NaN</td>\n",
              "      <td>NaN</td>\n",
              "      <td>Available</td>\n",
              "      <td>67990.0</td>\n",
              "    </tr>\n",
              "    <tr>\n",
              "      <th>4</th>\n",
              "      <td>Dell</td>\n",
              "      <td>15 3515 (D560702WIN9BE)</td>\n",
              "      <td>Inspiron 15</td>\n",
              "      <td>23 Millimeter thickness</td>\n",
              "      <td>358.50 x 17.50 x 23  mm</td>\n",
              "      <td>1.8 Kg weight</td>\n",
              "      <td>Carbon Black, Platinum Silver</td>\n",
              "      <td>Windows 11 Home Basic</td>\n",
              "      <td>64-bit</td>\n",
              "      <td>15.6 Inches (39.62 cm)</td>\n",
              "      <td>1920 x 1080 Pixels</td>\n",
              "      <td>141 ppi</td>\n",
              "      <td>NaN</td>\n",
              "      <td>HD AG Narrow Border</td>\n",
              "      <td>No</td>\n",
              "      <td>AMD Dual Core Athlon 3050U</td>\n",
              "      <td>NaN</td>\n",
              "      <td>NaN</td>\n",
              "      <td>4 MB</td>\n",
              "      <td>AMD Radeon</td>\n",
              "      <td>4 GB</td>\n",
              "      <td>DDR4</td>\n",
              "      <td>2666 Mhz</td>\n",
              "      <td>1</td>\n",
              "      <td>NaN</td>\n",
              "      <td>256 GB</td>\n",
              "      <td>NaN</td>\n",
              "      <td>3 Cell</td>\n",
              "      <td>NaN</td>\n",
              "      <td>65 W</td>\n",
              "      <td>802.11 a/b/g/n/ac</td>\n",
              "      <td>5.0</td>\n",
              "      <td>Yes</td>\n",
              "      <td>5.0</td>\n",
              "      <td>NaN</td>\n",
              "      <td>1</td>\n",
              "      <td>1.0</td>\n",
              "      <td>Yes</td>\n",
              "      <td>1.0</td>\n",
              "      <td>Yes</td>\n",
              "      <td>Yes</td>\n",
              "      <td>Yes</td>\n",
              "      <td>NaN</td>\n",
              "      <td>Waves Maxx Audio Pro</td>\n",
              "      <td>Built-in Speakers</td>\n",
              "      <td>NaN</td>\n",
              "      <td>NaN</td>\n",
              "      <td>NaN</td>\n",
              "      <td>Touchpad</td>\n",
              "      <td>English International Non Keyboard</td>\n",
              "      <td>NaN</td>\n",
              "      <td>NaN</td>\n",
              "      <td>1 Year</td>\n",
              "      <td>Laptop, battery, adapter, cables and user manuals</td>\n",
              "      <td>NaN</td>\n",
              "      <td>NaN</td>\n",
              "      <td>NaN</td>\n",
              "      <td>NaN</td>\n",
              "      <td>NaN</td>\n",
              "      <td>NaN</td>\n",
              "      <td>Yes, English International Non Backlit Keyboard</td>\n",
              "      <td>NaN</td>\n",
              "      <td>NaN</td>\n",
              "      <td>NaN</td>\n",
              "      <td>NaN</td>\n",
              "      <td>NaN</td>\n",
              "      <td>NaN</td>\n",
              "      <td>7 Hrs</td>\n",
              "      <td>2.0</td>\n",
              "      <td>NaN</td>\n",
              "      <td>NaN</td>\n",
              "      <td>NaN</td>\n",
              "      <td>NaN</td>\n",
              "      <td>NaN</td>\n",
              "      <td>Available</td>\n",
              "      <td>42210.0</td>\n",
              "    </tr>\n",
              "  </tbody>\n",
              "</table>\n",
              "</div>"
            ],
            "text/plain": [
              "  Brand                    Model                  Series  \\\n",
              "0    HP    14-dv0055TU (2N1L1PA)                Pavilion   \n",
              "1  Acer  PHN16-71 (NH.QLTSI.002)  Predator Helios Neo 16   \n",
              "2  Dell    15 5570 (A560126WIN9)             Inspiron 15   \n",
              "3   MSI         GV62 7RD-2297XIN                     NaN   \n",
              "4  Dell  15 3515 (D560702WIN9BE)             Inspiron 15   \n",
              "\n",
              "                   Thickness       Dimensions (WxDxH)  \\\n",
              "0    17 Millimeter thickness       325 x 216 x 17  mm   \n",
              "1  26.5 Millimeter thickness     361 x 279 x 26.5  mm   \n",
              "2  22.7 Millimeter thickness     380 x 258 x 22.7  mm   \n",
              "3    29 Millimeter thickness       383 x 260 x 29  mm   \n",
              "4    23 Millimeter thickness  358.50 x 17.50 x 23  mm   \n",
              "\n",
              "                          Weight                         Colors  \\\n",
              "0  1.41 Kg weight (Light-weight)                  Tranquil Pink   \n",
              "1                  2.6 Kg weight                          Black   \n",
              "2                  2.2 Kg weight                Platinum Silver   \n",
              "3                  2.2 Kg weight                          Black   \n",
              "4                  1.8 Kg weight  Carbon Black, Platinum Silver   \n",
              "\n",
              "        Operating System Operating System Type            Display Size  \\\n",
              "0  Windows 10 Home Basic                64-bit    14 Inches (35.56 cm)   \n",
              "1  Windows 11 Home Basic                   NaN    16 Inches (40.64 cm)   \n",
              "2  Windows 10 Home Basic                64-bit  15.6 Inches (39.62 cm)   \n",
              "3                    DOS                64-bit  15.6 Inches (39.62 cm)   \n",
              "4  Windows 11 Home Basic                64-bit  15.6 Inches (39.62 cm)   \n",
              "\n",
              "   Display Resolution Pixel Density Display Type  \\\n",
              "0  1920 x 1080 Pixels       157 ppi          LED   \n",
              "1  1920 x 1200 Pixels       142 ppi          NaN   \n",
              "2  1920 x 1080 Pixels       141 ppi          LED   \n",
              "3  1920 x 1080 Pixels       141 ppi          LED   \n",
              "4  1920 x 1080 Pixels       141 ppi          NaN   \n",
              "\n",
              "                                    Display Features Display Touchscreen  \\\n",
              "0  Full HD LED Backlit Anti-glare IPS Micro-edge ...                  No   \n",
              "1  Display with IPS (In-Plane Switching) Technolo...                  No   \n",
              "2             Full HD LED Backlit Anti-glare Display                  No   \n",
              "3    Full HD LED Backlit Wideview Anti-glare Display                  No   \n",
              "4                                HD AG Narrow Border                  No   \n",
              "\n",
              "                          Processor Clock-speed    Chipset Cache  \\\n",
              "0   Intel Core i5-1135G7 (11th Gen)     4.2 Ghz  Intel SoC  8 MB   \n",
              "1  Intel Core i7-13700HX (13th Gen)         NaN        NaN   NaN   \n",
              "2     Intel Core i5-8250U (8th Gen)     1.6 Ghz        NaN  6 MB   \n",
              "3    Intel Core i7-7700HQ (7th Gen)     2.8 Ghz        NaN  6 MB   \n",
              "4        AMD Dual Core Athlon 3050U         NaN        NaN  4 MB   \n",
              "\n",
              "         Graphic Processor Capacity RAM Type RAM Speed Memory Slots  \\\n",
              "0             Intel Iris X    16 GB     DDR4  3200 Mhz            2   \n",
              "1  NVIDIA GeForce RTX 4050    16 GB     DDR5       NaN            1   \n",
              "2           AMD Radeon 530     8 GB     DDR4  2400 Mhz            1   \n",
              "3  NVIDIA GeForce GTX 1050     8 GB     DDR4  2400 Mhz            1   \n",
              "4               AMD Radeon     4 GB     DDR4  2666 Mhz            1   \n",
              "\n",
              "    Memory Layout SSD Capacity    SSD Type Battery Cell Battery Type  \\\n",
              "0    2x8 Gigabyte       512 GB  M.2/Optane       3 Cell       Li-Ion   \n",
              "1   1*16 Gigabyte       512 GB         NaN       4 Cell       Li-Ion   \n",
              "2  1 x 8 Gigabyte          NaN         NaN       3 Cell       Li-Ion   \n",
              "3    1x8 Gigabyte          NaN         NaN       6 Cell       Li-Ion   \n",
              "4             NaN       256 GB         NaN       3 Cell          NaN   \n",
              "\n",
              "        Power Supply       Wireless LAN  Wi-Fi Version Bluetooth  \\\n",
              "0  43 W AC Adapter W    802.11 b/g/n/ax            6.0       Yes   \n",
              "1              230 W  802.11 a/b/g/n/ac            5.0       Yes   \n",
              "2  42 W AC Adapter W  802.11 a/b/g/n/ac            5.0       Yes   \n",
              "3                NaN  802.11 a/b/g/n/ac            5.0       Yes   \n",
              "4               65 W  802.11 a/b/g/n/ac            5.0       Yes   \n",
              "\n",
              "   Bluetooth Version           Other Networking Options HDMI Ports  \\\n",
              "0                5.0  Multi-Format SD media card reader          1   \n",
              "1                5.1                                NaN          1   \n",
              "2                4.1  Multi-Format SD Media Card Reader          1   \n",
              "3                4.2  Multi-Format SD Media card Reader          1   \n",
              "4                5.0                                NaN          1   \n",
              "\n",
              "   USB 2.0 slots SD Card Reader  Ethernet ports Headphone Jack  \\\n",
              "0            2.0            Yes             1.0            Yes   \n",
              "1            NaN            Yes             1.0            Yes   \n",
              "2            1.0            Yes             1.0            Yes   \n",
              "3            1.0            Yes             1.0            Yes   \n",
              "4            1.0            Yes             1.0            Yes   \n",
              "\n",
              "  Microphone Jack Web-cam Video Recording        Audio Solution  \\\n",
              "0             Yes     Yes         720p HD        HP Audio Boost   \n",
              "1             Yes     Yes            720p                   NaN   \n",
              "2             Yes     Yes         HD 720p                   NaN   \n",
              "3             Yes     Yes         720p HD                   NaN   \n",
              "4             Yes     Yes             NaN  Waves Maxx Audio Pro   \n",
              "\n",
              "            Speakers                                 Sound Technologies  \\\n",
              "0      Dual Speakers                                     Bang & Olufsen   \n",
              "1    Stereo Speakers                                                NaN   \n",
              "2    Stereo Speakers                                Waves MaxxAudio Pro   \n",
              "3      Quad Speakers  Nahimic 2 Audio Technology Delivering 360 Degr...   \n",
              "4  Built-in Speakers                                                NaN   \n",
              "\n",
              "  In-built Microphone                Microphone Type  \\\n",
              "0                 Yes  Dual Array Digital Microphone   \n",
              "1                 Yes           Built-In Microphones   \n",
              "2                 Yes  Dual Array Digital Microphone   \n",
              "3                 Yes             Digital Microphone   \n",
              "4                 NaN                            NaN   \n",
              "\n",
              "                                     Pointing device  \\\n",
              "0          Touchpad with Multi-touch Gesture Support   \n",
              "1  Multi-Gesture Touchpad, Supporting Two-Finger ...   \n",
              "2          Touchpad with Multi-touch Gesture Support   \n",
              "3         Touchpad with Multi-Touch Gestures Enabled   \n",
              "4                                           Touchpad   \n",
              "\n",
              "                                            Keyboard Fingerprint scanner  \\\n",
              "0                         Standard Notebook Keyboard                  No   \n",
              "1  103-/104-/107-Key FineTip RGB- Keyboard With I...                 NaN   \n",
              "2                         Standard Notebook Keyboard                  No   \n",
              "3  Steelseries Gaming Backlight Keyboard (Red Color)                  No   \n",
              "4                 English International Non Keyboard                 NaN   \n",
              "\n",
              "  Face Recognition Warranty  \\\n",
              "0              NaN   1 Year   \n",
              "1              NaN      NaN   \n",
              "2              NaN   1 Year   \n",
              "3              NaN   1 Year   \n",
              "4              NaN   1 Year   \n",
              "\n",
              "                                       Sales Package Refresh Rate Brightness  \\\n",
              "0            Laptop, Battery, AC Adapter, User Guide          NaN        NaN   \n",
              "1  Laptop, Power Adaptor, User Guide, Warranty Do...       165 Hz   400 nits   \n",
              "2            Laptop, Battery, AC Adapter, User Guide          NaN        NaN   \n",
              "3            Laptop, Battery, AC Adapter, User Guide          NaN        NaN   \n",
              "4  Laptop, battery, adapter, cables and user manuals          NaN        NaN   \n",
              "\n",
              "  Graphics Memory Expandable Memory Thunderbolt Port VGA Port  \\\n",
              "0             NaN               NaN              NaN      NaN   \n",
              "1            6 GB             32 GB              4.0       No   \n",
              "2            2 GB             32 GB              NaN      Yes   \n",
              "3            4 GB             32 GB              NaN      Yes   \n",
              "4             NaN               NaN              NaN      NaN   \n",
              "\n",
              "                                    Backlit Keyboard HDD Capacity  \\\n",
              "0                                                NaN          NaN   \n",
              "1  Yes, 103-/104-/107-Key FineTip RGB-Backlit Key...          NaN   \n",
              "2                                                NaN         2 TB   \n",
              "3                                                NaN         1 TB   \n",
              "4    Yes, English International Non Backlit Keyboard          NaN   \n",
              "\n",
              "  HDD Speed(RPM) HDD Type  USB 3.0 slots Secondary cam(Rear-facing) Lockport  \\\n",
              "0            NaN      NaN            NaN                        NaN      NaN   \n",
              "1            NaN      NaN            NaN                        NaN      NaN   \n",
              "2       5400 RPM     SATA            2.0                         No       No   \n",
              "3       5400 RPM     SATA            2.0                         No       No   \n",
              "4            NaN      NaN            NaN                        NaN      NaN   \n",
              "\n",
              "  Battery Life  USB Type C Battery Capacity Aspect Ratio  Number of Cores  \\\n",
              "0          NaN         NaN              NaN          NaN              NaN   \n",
              "1          NaN         NaN              NaN          NaN              NaN   \n",
              "2          NaN         NaN              NaN          NaN              NaN   \n",
              "3          NaN         NaN              NaN          NaN              NaN   \n",
              "4        7 Hrs         2.0              NaN          NaN              NaN   \n",
              "\n",
              "  SSD Interface Fast Charging Support market_status  Price (Rs)  \n",
              "0           NaN                   NaN     Available     71990.0  \n",
              "1           NaN                   NaN     Available    105999.0  \n",
              "2           NaN                   NaN     Available     54999.0  \n",
              "3           NaN                   NaN     Available     67990.0  \n",
              "4           NaN                   NaN     Available     42210.0  "
            ]
          },
          "execution_count": 3,
          "metadata": {},
          "output_type": "execute_result"
        }
      ],
      "source": [
        "df = pd.read_csv('./Data/laptop_dataset.csv')\n",
        "df.head(5)"
      ]
    },
    {
      "cell_type": "code",
      "execution_count": 4,
      "id": "0d5a2012",
      "metadata": {
        "colab": {
          "base_uri": "https://localhost:8080/"
        },
        "id": "0d5a2012",
        "outputId": "675e1a37-da4b-482c-cfa2-bbf8db44205f"
      },
      "outputs": [
        {
          "data": {
            "text/plain": [
              "(8198, 76)"
            ]
          },
          "execution_count": 4,
          "metadata": {},
          "output_type": "execute_result"
        }
      ],
      "source": [
        "df.shape"
      ]
    },
    {
      "cell_type": "code",
      "execution_count": 5,
      "id": "d13415fa",
      "metadata": {
        "colab": {
          "base_uri": "https://localhost:8080/",
          "height": 239
        },
        "id": "d13415fa",
        "outputId": "c42550c3-565f-46cd-e3c3-73bcd6e962cf"
      },
      "outputs": [
        {
          "data": {
            "text/html": [
              "<div>\n",
              "<style scoped>\n",
              "    .dataframe tbody tr th:only-of-type {\n",
              "        vertical-align: middle;\n",
              "    }\n",
              "\n",
              "    .dataframe tbody tr th {\n",
              "        vertical-align: top;\n",
              "    }\n",
              "\n",
              "    .dataframe thead th {\n",
              "        text-align: right;\n",
              "    }\n",
              "</style>\n",
              "<table border=\"1\" class=\"dataframe\">\n",
              "  <thead>\n",
              "    <tr style=\"text-align: right;\">\n",
              "      <th></th>\n",
              "      <th>Brand</th>\n",
              "      <th>Model</th>\n",
              "      <th>Series</th>\n",
              "      <th>Thickness</th>\n",
              "      <th>Dimensions (WxDxH)</th>\n",
              "      <th>Weight</th>\n",
              "      <th>Colors</th>\n",
              "      <th>Operating System</th>\n",
              "      <th>Operating System Type</th>\n",
              "      <th>Display Size</th>\n",
              "      <th>Display Resolution</th>\n",
              "      <th>Pixel Density</th>\n",
              "      <th>Display Type</th>\n",
              "      <th>Display Features</th>\n",
              "      <th>Display Touchscreen</th>\n",
              "      <th>Processor</th>\n",
              "      <th>Clock-speed</th>\n",
              "      <th>Chipset</th>\n",
              "      <th>Cache</th>\n",
              "      <th>Graphic Processor</th>\n",
              "      <th>Capacity</th>\n",
              "      <th>RAM Type</th>\n",
              "      <th>RAM Speed</th>\n",
              "      <th>Memory Slots</th>\n",
              "      <th>Memory Layout</th>\n",
              "      <th>SSD Capacity</th>\n",
              "      <th>SSD Type</th>\n",
              "      <th>Battery Cell</th>\n",
              "      <th>Battery Type</th>\n",
              "      <th>Power Supply</th>\n",
              "      <th>Wireless LAN</th>\n",
              "      <th>Wi-Fi Version</th>\n",
              "      <th>Bluetooth</th>\n",
              "      <th>Bluetooth Version</th>\n",
              "      <th>Other Networking Options</th>\n",
              "      <th>HDMI Ports</th>\n",
              "      <th>USB 2.0 slots</th>\n",
              "      <th>SD Card Reader</th>\n",
              "      <th>Ethernet ports</th>\n",
              "      <th>Headphone Jack</th>\n",
              "      <th>Microphone Jack</th>\n",
              "      <th>Web-cam</th>\n",
              "      <th>Video Recording</th>\n",
              "      <th>Audio Solution</th>\n",
              "      <th>Speakers</th>\n",
              "      <th>Sound Technologies</th>\n",
              "      <th>In-built Microphone</th>\n",
              "      <th>Microphone Type</th>\n",
              "      <th>Pointing device</th>\n",
              "      <th>Keyboard</th>\n",
              "      <th>Fingerprint scanner</th>\n",
              "      <th>Face Recognition</th>\n",
              "      <th>Warranty</th>\n",
              "      <th>Sales Package</th>\n",
              "      <th>Refresh Rate</th>\n",
              "      <th>Brightness</th>\n",
              "      <th>Graphics Memory</th>\n",
              "      <th>Expandable Memory</th>\n",
              "      <th>Thunderbolt Port</th>\n",
              "      <th>VGA Port</th>\n",
              "      <th>Backlit Keyboard</th>\n",
              "      <th>HDD Capacity</th>\n",
              "      <th>HDD Speed(RPM)</th>\n",
              "      <th>HDD Type</th>\n",
              "      <th>USB 3.0 slots</th>\n",
              "      <th>Secondary cam(Rear-facing)</th>\n",
              "      <th>Lockport</th>\n",
              "      <th>Battery Life</th>\n",
              "      <th>USB Type C</th>\n",
              "      <th>Battery Capacity</th>\n",
              "      <th>Aspect Ratio</th>\n",
              "      <th>Number of Cores</th>\n",
              "      <th>SSD Interface</th>\n",
              "      <th>Fast Charging Support</th>\n",
              "      <th>market_status</th>\n",
              "      <th>Price (Rs)</th>\n",
              "    </tr>\n",
              "  </thead>\n",
              "  <tbody>\n",
              "    <tr>\n",
              "      <th>5851</th>\n",
              "      <td>Lenovo</td>\n",
              "      <td>14IRL8 (82YL00AYIN)</td>\n",
              "      <td>Yoga 7</td>\n",
              "      <td>16.4 Millimeter thickness</td>\n",
              "      <td>317.87 x 222.50 x 16.4  mm</td>\n",
              "      <td>1.49 Kg weight (Light-weight)</td>\n",
              "      <td>Storm Grey</td>\n",
              "      <td>Windows 11 Home Basic</td>\n",
              "      <td>NaN</td>\n",
              "      <td>14 Inches (35.56 cm)</td>\n",
              "      <td>1920 x 1200 Pixels</td>\n",
              "      <td>162 ppi</td>\n",
              "      <td>OLED</td>\n",
              "      <td>WUXGA Glossy / Anti-fingerprint   100% DCI-P3 ...</td>\n",
              "      <td>Yes</td>\n",
              "      <td>Intel Core i5-1340P (13th Gen)</td>\n",
              "      <td>3.4 Ghz</td>\n",
              "      <td>Intel SoC Platform</td>\n",
              "      <td>12 MB</td>\n",
              "      <td>Intel Iris Xe</td>\n",
              "      <td>16 GB</td>\n",
              "      <td>LPDDR5</td>\n",
              "      <td>5200 Mhz</td>\n",
              "      <td>1</td>\n",
              "      <td>1*16 Gigabyte</td>\n",
              "      <td>512 GB</td>\n",
              "      <td>M.2/Optane</td>\n",
              "      <td>NaN</td>\n",
              "      <td>NaN</td>\n",
              "      <td>65 W</td>\n",
              "      <td>802.11 b/g/n/ax</td>\n",
              "      <td>6.0</td>\n",
              "      <td>Yes</td>\n",
              "      <td>5.2</td>\n",
              "      <td>NaN</td>\n",
              "      <td>Yes (HDMI 1.4)</td>\n",
              "      <td>NaN</td>\n",
              "      <td>Yes</td>\n",
              "      <td>NaN</td>\n",
              "      <td>Yes</td>\n",
              "      <td>Yes</td>\n",
              "      <td>Yes</td>\n",
              "      <td>1080p FHD</td>\n",
              "      <td>Dolby Atmos</td>\n",
              "      <td>Stereo Speakers, 2W x2</td>\n",
              "      <td>Smart Amplifier (AMP), High Definition (HD) Au...</td>\n",
              "      <td>Yes</td>\n",
              "      <td>2x, Array</td>\n",
              "      <td>Buttonless Glass-Like Mylar Surface Multi-Touc...</td>\n",
              "      <td>, English</td>\n",
              "      <td>No</td>\n",
              "      <td>Yes</td>\n",
              "      <td>1 Year</td>\n",
              "      <td>Laptop, Power Adapter, User Manual, Warranty Card</td>\n",
              "      <td>60 Hz</td>\n",
              "      <td>400 nits</td>\n",
              "      <td>NaN</td>\n",
              "      <td>NaN</td>\n",
              "      <td>4.0</td>\n",
              "      <td>No</td>\n",
              "      <td>Yes, Backlit, English</td>\n",
              "      <td>NaN</td>\n",
              "      <td>NaN</td>\n",
              "      <td>NaN</td>\n",
              "      <td>NaN</td>\n",
              "      <td>NaN</td>\n",
              "      <td>NaN</td>\n",
              "      <td>NaN</td>\n",
              "      <td>NaN</td>\n",
              "      <td>71 WHrs</td>\n",
              "      <td>NaN</td>\n",
              "      <td>12.0</td>\n",
              "      <td>NaN</td>\n",
              "      <td>NaN</td>\n",
              "      <td>Available</td>\n",
              "      <td>86190.0</td>\n",
              "    </tr>\n",
              "  </tbody>\n",
              "</table>\n",
              "</div>"
            ],
            "text/plain": [
              "       Brand                Model  Series                  Thickness  \\\n",
              "5851  Lenovo  14IRL8 (82YL00AYIN)  Yoga 7  16.4 Millimeter thickness   \n",
              "\n",
              "              Dimensions (WxDxH)                         Weight      Colors  \\\n",
              "5851  317.87 x 222.50 x 16.4  mm  1.49 Kg weight (Light-weight)  Storm Grey   \n",
              "\n",
              "           Operating System Operating System Type          Display Size  \\\n",
              "5851  Windows 11 Home Basic                   NaN  14 Inches (35.56 cm)   \n",
              "\n",
              "      Display Resolution Pixel Density Display Type  \\\n",
              "5851  1920 x 1200 Pixels       162 ppi         OLED   \n",
              "\n",
              "                                       Display Features Display Touchscreen  \\\n",
              "5851  WUXGA Glossy / Anti-fingerprint   100% DCI-P3 ...                 Yes   \n",
              "\n",
              "                           Processor Clock-speed             Chipset  Cache  \\\n",
              "5851  Intel Core i5-1340P (13th Gen)     3.4 Ghz  Intel SoC Platform  12 MB   \n",
              "\n",
              "     Graphic Processor Capacity RAM Type RAM Speed Memory Slots  \\\n",
              "5851     Intel Iris Xe    16 GB   LPDDR5  5200 Mhz            1   \n",
              "\n",
              "      Memory Layout SSD Capacity    SSD Type Battery Cell Battery Type  \\\n",
              "5851  1*16 Gigabyte       512 GB  M.2/Optane          NaN          NaN   \n",
              "\n",
              "     Power Supply     Wireless LAN  Wi-Fi Version Bluetooth  \\\n",
              "5851         65 W  802.11 b/g/n/ax            6.0       Yes   \n",
              "\n",
              "      Bluetooth Version Other Networking Options      HDMI Ports  \\\n",
              "5851                5.2                      NaN  Yes (HDMI 1.4)   \n",
              "\n",
              "      USB 2.0 slots SD Card Reader  Ethernet ports Headphone Jack  \\\n",
              "5851            NaN            Yes             NaN            Yes   \n",
              "\n",
              "     Microphone Jack Web-cam Video Recording Audio Solution  \\\n",
              "5851             Yes     Yes       1080p FHD    Dolby Atmos   \n",
              "\n",
              "                    Speakers  \\\n",
              "5851  Stereo Speakers, 2W x2   \n",
              "\n",
              "                                     Sound Technologies In-built Microphone  \\\n",
              "5851  Smart Amplifier (AMP), High Definition (HD) Au...                 Yes   \n",
              "\n",
              "     Microphone Type                                    Pointing device  \\\n",
              "5851       2x, Array  Buttonless Glass-Like Mylar Surface Multi-Touc...   \n",
              "\n",
              "       Keyboard Fingerprint scanner Face Recognition Warranty  \\\n",
              "5851  , English                  No              Yes   1 Year   \n",
              "\n",
              "                                          Sales Package Refresh Rate  \\\n",
              "5851  Laptop, Power Adapter, User Manual, Warranty Card        60 Hz   \n",
              "\n",
              "     Brightness Graphics Memory Expandable Memory Thunderbolt Port VGA Port  \\\n",
              "5851   400 nits             NaN               NaN              4.0       No   \n",
              "\n",
              "           Backlit Keyboard HDD Capacity HDD Speed(RPM) HDD Type  \\\n",
              "5851  Yes, Backlit, English          NaN            NaN      NaN   \n",
              "\n",
              "      USB 3.0 slots Secondary cam(Rear-facing) Lockport Battery Life  \\\n",
              "5851            NaN                        NaN      NaN          NaN   \n",
              "\n",
              "      USB Type C Battery Capacity Aspect Ratio  Number of Cores SSD Interface  \\\n",
              "5851         NaN          71 WHrs          NaN             12.0           NaN   \n",
              "\n",
              "     Fast Charging Support market_status  Price (Rs)  \n",
              "5851                   NaN     Available     86190.0  "
            ]
          },
          "execution_count": 5,
          "metadata": {},
          "output_type": "execute_result"
        }
      ],
      "source": [
        "df[df.duplicated()]"
      ]
    },
    {
      "cell_type": "code",
      "execution_count": 6,
      "id": "fd26aa97",
      "metadata": {
        "id": "fd26aa97"
      },
      "outputs": [],
      "source": [
        "df.drop_duplicates(inplace= True)"
      ]
    },
    {
      "cell_type": "code",
      "execution_count": 7,
      "id": "2444cd20",
      "metadata": {
        "colab": {
          "base_uri": "https://localhost:8080/",
          "height": 335
        },
        "id": "2444cd20",
        "outputId": "e3c9f307-b792-4051-bc9f-9626f457dce1"
      },
      "outputs": [
        {
          "data": {
            "text/plain": [
              "count      8176.000000\n",
              "mean      80851.392857\n",
              "std       59393.891230\n",
              "min        8990.000000\n",
              "25%       42490.000000\n",
              "50%       64989.000000\n",
              "75%       96992.250000\n",
              "max      499990.000000\n",
              "Name: Price (Rs), dtype: float64"
            ]
          },
          "execution_count": 7,
          "metadata": {},
          "output_type": "execute_result"
        }
      ],
      "source": [
        "df['Price (Rs)'].describe()"
      ]
    },
    {
      "cell_type": "code",
      "execution_count": 8,
      "id": "b2b0a1ec",
      "metadata": {
        "colab": {
          "base_uri": "https://localhost:8080/",
          "height": 1000
        },
        "id": "b2b0a1ec",
        "outputId": "225c7f0a-58f9-4cc8-ca16-7ea0303c6de5"
      },
      "outputs": [
        {
          "data": {
            "text/plain": [
              "Operating System Type         42.930340\n",
              "Display Type                  47.456386\n",
              "Chipset                       87.190436\n",
              "RAM Speed                     37.733317\n",
              "SSD Type                      70.074417\n",
              "Other Networking Options      69.037453\n",
              "USB 2.0 slots                 60.656338\n",
              "SD Card Reader                45.284860\n",
              "Ethernet ports                57.984629\n",
              "Audio Solution                67.854093\n",
              "Sound Technologies            55.691107\n",
              "Fingerprint scanner           32.792485\n",
              "Face Recognition              69.122850\n",
              "Refresh Rate                  61.961693\n",
              "Brightness                    71.074783\n",
              "Graphics Memory               62.461876\n",
              "Expandable Memory             60.534342\n",
              "Thunderbolt Port              87.898011\n",
              "VGA Port                      53.055996\n",
              "Backlit Keyboard              43.881908\n",
              "HDD Capacity                  77.381969\n",
              "HDD Speed(RPM)                78.821520\n",
              "HDD Type                      78.906917\n",
              "USB 3.0 slots                 72.880322\n",
              "Secondary cam(Rear-facing)    60.570941\n",
              "Lockport                      81.285836\n",
              "Battery Life                  66.792729\n",
              "USB Type C                    36.671953\n",
              "Battery Capacity              70.074417\n",
              "Aspect Ratio                  83.786751\n",
              "Number of Cores               64.328413\n",
              "SSD Interface                 74.954252\n",
              "Fast Charging Support         88.532390\n",
              "dtype: float64"
            ]
          },
          "execution_count": 8,
          "metadata": {},
          "output_type": "execute_result"
        }
      ],
      "source": [
        "df.isnull().mean()[df.isnull().mean() > 0.3] * 100"
      ]
    },
    {
      "cell_type": "code",
      "execution_count": 9,
      "id": "4981c3d5",
      "metadata": {
        "colab": {
          "base_uri": "https://localhost:8080/"
        },
        "id": "4981c3d5",
        "outputId": "7e81fe21-bc5e-4bd9-a9ee-b3c342c52786"
      },
      "outputs": [
        {
          "data": {
            "text/plain": [
              "np.int64(33)"
            ]
          },
          "execution_count": 9,
          "metadata": {},
          "output_type": "execute_result"
        }
      ],
      "source": [
        "(df.isnull().mean()[df.isnull().mean() > 0.3] * 100).count()"
      ]
    },
    {
      "cell_type": "code",
      "execution_count": 10,
      "id": "3bc42a6d",
      "metadata": {
        "id": "3bc42a6d"
      },
      "outputs": [],
      "source": [
        "col_name = df.isnull().mean()[df.isnull().mean() > 0.3].index\n",
        "df2 = df.drop(columns= col_name)"
      ]
    },
    {
      "cell_type": "markdown",
      "id": "9b695069",
      "metadata": {
        "id": "9b695069"
      },
      "source": [
        "In our dataset, 33 columns have more than 30% missing values. These columns primarily contain optional or rarely filled-in specs (like VGA ports, rear cameras, or lockports), which are not critical for predicting laptop price. Hence, we will drop them to simplify the dataset.\n",
        "\n",
        "However, there's an exception:\n",
        "\n",
        "-Graphics Memory\n",
        "\n",
        "--Although this column has more than 60% missing values, in this case, NaN means that the laptop does not have a dedicated GPU.\n",
        "\n",
        "--So, instead of dropping this column, we will replace all NaN values with 0, indicating no graphics memory."
      ]
    },
    {
      "cell_type": "code",
      "execution_count": 11,
      "id": "21acdfef",
      "metadata": {
        "colab": {
          "base_uri": "https://localhost:8080/"
        },
        "id": "21acdfef",
        "outputId": "68d4fb41-7b92-446d-dadd-8a970024607f"
      },
      "outputs": [
        {
          "name": "stdout",
          "output_type": "stream",
          "text": [
            "<class 'pandas.core.frame.DataFrame'>\n",
            "Index: 8197 entries, 0 to 8197\n",
            "Data columns (total 43 columns):\n",
            " #   Column               Non-Null Count  Dtype  \n",
            "---  ------               --------------  -----  \n",
            " 0   Brand                8197 non-null   object \n",
            " 1   Model                8197 non-null   object \n",
            " 2   Series               7104 non-null   object \n",
            " 3   Thickness            7517 non-null   object \n",
            " 4   Dimensions (WxDxH)   7515 non-null   object \n",
            " 5   Weight               7890 non-null   object \n",
            " 6   Colors               8021 non-null   object \n",
            " 7   Operating System     8197 non-null   object \n",
            " 8   Display Size         8194 non-null   object \n",
            " 9   Display Resolution   8165 non-null   object \n",
            " 10  Pixel Density        8163 non-null   object \n",
            " 11  Display Features     8065 non-null   object \n",
            " 12  Display Touchscreen  8115 non-null   object \n",
            " 13  Processor            8197 non-null   object \n",
            " 14  Clock-speed          7726 non-null   object \n",
            " 15  Cache                6626 non-null   object \n",
            " 16  Graphic Processor    8105 non-null   object \n",
            " 17  Capacity             8197 non-null   object \n",
            " 18  RAM Type             8027 non-null   object \n",
            " 19  Memory Slots         8133 non-null   object \n",
            " 20  Memory Layout        8041 non-null   object \n",
            " 21  SSD Capacity         6863 non-null   object \n",
            " 22  Battery Cell         6892 non-null   object \n",
            " 23  Battery Type         7461 non-null   object \n",
            " 24  Power Supply         6780 non-null   object \n",
            " 25  Wireless LAN         8123 non-null   object \n",
            " 26  Wi-Fi Version        8123 non-null   float64\n",
            " 27  Bluetooth            8148 non-null   object \n",
            " 28  Bluetooth Version    7379 non-null   float64\n",
            " 29  HDMI Ports           7440 non-null   object \n",
            " 30  Headphone Jack       8183 non-null   object \n",
            " 31  Microphone Jack      8180 non-null   object \n",
            " 32  Web-cam              7922 non-null   object \n",
            " 33  Video Recording      7041 non-null   object \n",
            " 34  Speakers             8088 non-null   object \n",
            " 35  In-built Microphone  8009 non-null   object \n",
            " 36  Microphone Type      7959 non-null   object \n",
            " 37  Pointing device      5877 non-null   object \n",
            " 38  Keyboard             7119 non-null   object \n",
            " 39  Warranty             7739 non-null   object \n",
            " 40  Sales Package        8183 non-null   object \n",
            " 41  market_status        8197 non-null   object \n",
            " 42  Price (Rs)           8176 non-null   float64\n",
            "dtypes: float64(3), object(40)\n",
            "memory usage: 2.8+ MB\n"
          ]
        }
      ],
      "source": [
        "df2.info()"
      ]
    },
    {
      "cell_type": "code",
      "execution_count": 12,
      "id": "ccfaefe1",
      "metadata": {
        "colab": {
          "base_uri": "https://localhost:8080/"
        },
        "id": "ccfaefe1",
        "outputId": "35e59e56-0555-43c8-d9c4-408e44d4f75c"
      },
      "outputs": [
        {
          "data": {
            "text/plain": [
              "21"
            ]
          },
          "execution_count": 12,
          "metadata": {},
          "output_type": "execute_result"
        }
      ],
      "source": [
        "target_value_null = df2[df2['Price (Rs)'].isna()]\n",
        "len(target_value_null)"
      ]
    },
    {
      "cell_type": "code",
      "execution_count": 13,
      "id": "d579a120",
      "metadata": {
        "id": "d579a120"
      },
      "outputs": [],
      "source": [
        "df2 = df2.dropna(subset=['Price (Rs)'])"
      ]
    },
    {
      "cell_type": "markdown",
      "id": "8b597ca6",
      "metadata": {
        "id": "8b597ca6"
      },
      "source": [
        "There are 21 rows in our dataset where the target variable Price (Rs) is missing. These entries are not useful for training a machine learning model, as we don't know what we're trying to predict.\n",
        "\n",
        "However, they can still be useful later (e.g. for making predictions on unknown data). So we’ll:\n",
        "\n",
        "- Save them separately in a variable called target_value_null.\n",
        "\n",
        "- Drop them from the main training dataset."
      ]
    },
    {
      "cell_type": "markdown",
      "id": "3a319ae2",
      "metadata": {
        "id": "3a319ae2"
      },
      "source": [
        "##########################################################################\n",
        "# EDA For OS"
      ]
    },
    {
      "cell_type": "code",
      "execution_count": 14,
      "id": "24855ecb",
      "metadata": {
        "colab": {
          "base_uri": "https://localhost:8080/"
        },
        "id": "24855ecb",
        "outputId": "0ed1ae07-bb1b-4012-f8ec-308e95ec9ea9"
      },
      "outputs": [
        {
          "data": {
            "text/plain": [
              "np.int64(0)"
            ]
          },
          "execution_count": 14,
          "metadata": {},
          "output_type": "execute_result"
        }
      ],
      "source": [
        "df2['Operating System'].isna().sum()"
      ]
    },
    {
      "cell_type": "code",
      "execution_count": 15,
      "id": "fb26ed09",
      "metadata": {
        "colab": {
          "base_uri": "https://localhost:8080/"
        },
        "id": "fb26ed09",
        "outputId": "9a740eba-8e7b-454e-ce13-0a3168be8f0c"
      },
      "outputs": [
        {
          "data": {
            "text/plain": [
              "32"
            ]
          },
          "execution_count": 15,
          "metadata": {},
          "output_type": "execute_result"
        }
      ],
      "source": [
        "df2['Operating System'].nunique()"
      ]
    },
    {
      "cell_type": "code",
      "execution_count": 16,
      "id": "ef90d37f",
      "metadata": {
        "colab": {
          "base_uri": "https://localhost:8080/"
        },
        "id": "ef90d37f",
        "outputId": "7caa598d-6b87-43ce-9a26-30b3b60861d0"
      },
      "outputs": [
        {
          "data": {
            "text/plain": [
              "array(['Windows 10 Home Basic', 'Windows 11 Home Basic', 'DOS',\n",
              "       'Windows 10 Professional', 'Linux', 'Google Chrome', 'Windows 10',\n",
              "       'Windows 11', 'macOS Sonoma', 'macOS Catalina', 'macOS Big Sur',\n",
              "       'macOS Mojave', 'macOS Monterey Home Basic', 'Windows 8.1',\n",
              "       'Windows 8', 'Windows 11 Professional', 'Windows 8.1 Professional',\n",
              "       'Google Chrome Home Basic', 'macOS Monterey', 'macOS Sequoia',\n",
              "       'Prime OS Home Basic', 'Ubuntu', 'DOS Professional',\n",
              "       'Windows 10 Home Premium', 'macOS Ventura', 'DOS Home Basic',\n",
              "       'macOS High Sierra', 'Jio OS', 'macOS Sierra',\n",
              "       'MAC OS X El Capitan', 'Windows 11 Home Premium', 'Home Basic'],\n",
              "      dtype=object)"
            ]
          },
          "execution_count": 16,
          "metadata": {},
          "output_type": "execute_result"
        }
      ],
      "source": [
        "df2['Operating System'].unique()"
      ]
    },
    {
      "cell_type": "code",
      "execution_count": 17,
      "id": "2508ffef",
      "metadata": {
        "id": "2508ffef"
      },
      "outputs": [],
      "source": [
        "def operating_system(os):\n",
        "    if os == 'Windows 10 Home Basic' or os == 'Windows 10 Professional' or os == 'Windows 10' or os == 'Windows 10 Home Premium':\n",
        "        return \"Win 10\"\n",
        "    elif os == 'Windows 11 Home Basic' or os == 'Windows 11' or os == 'Windows 11 Professional' or os == 'Windows 11 Home Premium':\n",
        "        return \"Win 11\"\n",
        "    elif os == 'DOS' or os == 'DOS Professional' or os == 'DOS Home Basic':\n",
        "        return \"DOS\"\n",
        "    elif os == 'Linux' or os == 'Ubuntu':\n",
        "        return \"Linux\"\n",
        "    elif os == 'Google Chrome' or os == 'Google Chrome Home Basic':\n",
        "        return \"Chorme OS\"\n",
        "    elif os == 'macOS Sonoma' or os == 'macOS Catalina' or os == 'macOS Big Sur' or os == 'macOS Mojave' or os == 'macOS Monterey Home Basic' or os == 'macOS Monterey' or os == 'macOS Sequoia' or os == 'macOS Ventura' or os == 'macOS High Sierra' or os == 'macOS Sierra' or os == 'MAC OS X El Capitan':\n",
        "        return \"MAC OS\"\n",
        "    else:\n",
        "        return \"Other\""
      ]
    },
    {
      "cell_type": "code",
      "execution_count": 18,
      "id": "69fdaf21",
      "metadata": {
        "id": "69fdaf21"
      },
      "outputs": [],
      "source": [
        "df2['OS'] = df2['Operating System'].apply(operating_system)\n",
        "df2['OS'] = df2['OS'].str.lower()\n",
        "df2.drop(columns= ['Operating System'], inplace= True)"
      ]
    },
    {
      "cell_type": "code",
      "execution_count": 19,
      "id": "5cab1d76",
      "metadata": {
        "colab": {
          "base_uri": "https://localhost:8080/",
          "height": 507
        },
        "id": "5cab1d76",
        "outputId": "78b94a8d-1159-4253-856c-e4c8f9fa80fd"
      },
      "outputs": [
        {
          "data": {
            "image/png": "[encoded data removed]",
            "text/plain": [
              "<Figure size 1000x500 with 1 Axes>"
            ]
          },
          "metadata": {},
          "output_type": "display_data"
        }
      ],
      "source": [
        "plt.figure(figsize=(10, 5))\n",
        "sns.boxplot(data=df2, x='OS', y='Price (Rs)')\n",
        "plt.xticks(rotation=45)\n",
        "plt.title('Price Distribution by Operating System')\n",
        "plt.ylabel('Price (Rs)')\n",
        "plt.xlabel('Operating System')\n",
        "plt.tight_layout()\n",
        "plt.show()"
      ]
    },
    {
      "cell_type": "markdown",
      "id": "7a16086d",
      "metadata": {
        "id": "7a16086d"
      },
      "source": [
        "Although the original Operating System column had no missing values, it contained excessively detailed version info (e.g., Windows 10 Home Basic, Windows 11 Pro, etc.) that isn't typically a major concern for general buyers. To simplify:\n",
        "\n",
        "We created a new column called Common OS, which groups similar entries under clean categories like:\n",
        "\n",
        "Win 10, Win 11, MAC OS, DOS, Linux, etc.\n",
        "\n",
        "This allows us to better analyze price trends by OS type."
      ]
    },
    {
      "cell_type": "markdown",
      "id": "51a5bb8f",
      "metadata": {
        "id": "51a5bb8f"
      },
      "source": [
        "Insights from the Boxplot:\n",
        "\n",
        "Windows 10 and Windows 11 show a very wide price range, from entry-level laptops to premium models—this reflects their dominance across different price segments.\n",
        "\n",
        "MAC OS generally commands a higher average price, with less variation.\n",
        "\n",
        "Linux, Chrome OS, and DOS laptops tend to cluster at the lower end of the price spectrum."
      ]
    },
    {
      "cell_type": "markdown",
      "id": "ab6d7bf9",
      "metadata": {
        "id": "ab6d7bf9"
      },
      "source": [
        "# OS EDA End"
      ]
    },
    {
      "cell_type": "markdown",
      "id": "110947ad",
      "metadata": {
        "id": "110947ad"
      },
      "source": [
        "#############################################################\n",
        "# EDA For Weights"
      ]
    },
    {
      "cell_type": "code",
      "execution_count": 20,
      "id": "8efb2616",
      "metadata": {
        "colab": {
          "base_uri": "https://localhost:8080/"
        },
        "id": "8efb2616",
        "outputId": "2d8c903c-0c37-4080-9956-e1598bc7c5a6"
      },
      "outputs": [
        {
          "data": {
            "text/plain": [
              "np.int64(306)"
            ]
          },
          "execution_count": 20,
          "metadata": {},
          "output_type": "execute_result"
        }
      ],
      "source": [
        "df2.Weight.isnull().sum()"
      ]
    },
    {
      "cell_type": "code",
      "execution_count": 21,
      "id": "598500bd",
      "metadata": {
        "id": "598500bd"
      },
      "outputs": [],
      "source": [
        "df2['Weight'] = df2['Weight'].str.split(' ').str[0]\n",
        "df2['Weight'] = df2['Weight'].astype('float32')"
      ]
    },
    {
      "cell_type": "code",
      "execution_count": 22,
      "id": "d1e0e376",
      "metadata": {
        "colab": {
          "base_uri": "https://localhost:8080/",
          "height": 335
        },
        "id": "d1e0e376",
        "outputId": "b06b592d-1a15-4b90-9297-850c583f8599"
      },
      "outputs": [
        {
          "data": {
            "text/plain": [
              "count    7870.000000\n",
              "mean        1.824773\n",
              "std         0.447162\n",
              "min         0.510000\n",
              "25%         1.500000\n",
              "50%         1.750000\n",
              "75%         2.190000\n",
              "max         5.500000\n",
              "Name: Weight, dtype: float64"
            ]
          },
          "execution_count": 22,
          "metadata": {},
          "output_type": "execute_result"
        }
      ],
      "source": [
        "df2['Weight'].describe()"
      ]
    },
    {
      "cell_type": "code",
      "execution_count": 23,
      "id": "2f6fbcd4",
      "metadata": {
        "colab": {
          "base_uri": "https://localhost:8080/",
          "height": 430
        },
        "id": "2f6fbcd4",
        "outputId": "2f28e890-62d6-4055-adf7-cc36295176b5"
      },
      "outputs": [
        {
          "data": {
            "image/png": "[encoded data removed]",
            "text/plain": [
              "<Figure size 640x480 with 1 Axes>"
            ]
          },
          "metadata": {},
          "output_type": "display_data"
        }
      ],
      "source": [
        "plt.hist(df2['Weight'])\n",
        "plt.show()"
      ]
    },
    {
      "cell_type": "code",
      "execution_count": 24,
      "id": "a6bbb4e3",
      "metadata": {
        "colab": {
          "base_uri": "https://localhost:8080/",
          "height": 428
        },
        "id": "a6bbb4e3",
        "outputId": "4f5443b9-bc12-4184-9d08-c57247103422"
      },
      "outputs": [
        {
          "data": {
            "text/plain": [
              "<Axes: ylabel='Weight'>"
            ]
          },
          "execution_count": 24,
          "metadata": {},
          "output_type": "execute_result"
        },
        {
          "data": {
            "image/png": "[encoded data removed]",
            "text/plain": [
              "<Figure size 640x480 with 1 Axes>"
            ]
          },
          "metadata": {},
          "output_type": "display_data"
        }
      ],
      "source": [
        "sns.boxplot(df2['Weight'])"
      ]
    },
    {
      "cell_type": "code",
      "execution_count": 25,
      "id": "47537189",
      "metadata": {
        "id": "47537189"
      },
      "outputs": [],
      "source": [
        "df2['Weight'].fillna(df2['Weight'].median(), inplace= True)"
      ]
    },
    {
      "cell_type": "code",
      "execution_count": 26,
      "id": "da332c34",
      "metadata": {
        "colab": {
          "base_uri": "https://localhost:8080/"
        },
        "id": "da332c34",
        "outputId": "4d529c8d-df95-42db-d642-797e67709feb"
      },
      "outputs": [
        {
          "data": {
            "text/plain": [
              "np.int64(0)"
            ]
          },
          "execution_count": 26,
          "metadata": {},
          "output_type": "execute_result"
        }
      ],
      "source": [
        "df2.Weight.isnull().sum()"
      ]
    },
    {
      "cell_type": "markdown",
      "id": "e48a96d7",
      "metadata": {
        "id": "e48a96d7"
      },
      "source": [
        "The Weight column contains 306 missing values. Since there are a extreme outliers (very heavy laptops), using the mean could be misleading.\n",
        "\n",
        "Instead, we chose to use the median to impute missing weights. The median is more robust to outliers and better reflects the central tendency of the data.\n",
        "\n",
        "Also, from a user’s perspective, purchase decisions are typically based more on model configuration and performance rather than small differences in weight, making median imputation a reasonable choice."
      ]
    },
    {
      "cell_type": "markdown",
      "id": "ed09c92c",
      "metadata": {
        "id": "ed09c92c"
      },
      "source": [
        "# EDA Weight End"
      ]
    },
    {
      "cell_type": "markdown",
      "id": "ae99e593",
      "metadata": {
        "id": "ae99e593"
      },
      "source": [
        "####################################################\n",
        "# EDA for Display"
      ]
    },
    {
      "cell_type": "code",
      "execution_count": 27,
      "id": "423dab92",
      "metadata": {
        "colab": {
          "base_uri": "https://localhost:8080/"
        },
        "id": "423dab92",
        "outputId": "07097932-c83d-4f3f-c91b-bc33f70a2811"
      },
      "outputs": [
        {
          "data": {
            "text/plain": [
              "np.int64(3)"
            ]
          },
          "execution_count": 27,
          "metadata": {},
          "output_type": "execute_result"
        }
      ],
      "source": [
        "df2['Display Size'].isna().sum()"
      ]
    },
    {
      "cell_type": "code",
      "execution_count": 28,
      "id": "eb7b9b48",
      "metadata": {
        "colab": {
          "base_uri": "https://localhost:8080/",
          "height": 510
        },
        "id": "eb7b9b48",
        "outputId": "f6641d02-5a5c-44ef-e064-cec56d16e118"
      },
      "outputs": [
        {
          "data": {
            "text/html": [
              "<div>\n",
              "<style scoped>\n",
              "    .dataframe tbody tr th:only-of-type {\n",
              "        vertical-align: middle;\n",
              "    }\n",
              "\n",
              "    .dataframe tbody tr th {\n",
              "        vertical-align: top;\n",
              "    }\n",
              "\n",
              "    .dataframe thead th {\n",
              "        text-align: right;\n",
              "    }\n",
              "</style>\n",
              "<table border=\"1\" class=\"dataframe\">\n",
              "  <thead>\n",
              "    <tr style=\"text-align: right;\">\n",
              "      <th></th>\n",
              "      <th>Brand</th>\n",
              "      <th>Model</th>\n",
              "      <th>Series</th>\n",
              "      <th>Thickness</th>\n",
              "      <th>Dimensions (WxDxH)</th>\n",
              "      <th>Weight</th>\n",
              "      <th>Colors</th>\n",
              "      <th>Display Size</th>\n",
              "      <th>Display Resolution</th>\n",
              "      <th>Pixel Density</th>\n",
              "      <th>Display Features</th>\n",
              "      <th>Display Touchscreen</th>\n",
              "      <th>Processor</th>\n",
              "      <th>Clock-speed</th>\n",
              "      <th>Cache</th>\n",
              "      <th>Graphic Processor</th>\n",
              "      <th>Capacity</th>\n",
              "      <th>RAM Type</th>\n",
              "      <th>Memory Slots</th>\n",
              "      <th>Memory Layout</th>\n",
              "      <th>SSD Capacity</th>\n",
              "      <th>Battery Cell</th>\n",
              "      <th>Battery Type</th>\n",
              "      <th>Power Supply</th>\n",
              "      <th>Wireless LAN</th>\n",
              "      <th>Wi-Fi Version</th>\n",
              "      <th>Bluetooth</th>\n",
              "      <th>Bluetooth Version</th>\n",
              "      <th>HDMI Ports</th>\n",
              "      <th>Headphone Jack</th>\n",
              "      <th>Microphone Jack</th>\n",
              "      <th>Web-cam</th>\n",
              "      <th>Video Recording</th>\n",
              "      <th>Speakers</th>\n",
              "      <th>In-built Microphone</th>\n",
              "      <th>Microphone Type</th>\n",
              "      <th>Pointing device</th>\n",
              "      <th>Keyboard</th>\n",
              "      <th>Warranty</th>\n",
              "      <th>Sales Package</th>\n",
              "      <th>market_status</th>\n",
              "      <th>Price (Rs)</th>\n",
              "      <th>OS</th>\n",
              "    </tr>\n",
              "  </thead>\n",
              "  <tbody>\n",
              "    <tr>\n",
              "      <th>797</th>\n",
              "      <td>Lenovo</td>\n",
              "      <td>15AMN7 (82VG00J5IN)</td>\n",
              "      <td>IdeaPad 1</td>\n",
              "      <td>18 Millimeter thickness</td>\n",
              "      <td>360 x 236 x 18  mm</td>\n",
              "      <td>1.58</td>\n",
              "      <td>15.6</td>\n",
              "      <td>NaN</td>\n",
              "      <td>1920 x 1080 Pixels</td>\n",
              "      <td>NaN</td>\n",
              "      <td>NaN</td>\n",
              "      <td>No</td>\n",
              "      <td>AMD Quad-Core Ryzen 5 - 7520U</td>\n",
              "      <td>2.8 Ghz</td>\n",
              "      <td>NaN</td>\n",
              "      <td>AMD Radeon 610</td>\n",
              "      <td>8 GB</td>\n",
              "      <td>LPDDR5</td>\n",
              "      <td>1</td>\n",
              "      <td>1*8 Gigabyte</td>\n",
              "      <td>512 GB</td>\n",
              "      <td>3 Cell</td>\n",
              "      <td>NaN</td>\n",
              "      <td>NaN</td>\n",
              "      <td>802.11 b/g/n/ax</td>\n",
              "      <td>6.0</td>\n",
              "      <td>Yes</td>\n",
              "      <td>5.2</td>\n",
              "      <td>Yes (HDMI 1.4)</td>\n",
              "      <td>Yes</td>\n",
              "      <td>Yes</td>\n",
              "      <td>Yes</td>\n",
              "      <td>720p HD</td>\n",
              "      <td>2x 1.5W Stereo Speakers</td>\n",
              "      <td>Yes</td>\n",
              "      <td>Integrated Dual Array Microphone</td>\n",
              "      <td>NaN</td>\n",
              "      <td>Non- Keyboard</td>\n",
              "      <td>1 Year</td>\n",
              "      <td>Laptop, Power Adapter, User Manual, Warranty Card</td>\n",
              "      <td>Out of Stock</td>\n",
              "      <td>32990.0</td>\n",
              "      <td>win 11</td>\n",
              "    </tr>\n",
              "    <tr>\n",
              "      <th>1426</th>\n",
              "      <td>HP</td>\n",
              "      <td>ep1087TX (54B88PA)</td>\n",
              "      <td>ENVY 15</td>\n",
              "      <td>23 Millimeter thickness</td>\n",
              "      <td>357.9 x 184 x 23  mm</td>\n",
              "      <td>2.18</td>\n",
              "      <td>Natural Silver</td>\n",
              "      <td>NaN</td>\n",
              "      <td>3840 x 2160 Pixels</td>\n",
              "      <td>282 ppi</td>\n",
              "      <td>Diagonal   4K UHD (3840 x 2160)   OLED   multi...</td>\n",
              "      <td>Yes</td>\n",
              "      <td>Intel Core i9-11900H (11th Gen)</td>\n",
              "      <td>4.8 Ghz</td>\n",
              "      <td>24 MB</td>\n",
              "      <td>NVIDIA GeForce RTX 3060</td>\n",
              "      <td>32 GB</td>\n",
              "      <td>DDR4</td>\n",
              "      <td>2</td>\n",
              "      <td>NaN</td>\n",
              "      <td>1 TB</td>\n",
              "      <td>6 Cell</td>\n",
              "      <td>Li-Ion</td>\n",
              "      <td>83 W</td>\n",
              "      <td>802.11 b/g/n/ax</td>\n",
              "      <td>6.0</td>\n",
              "      <td>Yes</td>\n",
              "      <td>5.0</td>\n",
              "      <td>1</td>\n",
              "      <td>Yes</td>\n",
              "      <td>Yes</td>\n",
              "      <td>Yes</td>\n",
              "      <td>720</td>\n",
              "      <td>Dual Speakers</td>\n",
              "      <td>Yes</td>\n",
              "      <td>integrated dual array digital microphones</td>\n",
              "      <td>HP Imagepad with multi-touch gesture support; ...</td>\n",
              "      <td>Full-size, , cool gray keyboard</td>\n",
              "      <td>1 Year</td>\n",
              "      <td>Laptop, Power Adaptor, User Guide, Warranty Do...</td>\n",
              "      <td>Out of Stock</td>\n",
              "      <td>189400.0</td>\n",
              "      <td>win 11</td>\n",
              "    </tr>\n",
              "    <tr>\n",
              "      <th>7974</th>\n",
              "      <td>Dell</td>\n",
              "      <td>3511 (D560753WIN9S)</td>\n",
              "      <td>Inspiron 15</td>\n",
              "      <td>23 Millimeter thickness</td>\n",
              "      <td>358.3 x 187 x 23  mm</td>\n",
              "      <td>1.85</td>\n",
              "      <td>Platinum Silver</td>\n",
              "      <td>NaN</td>\n",
              "      <td>1920 x 1080 Pixels</td>\n",
              "      <td>141 ppi</td>\n",
              "      <td>FHD WVA AG Narrow Border</td>\n",
              "      <td>NaN</td>\n",
              "      <td>Intel Core i5-1135G7 (11th Gen)</td>\n",
              "      <td>4.2 Ghz</td>\n",
              "      <td>6 MB</td>\n",
              "      <td>NVIDIA GEFORCE MX350</td>\n",
              "      <td>16 GB</td>\n",
              "      <td>DDR4</td>\n",
              "      <td>1</td>\n",
              "      <td>NaN</td>\n",
              "      <td>512 GB</td>\n",
              "      <td>3 Cell</td>\n",
              "      <td>Li-Ion</td>\n",
              "      <td>65 W</td>\n",
              "      <td>802.11 a/b/g/n/ac</td>\n",
              "      <td>5.0</td>\n",
              "      <td>Yes</td>\n",
              "      <td>5.1</td>\n",
              "      <td>1</td>\n",
              "      <td>Yes</td>\n",
              "      <td>Yes</td>\n",
              "      <td>Yes</td>\n",
              "      <td>720</td>\n",
              "      <td>NaN</td>\n",
              "      <td>Yes</td>\n",
              "      <td>NaN</td>\n",
              "      <td>NaN</td>\n",
              "      <td>Chiclet Keyboard</td>\n",
              "      <td>1 Year</td>\n",
              "      <td>Laptop, Power Adaptor, User Guide, Warranty Do...</td>\n",
              "      <td>Available</td>\n",
              "      <td>65000.0</td>\n",
              "      <td>win 11</td>\n",
              "    </tr>\n",
              "  </tbody>\n",
              "</table>\n",
              "</div>"
            ],
            "text/plain": [
              "       Brand                Model       Series                Thickness  \\\n",
              "797   Lenovo  15AMN7 (82VG00J5IN)    IdeaPad 1  18 Millimeter thickness   \n",
              "1426      HP   ep1087TX (54B88PA)      ENVY 15  23 Millimeter thickness   \n",
              "7974    Dell  3511 (D560753WIN9S)  Inspiron 15  23 Millimeter thickness   \n",
              "\n",
              "        Dimensions (WxDxH)  Weight           Colors Display Size  \\\n",
              "797     360 x 236 x 18  mm    1.58             15.6          NaN   \n",
              "1426  357.9 x 184 x 23  mm    2.18   Natural Silver          NaN   \n",
              "7974  358.3 x 187 x 23  mm    1.85  Platinum Silver          NaN   \n",
              "\n",
              "      Display Resolution Pixel Density  \\\n",
              "797   1920 x 1080 Pixels           NaN   \n",
              "1426  3840 x 2160 Pixels       282 ppi   \n",
              "7974  1920 x 1080 Pixels       141 ppi   \n",
              "\n",
              "                                       Display Features Display Touchscreen  \\\n",
              "797                                                 NaN                  No   \n",
              "1426  Diagonal   4K UHD (3840 x 2160)   OLED   multi...                 Yes   \n",
              "7974                           FHD WVA AG Narrow Border                 NaN   \n",
              "\n",
              "                            Processor Clock-speed  Cache  \\\n",
              "797     AMD Quad-Core Ryzen 5 - 7520U     2.8 Ghz    NaN   \n",
              "1426  Intel Core i9-11900H (11th Gen)     4.8 Ghz  24 MB   \n",
              "7974  Intel Core i5-1135G7 (11th Gen)     4.2 Ghz   6 MB   \n",
              "\n",
              "            Graphic Processor Capacity RAM Type Memory Slots Memory Layout  \\\n",
              "797            AMD Radeon 610     8 GB   LPDDR5            1  1*8 Gigabyte   \n",
              "1426  NVIDIA GeForce RTX 3060    32 GB     DDR4            2           NaN   \n",
              "7974     NVIDIA GEFORCE MX350    16 GB     DDR4            1           NaN   \n",
              "\n",
              "     SSD Capacity Battery Cell Battery Type Power Supply       Wireless LAN  \\\n",
              "797        512 GB       3 Cell          NaN          NaN    802.11 b/g/n/ax   \n",
              "1426         1 TB       6 Cell       Li-Ion         83 W    802.11 b/g/n/ax   \n",
              "7974       512 GB       3 Cell       Li-Ion         65 W  802.11 a/b/g/n/ac   \n",
              "\n",
              "      Wi-Fi Version Bluetooth  Bluetooth Version      HDMI Ports  \\\n",
              "797             6.0       Yes                5.2  Yes (HDMI 1.4)   \n",
              "1426            6.0       Yes                5.0               1   \n",
              "7974            5.0       Yes                5.1               1   \n",
              "\n",
              "     Headphone Jack Microphone Jack Web-cam Video Recording  \\\n",
              "797             Yes             Yes     Yes         720p HD   \n",
              "1426            Yes             Yes     Yes             720   \n",
              "7974            Yes             Yes     Yes             720   \n",
              "\n",
              "                     Speakers In-built Microphone  \\\n",
              "797   2x 1.5W Stereo Speakers                 Yes   \n",
              "1426            Dual Speakers                 Yes   \n",
              "7974                      NaN                 Yes   \n",
              "\n",
              "                                Microphone Type  \\\n",
              "797            Integrated Dual Array Microphone   \n",
              "1426  integrated dual array digital microphones   \n",
              "7974                                        NaN   \n",
              "\n",
              "                                        Pointing device  \\\n",
              "797                                                 NaN   \n",
              "1426  HP Imagepad with multi-touch gesture support; ...   \n",
              "7974                                                NaN   \n",
              "\n",
              "                             Keyboard Warranty  \\\n",
              "797                     Non- Keyboard   1 Year   \n",
              "1426  Full-size, , cool gray keyboard   1 Year   \n",
              "7974                 Chiclet Keyboard   1 Year   \n",
              "\n",
              "                                          Sales Package market_status  \\\n",
              "797   Laptop, Power Adapter, User Manual, Warranty Card  Out of Stock   \n",
              "1426  Laptop, Power Adaptor, User Guide, Warranty Do...  Out of Stock   \n",
              "7974  Laptop, Power Adaptor, User Guide, Warranty Do...     Available   \n",
              "\n",
              "      Price (Rs)      OS  \n",
              "797      32990.0  win 11  \n",
              "1426    189400.0  win 11  \n",
              "7974     65000.0  win 11  "
            ]
          },
          "execution_count": 28,
          "metadata": {},
          "output_type": "execute_result"
        }
      ],
      "source": [
        "df2[df2['Display Size'].isna()]"
      ]
    },
    {
      "cell_type": "code",
      "execution_count": 29,
      "id": "039a383d",
      "metadata": {
        "id": "039a383d"
      },
      "outputs": [],
      "source": [
        "df2['Display Size'] = df2['Display Size'].str.split(\" \").str[0]\n",
        "df2['Display Size'] = df2['Display Size'].astype('float32')"
      ]
    },
    {
      "cell_type": "code",
      "execution_count": 30,
      "id": "4349d790",
      "metadata": {
        "id": "4349d790"
      },
      "outputs": [],
      "source": [
        "df2.loc[[797, 1426, 7974], 'Display Size'] = 15.6"
      ]
    },
    {
      "cell_type": "code",
      "execution_count": 31,
      "id": "6116786f",
      "metadata": {
        "colab": {
          "base_uri": "https://localhost:8080/"
        },
        "id": "6116786f",
        "outputId": "94c3b113-68c2-47c4-e1f4-a0f5a8515be4"
      },
      "outputs": [
        {
          "data": {
            "text/plain": [
              "np.int64(0)"
            ]
          },
          "execution_count": 31,
          "metadata": {},
          "output_type": "execute_result"
        }
      ],
      "source": [
        "df2['Display Size'].isna().sum()"
      ]
    },
    {
      "cell_type": "markdown",
      "id": "568921af",
      "metadata": {
        "id": "568921af"
      },
      "source": [
        "We found 3 rows with missing values in the Display Size column. Instead of using statistical imputation (like mean or median), we manually annotated these values after verifying the actual display sizes from reliable web sources.\n",
        "\n",
        "Additionally, we cleaned the Display Size column by extracting only the numeric value, removing the \"Inches\" and any accompanying text. This ensures that the feature is ready for numerical analysis and modeling."
      ]
    },
    {
      "cell_type": "markdown",
      "id": "2675ece4",
      "metadata": {
        "id": "2675ece4"
      },
      "source": [
        "# EDA Display End"
      ]
    },
    {
      "cell_type": "markdown",
      "id": "ec8f052f",
      "metadata": {
        "id": "ec8f052f"
      },
      "source": [
        "#################################################################\n",
        "# EDA For RAM Capacity"
      ]
    },
    {
      "cell_type": "code",
      "execution_count": 32,
      "id": "40d218cb",
      "metadata": {
        "colab": {
          "base_uri": "https://localhost:8080/"
        },
        "id": "40d218cb",
        "outputId": "6cb67dfb-24ca-4c36-9aeb-c2af01aef8db"
      },
      "outputs": [
        {
          "data": {
            "text/plain": [
              "np.int64(0)"
            ]
          },
          "execution_count": 32,
          "metadata": {},
          "output_type": "execute_result"
        }
      ],
      "source": [
        "df2['Capacity'].isna().sum()"
      ]
    },
    {
      "cell_type": "code",
      "execution_count": 33,
      "id": "86bd2e05",
      "metadata": {
        "id": "86bd2e05"
      },
      "outputs": [],
      "source": [
        "df2['Capacity'] = df2['Capacity'].str.split(' ').str[0]\n",
        "df2['Capacity'] = df2['Capacity'].astype('int32')"
      ]
    },
    {
      "cell_type": "code",
      "execution_count": 34,
      "id": "7b9ff94e",
      "metadata": {
        "id": "7b9ff94e"
      },
      "outputs": [],
      "source": [
        "df2.rename(columns={'Capacity': 'RAM Capacity'}, inplace=True)"
      ]
    },
    {
      "cell_type": "code",
      "execution_count": 35,
      "id": "e89222ac",
      "metadata": {
        "colab": {
          "base_uri": "https://localhost:8080/",
          "height": 607
        },
        "id": "e89222ac",
        "outputId": "303239c1-6d35-4123-c12f-0ce700d1650a"
      },
      "outputs": [
        {
          "data": {
            "image/png": "[encoded data removed]",
            "text/plain": [
              "<Figure size 1000x600 with 1 Axes>"
            ]
          },
          "metadata": {},
          "output_type": "display_data"
        }
      ],
      "source": [
        "plt.figure(figsize=(10, 6))\n",
        "sns.countplot(x='RAM Capacity', data=df2, palette='viridis', order=df2['RAM Capacity'].value_counts().sort_values(ascending=False).index)\n",
        "plt.title('Distribution of RAM Capacity')\n",
        "plt.xlabel('RAM Capacity (in GB)')\n",
        "plt.ylabel('Number of Laptops')\n",
        "plt.grid(axis='y')\n",
        "plt.tight_layout()\n",
        "plt.show()"
      ]
    },
    {
      "cell_type": "code",
      "execution_count": 36,
      "id": "b5fb1af2",
      "metadata": {
        "colab": {
          "base_uri": "https://localhost:8080/",
          "height": 607
        },
        "id": "b5fb1af2",
        "outputId": "6cd88d08-19a7-401b-8976-c01d365220c5"
      },
      "outputs": [
        {
          "data": {
            "image/png": "[encoded data removed]",
            "text/plain": [
              "<Figure size 800x600 with 1 Axes>"
            ]
          },
          "metadata": {},
          "output_type": "display_data"
        }
      ],
      "source": [
        "plt.figure(figsize=(8, 6))\n",
        "sns.boxplot(x=df2['RAM Capacity'], y=df2['Price (Rs)'], color='lightgreen')\n",
        "plt.title('Box Plot of RAM Capacity')\n",
        "plt.xlabel('RAM Capacity (in GB)')\n",
        "plt.grid(axis='x')\n",
        "plt.tight_layout()\n",
        "plt.show()"
      ]
    },
    {
      "cell_type": "markdown",
      "id": "c24962c2",
      "metadata": {
        "id": "c24962c2"
      },
      "source": [
        "No missing values are present in the RAM Capacity column (previously named Capacity, renamed for better readability). The most common RAM configurations are 8GB and 16GB.\n",
        "\n",
        "As RAM capacity increases, the price of laptops tends to rise, indicating that higher RAM is associated with more premium or high-performance devices. Outliers are observed in higher RAM categories (like 32GB, 64GB, 128GB), likely representing gaming laptops or professional workstations."
      ]
    },
    {
      "cell_type": "markdown",
      "id": "4eff2490",
      "metadata": {},
      "source": [
        "# EDA for RAM Capacity End"
      ]
    },
    {
      "cell_type": "markdown",
      "id": "07460481",
      "metadata": {
        "id": "07460481"
      },
      "source": [
        "###############################################################\n",
        "# EDA for Processor"
      ]
    },
    {
      "cell_type": "code",
      "execution_count": 37,
      "id": "a7bbc7ce",
      "metadata": {
        "colab": {
          "base_uri": "https://localhost:8080/"
        },
        "id": "a7bbc7ce",
        "outputId": "a09b9c39-bbfe-460a-ea35-a58aef1c1e4f"
      },
      "outputs": [
        {
          "data": {
            "text/plain": [
              "array(['Intel Core i5-1135G7 (11th Gen)',\n",
              "       'Intel Core i7-13700HX (13th Gen)',\n",
              "       'Intel Core i5-8250U (8th Gen)', 'Intel Core i7-7700HQ (7th Gen)',\n",
              "       'AMD Dual Core Athlon 3050U'], dtype=object)"
            ]
          },
          "execution_count": 37,
          "metadata": {},
          "output_type": "execute_result"
        }
      ],
      "source": [
        "df2['Processor'].unique()[:5]"
      ]
    },
    {
      "cell_type": "code",
      "execution_count": 38,
      "id": "92dee52c",
      "metadata": {
        "id": "92dee52c"
      },
      "outputs": [],
      "source": [
        "df2['Processor_Brand'] = df2['Processor'].str.extract(r'(Intel|AMD|Apple|MediaTek|Mediatek|Qualcomm|intel|inte|Microsoft|Inte)', expand=False)\n",
        "df2.loc[df2['Processor'].str.contains('APU', case=False, na=False), 'Processor_Brand'] = 'AMD'"
      ]
    },
    {
      "cell_type": "code",
      "execution_count": 39,
      "id": "cda87081",
      "metadata": {
        "colab": {
          "base_uri": "https://localhost:8080/"
        },
        "id": "cda87081",
        "outputId": "281a58d4-38cd-46ef-fb9c-100263dba727"
      },
      "outputs": [
        {
          "data": {
            "text/plain": [
              "np.int64(0)"
            ]
          },
          "execution_count": 39,
          "metadata": {},
          "output_type": "execute_result"
        }
      ],
      "source": [
        "df2['Processor_Brand'].isna().sum()"
      ]
    },
    {
      "cell_type": "code",
      "execution_count": 40,
      "id": "e789872d",
      "metadata": {
        "colab": {
          "base_uri": "https://localhost:8080/",
          "height": 87
        },
        "id": "e789872d",
        "outputId": "16a7abf3-6399-4730-865a-218bd97c951d"
      },
      "outputs": [
        {
          "data": {
            "text/html": [
              "<div>\n",
              "<style scoped>\n",
              "    .dataframe tbody tr th:only-of-type {\n",
              "        vertical-align: middle;\n",
              "    }\n",
              "\n",
              "    .dataframe tbody tr th {\n",
              "        vertical-align: top;\n",
              "    }\n",
              "\n",
              "    .dataframe thead th {\n",
              "        text-align: right;\n",
              "    }\n",
              "</style>\n",
              "<table border=\"1\" class=\"dataframe\">\n",
              "  <thead>\n",
              "    <tr style=\"text-align: right;\">\n",
              "      <th></th>\n",
              "      <th>Brand</th>\n",
              "      <th>Model</th>\n",
              "      <th>Series</th>\n",
              "      <th>Thickness</th>\n",
              "      <th>Dimensions (WxDxH)</th>\n",
              "      <th>Weight</th>\n",
              "      <th>Colors</th>\n",
              "      <th>Display Size</th>\n",
              "      <th>Display Resolution</th>\n",
              "      <th>Pixel Density</th>\n",
              "      <th>Display Features</th>\n",
              "      <th>Display Touchscreen</th>\n",
              "      <th>Processor</th>\n",
              "      <th>Clock-speed</th>\n",
              "      <th>Cache</th>\n",
              "      <th>Graphic Processor</th>\n",
              "      <th>RAM Capacity</th>\n",
              "      <th>RAM Type</th>\n",
              "      <th>Memory Slots</th>\n",
              "      <th>Memory Layout</th>\n",
              "      <th>SSD Capacity</th>\n",
              "      <th>Battery Cell</th>\n",
              "      <th>Battery Type</th>\n",
              "      <th>Power Supply</th>\n",
              "      <th>Wireless LAN</th>\n",
              "      <th>Wi-Fi Version</th>\n",
              "      <th>Bluetooth</th>\n",
              "      <th>Bluetooth Version</th>\n",
              "      <th>HDMI Ports</th>\n",
              "      <th>Headphone Jack</th>\n",
              "      <th>Microphone Jack</th>\n",
              "      <th>Web-cam</th>\n",
              "      <th>Video Recording</th>\n",
              "      <th>Speakers</th>\n",
              "      <th>In-built Microphone</th>\n",
              "      <th>Microphone Type</th>\n",
              "      <th>Pointing device</th>\n",
              "      <th>Keyboard</th>\n",
              "      <th>Warranty</th>\n",
              "      <th>Sales Package</th>\n",
              "      <th>market_status</th>\n",
              "      <th>Price (Rs)</th>\n",
              "      <th>OS</th>\n",
              "      <th>Processor_Brand</th>\n",
              "    </tr>\n",
              "  </thead>\n",
              "  <tbody>\n",
              "  </tbody>\n",
              "</table>\n",
              "</div>"
            ],
            "text/plain": [
              "Empty DataFrame\n",
              "Columns: [Brand, Model, Series, Thickness, Dimensions (WxDxH), Weight, Colors, Display Size, Display Resolution, Pixel Density, Display Features, Display Touchscreen, Processor, Clock-speed, Cache, Graphic Processor, RAM Capacity, RAM Type, Memory Slots, Memory Layout, SSD Capacity, Battery Cell, Battery Type, Power Supply, Wireless LAN, Wi-Fi Version, Bluetooth, Bluetooth Version, HDMI Ports, Headphone Jack, Microphone Jack, Web-cam, Video Recording, Speakers, In-built Microphone, Microphone Type, Pointing device, Keyboard, Warranty, Sales Package, market_status, Price (Rs), OS, Processor_Brand]\n",
              "Index: []"
            ]
          },
          "execution_count": 40,
          "metadata": {},
          "output_type": "execute_result"
        }
      ],
      "source": [
        "df2[df2['Processor_Brand'].isna()]"
      ]
    },
    {
      "cell_type": "code",
      "execution_count": 41,
      "id": "ee9f0323",
      "metadata": {
        "id": "ee9f0323"
      },
      "outputs": [],
      "source": [
        "df2['Processor_Brand'] = df2['Processor_Brand'].str.lower()"
      ]
    },
    {
      "cell_type": "code",
      "execution_count": 42,
      "id": "9a50d5b0",
      "metadata": {
        "id": "9a50d5b0"
      },
      "outputs": [],
      "source": [
        "df2['Processor_Brand'] = df2['Processor_Brand'].replace({'inte': 'intel', 'Inte': 'intel', 'intel': 'intel'})"
      ]
    },
    {
      "cell_type": "code",
      "execution_count": 43,
      "id": "d1e99ed5",
      "metadata": {
        "colab": {
          "base_uri": "https://localhost:8080/"
        },
        "id": "d1e99ed5",
        "outputId": "f5a7286a-b592-47f1-e17e-82cdb3e14767"
      },
      "outputs": [
        {
          "data": {
            "text/plain": [
              "array(['intel', 'amd', 'apple', 'mediatek', 'qualcomm', 'microsoft'],\n",
              "      dtype=object)"
            ]
          },
          "execution_count": 43,
          "metadata": {},
          "output_type": "execute_result"
        }
      ],
      "source": [
        "df2['Processor_Brand'].unique()"
      ]
    },
    {
      "cell_type": "markdown",
      "id": "e57f0ecb",
      "metadata": {
        "id": "e57f0ecb"
      },
      "source": [
        "During the data exploration process, we initially identified three major processor brands: Intel, AMD, and Apple. To ensure completeness, we continued inspecting the 'Processor_Brand' column for missing values. As we iteratively handled and filled these values, the count of null entries gradually reduced. Once the number of missing values reached zero, it confirmed that no additional processor brands were present in the dataset beyond the ones already captured."
      ]
    },
    {
      "cell_type": "code",
      "execution_count": 44,
      "id": "a8c2b4b4",
      "metadata": {
        "id": "a8c2b4b4"
      },
      "outputs": [],
      "source": [
        "df2['Processor_Series'] = df2['Processor'].str.extract(\n",
        "    r'(Quad\\sCore|Quad-Core|Octa Core|Kompanio|Athlon|Pentium|Core 5|Core 7|Core 3|Core Ultra 5|Celeron|Dual\\sCore|Dual-Core|Ultra 7|Ultra 9|Ryzen AI 9|Snapdragon|Xenon|m3|' +\n",
        "    r'i[3579]|I[3579]|' +\n",
        "    r'Ryzen\\s[3579]|' +\n",
        "    r'M\\d(?:\\s(?:Pro|Max|Ultra))?)',\n",
        "    expand=False\n",
        ")"
      ]
    },
    {
      "cell_type": "code",
      "execution_count": 45,
      "id": "f270c16c",
      "metadata": {
        "id": "f270c16c"
      },
      "outputs": [],
      "source": [
        "df2.loc[1588, 'Processor_Series'] = df2.loc[1588, 'Processor_Series'] = 'Quad Core'\n",
        "df2.loc[3709, 'Processor_Brand'] = df2.loc[3709, 'Processor_Brand'] = 'Intel'\n",
        "df2.loc[3709, 'Processor_Series'] = df2.loc[3709, 'Processor_Series'] = 'i5'"
      ]
    },
    {
      "cell_type": "code",
      "execution_count": 46,
      "id": "a1667a4b",
      "metadata": {
        "colab": {
          "base_uri": "https://localhost:8080/"
        },
        "id": "a1667a4b",
        "outputId": "1c19553e-017b-47e8-dc18-3e52044866e6"
      },
      "outputs": [
        {
          "data": {
            "text/plain": [
              "np.int64(4)"
            ]
          },
          "execution_count": 46,
          "metadata": {},
          "output_type": "execute_result"
        }
      ],
      "source": [
        "df2['Processor_Series'].isna().sum()"
      ]
    },
    {
      "cell_type": "code",
      "execution_count": 47,
      "id": "585e0b5c",
      "metadata": {
        "colab": {
          "base_uri": "https://localhost:8080/",
          "height": 628
        },
        "id": "585e0b5c",
        "outputId": "d1afd990-888e-4292-9a58-336bfde4846a"
      },
      "outputs": [
        {
          "data": {
            "text/html": [
              "<div>\n",
              "<style scoped>\n",
              "    .dataframe tbody tr th:only-of-type {\n",
              "        vertical-align: middle;\n",
              "    }\n",
              "\n",
              "    .dataframe tbody tr th {\n",
              "        vertical-align: top;\n",
              "    }\n",
              "\n",
              "    .dataframe thead th {\n",
              "        text-align: right;\n",
              "    }\n",
              "</style>\n",
              "<table border=\"1\" class=\"dataframe\">\n",
              "  <thead>\n",
              "    <tr style=\"text-align: right;\">\n",
              "      <th></th>\n",
              "      <th>Brand</th>\n",
              "      <th>Model</th>\n",
              "      <th>Series</th>\n",
              "      <th>Thickness</th>\n",
              "      <th>Dimensions (WxDxH)</th>\n",
              "      <th>Weight</th>\n",
              "      <th>Colors</th>\n",
              "      <th>Display Size</th>\n",
              "      <th>Display Resolution</th>\n",
              "      <th>Pixel Density</th>\n",
              "      <th>Display Features</th>\n",
              "      <th>Display Touchscreen</th>\n",
              "      <th>Processor</th>\n",
              "      <th>Clock-speed</th>\n",
              "      <th>Cache</th>\n",
              "      <th>Graphic Processor</th>\n",
              "      <th>RAM Capacity</th>\n",
              "      <th>RAM Type</th>\n",
              "      <th>Memory Slots</th>\n",
              "      <th>Memory Layout</th>\n",
              "      <th>SSD Capacity</th>\n",
              "      <th>Battery Cell</th>\n",
              "      <th>Battery Type</th>\n",
              "      <th>Power Supply</th>\n",
              "      <th>Wireless LAN</th>\n",
              "      <th>Wi-Fi Version</th>\n",
              "      <th>Bluetooth</th>\n",
              "      <th>Bluetooth Version</th>\n",
              "      <th>HDMI Ports</th>\n",
              "      <th>Headphone Jack</th>\n",
              "      <th>Microphone Jack</th>\n",
              "      <th>Web-cam</th>\n",
              "      <th>Video Recording</th>\n",
              "      <th>Speakers</th>\n",
              "      <th>In-built Microphone</th>\n",
              "      <th>Microphone Type</th>\n",
              "      <th>Pointing device</th>\n",
              "      <th>Keyboard</th>\n",
              "      <th>Warranty</th>\n",
              "      <th>Sales Package</th>\n",
              "      <th>market_status</th>\n",
              "      <th>Price (Rs)</th>\n",
              "      <th>OS</th>\n",
              "      <th>Processor_Brand</th>\n",
              "      <th>Processor_Series</th>\n",
              "    </tr>\n",
              "  </thead>\n",
              "  <tbody>\n",
              "    <tr>\n",
              "      <th>305</th>\n",
              "      <td>HP</td>\n",
              "      <td>MK G9 Education Edition (7D2W3PC)</td>\n",
              "      <td>Chromebook</td>\n",
              "      <td>18.8 Millimeter thickness</td>\n",
              "      <td>295 x 205.3 x 18.8  mm</td>\n",
              "      <td>1.34</td>\n",
              "      <td>Black</td>\n",
              "      <td>11.6</td>\n",
              "      <td>1366 x 768 Pixels</td>\n",
              "      <td>135 ppi</td>\n",
              "      <td>Diagonal   HD   Anti-Glare   45% NTSC</td>\n",
              "      <td>No</td>\n",
              "      <td>MediaTek MT8183</td>\n",
              "      <td>2.0 Ghz</td>\n",
              "      <td>2 MB</td>\n",
              "      <td>ARM Mali - G72 MP3</td>\n",
              "      <td>4</td>\n",
              "      <td>LPDDR4X</td>\n",
              "      <td>1</td>\n",
              "      <td>1*4 Gigabyte</td>\n",
              "      <td>NaN</td>\n",
              "      <td>8 Cell</td>\n",
              "      <td>Li-Ion</td>\n",
              "      <td>45 W</td>\n",
              "      <td>802.11 a/b/g/n/ac</td>\n",
              "      <td>5.0</td>\n",
              "      <td>Yes</td>\n",
              "      <td>4.2</td>\n",
              "      <td>NaN</td>\n",
              "      <td>Yes</td>\n",
              "      <td>Yes</td>\n",
              "      <td>Yes</td>\n",
              "      <td>720p HD</td>\n",
              "      <td>Dual Speakers</td>\n",
              "      <td>Yes</td>\n",
              "      <td>Integrated Microphones</td>\n",
              "      <td>Clickpad With Multi-Touch Gesture Support</td>\n",
              "      <td>Full-Size Island-Style, Spill and Pick Resista...</td>\n",
              "      <td>1 Year</td>\n",
              "      <td>Laptop, Power Adapter, User Manual, Warranty Card</td>\n",
              "      <td>Out of Stock</td>\n",
              "      <td>11990.0</td>\n",
              "      <td>chorme os</td>\n",
              "      <td>mediatek</td>\n",
              "      <td>NaN</td>\n",
              "    </tr>\n",
              "    <tr>\n",
              "      <th>851</th>\n",
              "      <td>Primebook</td>\n",
              "      <td>4G</td>\n",
              "      <td>NaN</td>\n",
              "      <td>19.3 Millimeter thickness</td>\n",
              "      <td>281 x 192 x 19.3  mm</td>\n",
              "      <td>1.06</td>\n",
              "      <td>Black</td>\n",
              "      <td>11.6</td>\n",
              "      <td>1366 x 768 Pixels</td>\n",
              "      <td>135 ppi</td>\n",
              "      <td>HD IPS</td>\n",
              "      <td>No</td>\n",
              "      <td>MediaTek MT8788</td>\n",
              "      <td>2.0 Ghz</td>\n",
              "      <td>NaN</td>\n",
              "      <td>MediaTek Integrated ARM Mali G72</td>\n",
              "      <td>4</td>\n",
              "      <td>LPDDR4</td>\n",
              "      <td>1</td>\n",
              "      <td>1*4 Gigabyte</td>\n",
              "      <td>NaN</td>\n",
              "      <td>NaN</td>\n",
              "      <td>NaN</td>\n",
              "      <td>NaN</td>\n",
              "      <td>802.11 a/b/g/n/ac</td>\n",
              "      <td>5.0</td>\n",
              "      <td>Yes</td>\n",
              "      <td>5.0</td>\n",
              "      <td>1</td>\n",
              "      <td>Yes</td>\n",
              "      <td>Yes</td>\n",
              "      <td>Yes</td>\n",
              "      <td>720p</td>\n",
              "      <td>Built-In Speakers</td>\n",
              "      <td>Yes</td>\n",
              "      <td>Built-In Microphones</td>\n",
              "      <td>NaN</td>\n",
              "      <td>QWERTY with PrimeOS Special KB Shortcuts</td>\n",
              "      <td>1 Year</td>\n",
              "      <td>Laptop, Power Adaptor, User Guide, Warranty Do...</td>\n",
              "      <td>Available</td>\n",
              "      <td>12990.0</td>\n",
              "      <td>other</td>\n",
              "      <td>mediatek</td>\n",
              "      <td>NaN</td>\n",
              "    </tr>\n",
              "    <tr>\n",
              "      <th>934</th>\n",
              "      <td>Primebook</td>\n",
              "      <td>4G</td>\n",
              "      <td>NaN</td>\n",
              "      <td>19.3 Millimeter thickness</td>\n",
              "      <td>281 x 192 x 19.3  mm</td>\n",
              "      <td>1.06</td>\n",
              "      <td>Black</td>\n",
              "      <td>11.6</td>\n",
              "      <td>1366 x 768 Pixels</td>\n",
              "      <td>135 ppi</td>\n",
              "      <td>HD IPS</td>\n",
              "      <td>No</td>\n",
              "      <td>MediaTek MT8788</td>\n",
              "      <td>2.0 Ghz</td>\n",
              "      <td>NaN</td>\n",
              "      <td>MediaTek Integrated ARM Mali G72</td>\n",
              "      <td>4</td>\n",
              "      <td>LPDDR4</td>\n",
              "      <td>1</td>\n",
              "      <td>1*4 Gigabyte</td>\n",
              "      <td>NaN</td>\n",
              "      <td>NaN</td>\n",
              "      <td>NaN</td>\n",
              "      <td>NaN</td>\n",
              "      <td>802.11 a/b/g/n/ac</td>\n",
              "      <td>5.0</td>\n",
              "      <td>Yes</td>\n",
              "      <td>5.0</td>\n",
              "      <td>1</td>\n",
              "      <td>Yes</td>\n",
              "      <td>Yes</td>\n",
              "      <td>Yes</td>\n",
              "      <td>720p</td>\n",
              "      <td>Built-In Speakers</td>\n",
              "      <td>Yes</td>\n",
              "      <td>Built-In Microphones</td>\n",
              "      <td>NaN</td>\n",
              "      <td>QWERTY with PrimeOS Special KB Shortcuts</td>\n",
              "      <td>1 Year</td>\n",
              "      <td>Laptop, Power Adaptor, User Guide, Warranty Do...</td>\n",
              "      <td>Available</td>\n",
              "      <td>15999.0</td>\n",
              "      <td>other</td>\n",
              "      <td>mediatek</td>\n",
              "      <td>NaN</td>\n",
              "    </tr>\n",
              "    <tr>\n",
              "      <th>1835</th>\n",
              "      <td>Reliance</td>\n",
              "      <td>JioBook (NB1112MM)</td>\n",
              "      <td>NaN</td>\n",
              "      <td>80 Millimeter thickness</td>\n",
              "      <td>355 x 300 x 80  mm</td>\n",
              "      <td>1.00</td>\n",
              "      <td>JioBlue</td>\n",
              "      <td>11.6</td>\n",
              "      <td>1366 x 768 Pixels</td>\n",
              "      <td>135 ppi</td>\n",
              "      <td>Anti-glare HD Display</td>\n",
              "      <td>No</td>\n",
              "      <td>Mediatek MT8788</td>\n",
              "      <td>2.0 Ghz</td>\n",
              "      <td>2 MB</td>\n",
              "      <td>MediaTek Integrated</td>\n",
              "      <td>4</td>\n",
              "      <td>LPDDR4</td>\n",
              "      <td>1</td>\n",
              "      <td>1*4 Gigabyte</td>\n",
              "      <td>NaN</td>\n",
              "      <td>2 Cell</td>\n",
              "      <td>Li-Ion</td>\n",
              "      <td>NaN</td>\n",
              "      <td>802.11 a/b/g/n/ac</td>\n",
              "      <td>5.0</td>\n",
              "      <td>Yes</td>\n",
              "      <td>5.0</td>\n",
              "      <td>1</td>\n",
              "      <td>Yes</td>\n",
              "      <td>Yes</td>\n",
              "      <td>Yes</td>\n",
              "      <td>720p</td>\n",
              "      <td>Stereo Speakers</td>\n",
              "      <td>Yes</td>\n",
              "      <td>Built-In Microphones</td>\n",
              "      <td>Touchpad</td>\n",
              "      <td>Infinity Keyboard</td>\n",
              "      <td>1 Year</td>\n",
              "      <td>Laptop, Power Adapter, User Manual, Warranty Card</td>\n",
              "      <td>Available</td>\n",
              "      <td>16499.0</td>\n",
              "      <td>other</td>\n",
              "      <td>mediatek</td>\n",
              "      <td>NaN</td>\n",
              "    </tr>\n",
              "  </tbody>\n",
              "</table>\n",
              "</div>"
            ],
            "text/plain": [
              "          Brand                              Model      Series  \\\n",
              "305          HP  MK G9 Education Edition (7D2W3PC)  Chromebook   \n",
              "851   Primebook                                 4G         NaN   \n",
              "934   Primebook                                 4G         NaN   \n",
              "1835   Reliance                 JioBook (NB1112MM)         NaN   \n",
              "\n",
              "                      Thickness      Dimensions (WxDxH)  Weight   Colors  \\\n",
              "305   18.8 Millimeter thickness  295 x 205.3 x 18.8  mm    1.34    Black   \n",
              "851   19.3 Millimeter thickness    281 x 192 x 19.3  mm    1.06    Black   \n",
              "934   19.3 Millimeter thickness    281 x 192 x 19.3  mm    1.06    Black   \n",
              "1835    80 Millimeter thickness      355 x 300 x 80  mm    1.00  JioBlue   \n",
              "\n",
              "      Display Size Display Resolution Pixel Density  \\\n",
              "305           11.6  1366 x 768 Pixels       135 ppi   \n",
              "851           11.6  1366 x 768 Pixels       135 ppi   \n",
              "934           11.6  1366 x 768 Pixels       135 ppi   \n",
              "1835          11.6  1366 x 768 Pixels       135 ppi   \n",
              "\n",
              "                           Display Features Display Touchscreen  \\\n",
              "305   Diagonal   HD   Anti-Glare   45% NTSC                  No   \n",
              "851                                  HD IPS                  No   \n",
              "934                                  HD IPS                  No   \n",
              "1835                  Anti-glare HD Display                  No   \n",
              "\n",
              "            Processor Clock-speed Cache                 Graphic Processor  \\\n",
              "305   MediaTek MT8183     2.0 Ghz  2 MB                ARM Mali - G72 MP3   \n",
              "851   MediaTek MT8788     2.0 Ghz   NaN  MediaTek Integrated ARM Mali G72   \n",
              "934   MediaTek MT8788     2.0 Ghz   NaN  MediaTek Integrated ARM Mali G72   \n",
              "1835  Mediatek MT8788     2.0 Ghz  2 MB               MediaTek Integrated   \n",
              "\n",
              "      RAM Capacity RAM Type Memory Slots Memory Layout SSD Capacity  \\\n",
              "305              4  LPDDR4X            1  1*4 Gigabyte          NaN   \n",
              "851              4   LPDDR4            1  1*4 Gigabyte          NaN   \n",
              "934              4   LPDDR4            1  1*4 Gigabyte          NaN   \n",
              "1835             4   LPDDR4            1  1*4 Gigabyte          NaN   \n",
              "\n",
              "     Battery Cell Battery Type Power Supply       Wireless LAN  Wi-Fi Version  \\\n",
              "305        8 Cell       Li-Ion         45 W  802.11 a/b/g/n/ac            5.0   \n",
              "851           NaN          NaN          NaN  802.11 a/b/g/n/ac            5.0   \n",
              "934           NaN          NaN          NaN  802.11 a/b/g/n/ac            5.0   \n",
              "1835       2 Cell       Li-Ion          NaN  802.11 a/b/g/n/ac            5.0   \n",
              "\n",
              "     Bluetooth  Bluetooth Version HDMI Ports Headphone Jack Microphone Jack  \\\n",
              "305        Yes                4.2        NaN            Yes             Yes   \n",
              "851        Yes                5.0          1            Yes             Yes   \n",
              "934        Yes                5.0          1            Yes             Yes   \n",
              "1835       Yes                5.0          1            Yes             Yes   \n",
              "\n",
              "     Web-cam Video Recording           Speakers In-built Microphone  \\\n",
              "305      Yes         720p HD      Dual Speakers                 Yes   \n",
              "851      Yes            720p  Built-In Speakers                 Yes   \n",
              "934      Yes            720p  Built-In Speakers                 Yes   \n",
              "1835     Yes            720p    Stereo Speakers                 Yes   \n",
              "\n",
              "             Microphone Type                            Pointing device  \\\n",
              "305   Integrated Microphones  Clickpad With Multi-Touch Gesture Support   \n",
              "851     Built-In Microphones                                        NaN   \n",
              "934     Built-In Microphones                                        NaN   \n",
              "1835    Built-In Microphones                                   Touchpad   \n",
              "\n",
              "                                               Keyboard Warranty  \\\n",
              "305   Full-Size Island-Style, Spill and Pick Resista...   1 Year   \n",
              "851            QWERTY with PrimeOS Special KB Shortcuts   1 Year   \n",
              "934            QWERTY with PrimeOS Special KB Shortcuts   1 Year   \n",
              "1835                                  Infinity Keyboard   1 Year   \n",
              "\n",
              "                                          Sales Package market_status  \\\n",
              "305   Laptop, Power Adapter, User Manual, Warranty Card  Out of Stock   \n",
              "851   Laptop, Power Adaptor, User Guide, Warranty Do...     Available   \n",
              "934   Laptop, Power Adaptor, User Guide, Warranty Do...     Available   \n",
              "1835  Laptop, Power Adapter, User Manual, Warranty Card     Available   \n",
              "\n",
              "      Price (Rs)         OS Processor_Brand Processor_Series  \n",
              "305      11990.0  chorme os        mediatek              NaN  \n",
              "851      12990.0      other        mediatek              NaN  \n",
              "934      15999.0      other        mediatek              NaN  \n",
              "1835     16499.0      other        mediatek              NaN  "
            ]
          },
          "execution_count": 47,
          "metadata": {},
          "output_type": "execute_result"
        }
      ],
      "source": [
        "df2[df2['Processor_Series'].isna()]"
      ]
    },
    {
      "cell_type": "code",
      "execution_count": 48,
      "id": "014e5b7e",
      "metadata": {
        "id": "014e5b7e"
      },
      "outputs": [],
      "source": [
        "df2 = df2[df2['Processor_Series'].notna()]"
      ]
    },
    {
      "cell_type": "code",
      "execution_count": 49,
      "id": "2d4e6747",
      "metadata": {
        "colab": {
          "base_uri": "https://localhost:8080/"
        },
        "id": "2d4e6747",
        "outputId": "800991e1-b13a-4e90-ef98-7d693bb4f53f"
      },
      "outputs": [
        {
          "data": {
            "text/plain": [
              "array(['i5', 'i7', 'Dual Core', 'Ryzen 5', 'Pentium', 'Octa Core', 'i3',\n",
              "       'Quad Core', 'Celeron', 'Ryzen 7', 'M3', 'Quad-Core', 'Ryzen 3',\n",
              "       'M1', 'i9', 'M2', 'Core 5', 'Dual-Core', 'Core Ultra 5', 'Ryzen 9',\n",
              "       'Kompanio', 'Ultra 7', 'Ultra 9', 'M1 Pro', 'Ryzen AI 9',\n",
              "       'Snapdragon', 'M4', 'Core 7', 'Core 3', 'Athlon', 'm3', 'M4 Pro',\n",
              "       'M4 Max', 'M3 Pro', 'M5', 'M2 Max', 'I7', 'M2 Pro', 'M1 Max',\n",
              "       'Xenon', 'M3 Max'], dtype=object)"
            ]
          },
          "execution_count": 49,
          "metadata": {},
          "output_type": "execute_result"
        }
      ],
      "source": [
        "df2['Processor_Series'].unique()"
      ]
    },
    {
      "cell_type": "code",
      "execution_count": 50,
      "id": "4ede4cfa",
      "metadata": {
        "colab": {
          "base_uri": "https://localhost:8080/"
        },
        "id": "4ede4cfa",
        "outputId": "1a3ad9ba-60a7-4755-b145-60fb621d88c2"
      },
      "outputs": [
        {
          "data": {
            "text/plain": [
              "array(['i5', 'i7', 'dual core', 'ryzen 5', 'pentium', 'octa core', 'i3',\n",
              "       'quad core', 'celeron', 'ryzen 7', 'm3', 'ryzen 3', 'm1', 'i9',\n",
              "       'm2', 'core 5', 'ultra 5', 'ryzen 9', 'kompanio', 'ultra 7',\n",
              "       'ultra 9', 'm1 pro', 'ryzen ai 9', 'snapdragon', 'm4', 'athlon',\n",
              "       'm4 pro', 'm4 max', 'm3 pro', 'm5', 'm2 max', 'm2 pro', 'm1 max',\n",
              "       'xenon', 'm3 max'], dtype=object)"
            ]
          },
          "execution_count": 50,
          "metadata": {},
          "output_type": "execute_result"
        }
      ],
      "source": [
        "mapping = {\n",
        "    'Dual-Core': 'Dual Core',\n",
        "    'Quad-Core': 'Quad Core',\n",
        "    'Core Ultra 5': 'Ultra 5',\n",
        "    'Core 7': 'i7',\n",
        "    'Core 3': 'i3'\n",
        "}\n",
        "\n",
        "df2['Processor_Series'] = df2['Processor_Series'].replace(mapping)\n",
        "df2['Processor_Series'] = df2['Processor_Series'].str.lower()\n",
        "df2['Processor_Series'].unique()"
      ]
    },
    {
      "cell_type": "markdown",
      "id": "de267b8d",
      "metadata": {
        "id": "de267b8d"
      },
      "source": [
        "To extract the Processor Series, we applied a similar approach as used for the Processor Brand. Both of these columns are derived through feature extraction from the original Processor column. Additionally, we performed manual annotation by researching reliable sources to correctly assign the processor brand and series where the automated extraction failed. General preprocessing steps were applied to ensure consistency across the dataset.\n",
        "\n",
        "We also dropped 4 rows from the dataset. These rows were removed because they either contained outdated HDD storage or had SSD capacities below 128GB, which fall outside the scope of modern laptop configurations considered in our analysis."
      ]
    },
    {
      "cell_type": "markdown",
      "id": "aef04204",
      "metadata": {
        "id": "aef04204"
      },
      "source": [
        "# EDA for Processor End"
      ]
    },
    {
      "cell_type": "markdown",
      "id": "80a6526b",
      "metadata": {
        "id": "80a6526b"
      },
      "source": [
        "##################################################################################\n",
        "# EDA For RAM"
      ]
    },
    {
      "cell_type": "code",
      "execution_count": 51,
      "id": "987e4409",
      "metadata": {
        "colab": {
          "base_uri": "https://localhost:8080/"
        },
        "id": "987e4409",
        "outputId": "9a438c1b-f32d-4319-f231-70e6ed5c9e3a"
      },
      "outputs": [
        {
          "data": {
            "text/plain": [
              "np.int64(170)"
            ]
          },
          "execution_count": 51,
          "metadata": {},
          "output_type": "execute_result"
        }
      ],
      "source": [
        "df2['RAM Type'].isna().sum()"
      ]
    },
    {
      "cell_type": "code",
      "execution_count": 52,
      "id": "7c5d8eeb",
      "metadata": {
        "colab": {
          "base_uri": "https://localhost:8080/"
        },
        "id": "7c5d8eeb",
        "outputId": "3d19151d-c9f1-4886-a3fb-33b72244537a"
      },
      "outputs": [
        {
          "data": {
            "text/plain": [
              "array(['DDR4', 'DDR5', 'DDR3', nan, 'LPDDR4', 'LPDDR4X', 'LPDDR3',\n",
              "       'LPDDR5', 'LPDDR5X', 'Unified Memory', 'DDR2'], dtype=object)"
            ]
          },
          "execution_count": 52,
          "metadata": {},
          "output_type": "execute_result"
        }
      ],
      "source": [
        "df2['RAM Type'].unique()"
      ]
    },
    {
      "cell_type": "code",
      "execution_count": 53,
      "id": "e0de3b59",
      "metadata": {
        "colab": {
          "base_uri": "https://localhost:8080/",
          "height": 429
        },
        "id": "e0de3b59",
        "outputId": "43fd0800-351d-405d-d200-07616ac438e6"
      },
      "outputs": [
        {
          "data": {
            "text/plain": [
              "RAM Type\n",
              "DDR5              139840.135300\n",
              "LPDDR5X           132826.928125\n",
              "LPDDR3            112475.531532\n",
              "Unified Memory    109992.000000\n",
              "LPDDR5             87590.373134\n",
              "LPDDR4X            69917.332370\n",
              "DDR4               66430.036845\n",
              "LPDDR4             54170.773196\n",
              "DDR3               43944.172794\n",
              "DDR2               19997.000000\n",
              "Name: Price (Rs), dtype: float64"
            ]
          },
          "execution_count": 53,
          "metadata": {},
          "output_type": "execute_result"
        }
      ],
      "source": [
        "avg_price_by_ram = df2.groupby('RAM Type')['Price (Rs)'].mean().sort_values(ascending=False)\n",
        "avg_price_by_ram"
      ]
    },
    {
      "cell_type": "code",
      "execution_count": 54,
      "id": "913f41d2",
      "metadata": {
        "colab": {
          "base_uri": "https://localhost:8080/",
          "height": 607
        },
        "id": "913f41d2",
        "outputId": "414f70c6-7380-45a1-f0eb-170c7ed4c57d"
      },
      "outputs": [
        {
          "data": {
            "image/png": "[encoded data removed]",
            "text/plain": [
              "<Figure size 1000x600 with 1 Axes>"
            ]
          },
          "metadata": {},
          "output_type": "display_data"
        }
      ],
      "source": [
        "plt.figure(figsize=(10, 6))\n",
        "avg_price_by_ram.plot(kind='bar')\n",
        "plt.title('Average Laptop Price by RAM Type')\n",
        "plt.xlabel('RAM Type')\n",
        "plt.ylabel('Average Price (₹)')\n",
        "plt.xticks(rotation=45)\n",
        "plt.grid(axis='y')\n",
        "plt.tight_layout()\n",
        "plt.show()"
      ]
    },
    {
      "cell_type": "code",
      "execution_count": 55,
      "id": "9c7eb5a4",
      "metadata": {
        "id": "9c7eb5a4"
      },
      "outputs": [],
      "source": [
        "def infer_ram_type_by_price(price):\n",
        "    if price >= 135000:\n",
        "        return 'DDR5'\n",
        "    elif price >= 120000:\n",
        "        return 'LPDDR5X'\n",
        "    elif price >= 105000:\n",
        "        return 'LPDDR3'\n",
        "    elif price >= 95000:\n",
        "        return 'Unified Memory'\n",
        "    elif price >= 75000:\n",
        "        return 'LPDDR5'\n",
        "    elif price >= 60000:\n",
        "        return 'LPDDR4X'\n",
        "    elif price >= 50000:\n",
        "        return 'DDR4'\n",
        "    elif price >= 40000:\n",
        "        return 'LPDDR4'\n",
        "    else:\n",
        "        return 'DDR3'"
      ]
    },
    {
      "cell_type": "code",
      "execution_count": 56,
      "id": "4378d85a",
      "metadata": {
        "id": "4378d85a"
      },
      "outputs": [],
      "source": [
        "df2['RAM Type'] = df2.apply(\n",
        "    lambda row: infer_ram_type_by_price(row['Price (Rs)']) if pd.isna(row['RAM Type']) else row['RAM Type'],\n",
        "    axis=1\n",
        ")"
      ]
    },
    {
      "cell_type": "code",
      "execution_count": 57,
      "id": "e3244b4d",
      "metadata": {
        "colab": {
          "base_uri": "https://localhost:8080/"
        },
        "id": "e3244b4d",
        "outputId": "d9921dac-d4c3-4d82-9ca7-9b62bc666f42"
      },
      "outputs": [
        {
          "data": {
            "text/plain": [
              "np.int64(0)"
            ]
          },
          "execution_count": 57,
          "metadata": {},
          "output_type": "execute_result"
        }
      ],
      "source": [
        "df2['RAM Type'] = df2['RAM Type'].str.lower()\n",
        "df2['RAM Type'].isna().sum()"
      ]
    },
    {
      "cell_type": "markdown",
      "id": "5841b9c9",
      "metadata": {
        "id": "5841b9c9"
      },
      "source": [
        "We observed 170 missing values in the 'RAM Type' column. To impute these, we used the average laptop price corresponding to each RAM type as a reference."
      ]
    },
    {
      "cell_type": "markdown",
      "id": "8e016c78",
      "metadata": {
        "id": "8e016c78"
      },
      "source": [
        "# EDA RAM End"
      ]
    },
    {
      "cell_type": "markdown",
      "id": "d96d44cb",
      "metadata": {
        "id": "d96d44cb"
      },
      "source": [
        "############################################\n",
        "# EDA For Graphics"
      ]
    },
    {
      "cell_type": "code",
      "execution_count": 58,
      "id": "roPxknRk2EhH",
      "metadata": {
        "colab": {
          "base_uri": "https://localhost:8080/",
          "height": 504
        },
        "id": "roPxknRk2EhH",
        "outputId": "6e8974cc-214d-4733-c9b5-3aaa8dbbebd7"
      },
      "outputs": [
        {
          "data": {
            "text/plain": [
              "Text(0.5, 0, 'Count')"
            ]
          },
          "execution_count": 58,
          "metadata": {},
          "output_type": "execute_result"
        },
        {
          "data": {
            "image/png": "[encoded data removed]",
            "text/plain": [
              "<Figure size 1400x500 with 1 Axes>"
            ]
          },
          "metadata": {},
          "output_type": "display_data"
        }
      ],
      "source": [
        "plt.figure(figsize=(14, 5))\n",
        "\n",
        "top10_gpu = df2['Graphic Processor'].value_counts().nlargest(10).index\n",
        "plt.subplot(1, 2, 1)\n",
        "sns.countplot(data=df2[df2['Graphic Processor'].isin(top10_gpu)],\n",
        "              y='Graphic Processor', order=top10_gpu)\n",
        "plt.title('Top 10 Graphic Processors')\n",
        "plt.xlabel('Count')"
      ]
    },
    {
      "cell_type": "code",
      "execution_count": 59,
      "id": "39c5e652",
      "metadata": {
        "id": "39c5e652"
      },
      "outputs": [],
      "source": [
        "df2['Graphics Memory'] = df['Graphics Memory']"
      ]
    },
    {
      "cell_type": "code",
      "execution_count": 60,
      "id": "b316a7db",
      "metadata": {},
      "outputs": [
        {
          "data": {
            "image/png": "[encoded data removed]",
            "text/plain": [
              "<Figure size 640x480 with 1 Axes>"
            ]
          },
          "metadata": {},
          "output_type": "display_data"
        }
      ],
      "source": [
        "top10_mem = df2['Graphics Memory'].value_counts().nlargest(10).index\n",
        "plt.subplot(1, 2, 2)\n",
        "sns.countplot(data=df2[df2['Graphics Memory'].isin(top10_mem)],\n",
        "              y='Graphics Memory', order=top10_mem)\n",
        "plt.title('Top 10 Graphics Memory Sizes (Before EDA)')\n",
        "plt.xlabel('Count')\n",
        "\n",
        "plt.tight_layout()\n",
        "plt.show()"
      ]
    },
    {
      "cell_type": "code",
      "execution_count": 61,
      "id": "78f5407f",
      "metadata": {
        "colab": {
          "base_uri": "https://localhost:8080/"
        },
        "id": "78f5407f",
        "outputId": "7fe61876-868a-4323-a628-056a0cffad44"
      },
      "outputs": [
        {
          "data": {
            "text/plain": [
              "(92, 46)"
            ]
          },
          "execution_count": 61,
          "metadata": {},
          "output_type": "execute_result"
        }
      ],
      "source": [
        "df2[pd.isna(df2['Graphics Memory']) & pd.isna(df2['Graphic Processor'])].shape"
      ]
    },
    {
      "cell_type": "code",
      "execution_count": 62,
      "id": "67e268e7",
      "metadata": {
        "colab": {
          "base_uri": "https://localhost:8080/"
        },
        "id": "67e268e7",
        "outputId": "ebe5c91b-d9b4-4203-fa2f-ec84aaf7c38d"
      },
      "outputs": [
        {
          "data": {
            "text/plain": [
              "(5015, 46)"
            ]
          },
          "execution_count": 62,
          "metadata": {},
          "output_type": "execute_result"
        }
      ],
      "source": [
        "df2[pd.isna(df2['Graphics Memory']) & pd.notna(df2['Graphic Processor'])].shape"
      ]
    },
    {
      "cell_type": "code",
      "execution_count": 63,
      "id": "7ef99c45",
      "metadata": {
        "colab": {
          "base_uri": "https://localhost:8080/"
        },
        "id": "7ef99c45",
        "outputId": "18d22e53-3eb4-4fc6-de0f-edc751c2d0b2"
      },
      "outputs": [
        {
          "data": {
            "text/plain": [
              "(3065, 46)"
            ]
          },
          "execution_count": 63,
          "metadata": {},
          "output_type": "execute_result"
        }
      ],
      "source": [
        "df2[pd.notna(df2['Graphics Memory']) & pd.notna(df2['Graphic Processor'])].shape"
      ]
    },
    {
      "cell_type": "code",
      "execution_count": 64,
      "id": "785d8487",
      "metadata": {
        "id": "785d8487"
      },
      "outputs": [],
      "source": [
        "def get_graphics_type(row):\n",
        "    if pd.isna(row['Graphics Memory']) and pd.isna(row['Graphic Processor']):\n",
        "        return 'No Graphics'\n",
        "    elif pd.isna(row['Graphics Memory']) and pd.notna(row['Graphic Processor']):\n",
        "        return 'Integrated'\n",
        "    elif pd.notna(row['Graphics Memory']) and pd.notna(row['Graphic Processor']):\n",
        "        return 'Dedicated'\n",
        "    else:\n",
        "        return 'Unknown'\n",
        "\n",
        "df2['graphics_type'] = df2.apply(get_graphics_type, axis=1)"
      ]
    },
    {
      "cell_type": "markdown",
      "id": "546dc378",
      "metadata": {
        "id": "546dc378"
      },
      "source": [
        "The above function is designed to construct a new feature based on two existing features: 'Graphics Memory' and 'Graphic Processor'."
      ]
    },
    {
      "cell_type": "code",
      "execution_count": 65,
      "id": "dd9ba15f",
      "metadata": {
        "id": "dd9ba15f"
      },
      "outputs": [],
      "source": [
        "df2['Graphics Memory'] = df2['Graphics Memory'].fillna('0 GB')\n",
        "df2['Graphics Memory'] = df2['Graphics Memory'].str.split(' ').str[0]\n",
        "df2['Graphics Memory'] = df2['Graphics Memory'].astype('int32')"
      ]
    },
    {
      "cell_type": "code",
      "execution_count": 66,
      "id": "f9655df0",
      "metadata": {
        "id": "f9655df0"
      },
      "outputs": [],
      "source": [
        "df2['Graphic Processor'] = df2['Graphic Processor'].fillna('No Graphics')\n",
        "df2['Graphic Processor'] = df2['Graphic Processor'].str.lower()"
      ]
    },
    {
      "cell_type": "code",
      "execution_count": 67,
      "id": "ad20b127",
      "metadata": {
        "colab": {
          "base_uri": "https://localhost:8080/"
        },
        "id": "ad20b127",
        "outputId": "0e672e94-d70a-4763-c899-f209ec3316a1"
      },
      "outputs": [
        {
          "data": {
            "text/plain": [
              "array(['intel iris x', 'nvidia geforce rtx 4050', 'amd radeon 530',\n",
              "       'nvidia geforce gtx 1050', 'amd radeon'], dtype=object)"
            ]
          },
          "execution_count": 67,
          "metadata": {},
          "output_type": "execute_result"
        }
      ],
      "source": [
        "df2['Graphic Processor'].unique()[:5]"
      ]
    },
    {
      "cell_type": "markdown",
      "id": "bc2c1fb3",
      "metadata": {
        "id": "bc2c1fb3"
      },
      "source": [
        "In the 'Graphic Processor' and 'Graphics Memory' columns, null values indicate the absence of a dedicated graphics system. These are therefore replaced with 'No Graphics' and '0 GB' respectively."
      ]
    },
    {
      "cell_type": "markdown",
      "id": "47ed71c5",
      "metadata": {
        "id": "47ed71c5"
      },
      "source": [
        "# Graphics EDA End"
      ]
    },
    {
      "cell_type": "markdown",
      "id": "09146db1",
      "metadata": {
        "id": "09146db1"
      },
      "source": [
        "#####################################################\n",
        "# EDA For Series"
      ]
    },
    {
      "cell_type": "code",
      "execution_count": 68,
      "id": "0e086ca0",
      "metadata": {
        "colab": {
          "base_uri": "https://localhost:8080/",
          "height": 340
        },
        "id": "0e086ca0",
        "outputId": "2167b372-9295-454a-84c4-5d2fd90bb817"
      },
      "outputs": [
        {
          "data": {
            "text/html": [
              "<div>\n",
              "<style scoped>\n",
              "    .dataframe tbody tr th:only-of-type {\n",
              "        vertical-align: middle;\n",
              "    }\n",
              "\n",
              "    .dataframe tbody tr th {\n",
              "        vertical-align: top;\n",
              "    }\n",
              "\n",
              "    .dataframe thead th {\n",
              "        text-align: right;\n",
              "    }\n",
              "</style>\n",
              "<table border=\"1\" class=\"dataframe\">\n",
              "  <thead>\n",
              "    <tr style=\"text-align: right;\">\n",
              "      <th></th>\n",
              "      <th>Brand</th>\n",
              "      <th>Model</th>\n",
              "      <th>Series</th>\n",
              "      <th>Thickness</th>\n",
              "      <th>Dimensions (WxDxH)</th>\n",
              "      <th>Weight</th>\n",
              "      <th>Colors</th>\n",
              "      <th>Display Size</th>\n",
              "      <th>Display Resolution</th>\n",
              "      <th>Pixel Density</th>\n",
              "      <th>Display Features</th>\n",
              "      <th>Display Touchscreen</th>\n",
              "      <th>Processor</th>\n",
              "      <th>Clock-speed</th>\n",
              "      <th>Cache</th>\n",
              "      <th>Graphic Processor</th>\n",
              "      <th>RAM Capacity</th>\n",
              "      <th>RAM Type</th>\n",
              "      <th>Memory Slots</th>\n",
              "      <th>Memory Layout</th>\n",
              "      <th>SSD Capacity</th>\n",
              "      <th>Battery Cell</th>\n",
              "      <th>Battery Type</th>\n",
              "      <th>Power Supply</th>\n",
              "      <th>Wireless LAN</th>\n",
              "      <th>Wi-Fi Version</th>\n",
              "      <th>Bluetooth</th>\n",
              "      <th>Bluetooth Version</th>\n",
              "      <th>HDMI Ports</th>\n",
              "      <th>Headphone Jack</th>\n",
              "      <th>Microphone Jack</th>\n",
              "      <th>Web-cam</th>\n",
              "      <th>Video Recording</th>\n",
              "      <th>Speakers</th>\n",
              "      <th>In-built Microphone</th>\n",
              "      <th>Microphone Type</th>\n",
              "      <th>Pointing device</th>\n",
              "      <th>Keyboard</th>\n",
              "      <th>Warranty</th>\n",
              "      <th>Sales Package</th>\n",
              "      <th>market_status</th>\n",
              "      <th>Price (Rs)</th>\n",
              "      <th>OS</th>\n",
              "      <th>Processor_Brand</th>\n",
              "      <th>Processor_Series</th>\n",
              "      <th>Graphics Memory</th>\n",
              "      <th>graphics_type</th>\n",
              "    </tr>\n",
              "  </thead>\n",
              "  <tbody>\n",
              "    <tr>\n",
              "      <th>0</th>\n",
              "      <td>HP</td>\n",
              "      <td>14-dv0055TU (2N1L1PA)</td>\n",
              "      <td>Pavilion</td>\n",
              "      <td>17 Millimeter thickness</td>\n",
              "      <td>325 x 216 x 17  mm</td>\n",
              "      <td>1.41</td>\n",
              "      <td>Tranquil Pink</td>\n",
              "      <td>14.0</td>\n",
              "      <td>1920 x 1080 Pixels</td>\n",
              "      <td>157 ppi</td>\n",
              "      <td>Full HD LED Backlit Anti-glare IPS Micro-edge ...</td>\n",
              "      <td>No</td>\n",
              "      <td>Intel Core i5-1135G7 (11th Gen)</td>\n",
              "      <td>4.2 Ghz</td>\n",
              "      <td>8 MB</td>\n",
              "      <td>intel iris x</td>\n",
              "      <td>16</td>\n",
              "      <td>ddr4</td>\n",
              "      <td>2</td>\n",
              "      <td>2x8 Gigabyte</td>\n",
              "      <td>512 GB</td>\n",
              "      <td>3 Cell</td>\n",
              "      <td>Li-Ion</td>\n",
              "      <td>43 W AC Adapter W</td>\n",
              "      <td>802.11 b/g/n/ax</td>\n",
              "      <td>6.0</td>\n",
              "      <td>Yes</td>\n",
              "      <td>5.0</td>\n",
              "      <td>1</td>\n",
              "      <td>Yes</td>\n",
              "      <td>Yes</td>\n",
              "      <td>Yes</td>\n",
              "      <td>720p HD</td>\n",
              "      <td>Dual Speakers</td>\n",
              "      <td>Yes</td>\n",
              "      <td>Dual Array Digital Microphone</td>\n",
              "      <td>Touchpad with Multi-touch Gesture Support</td>\n",
              "      <td>Standard Notebook Keyboard</td>\n",
              "      <td>1 Year</td>\n",
              "      <td>Laptop, Battery, AC Adapter, User Guide</td>\n",
              "      <td>Available</td>\n",
              "      <td>71990.0</td>\n",
              "      <td>win 10</td>\n",
              "      <td>intel</td>\n",
              "      <td>i5</td>\n",
              "      <td>0</td>\n",
              "      <td>Integrated</td>\n",
              "    </tr>\n",
              "    <tr>\n",
              "      <th>1</th>\n",
              "      <td>Acer</td>\n",
              "      <td>PHN16-71 (NH.QLTSI.002)</td>\n",
              "      <td>Predator Helios Neo 16</td>\n",
              "      <td>26.5 Millimeter thickness</td>\n",
              "      <td>361 x 279 x 26.5  mm</td>\n",
              "      <td>2.60</td>\n",
              "      <td>Black</td>\n",
              "      <td>16.0</td>\n",
              "      <td>1920 x 1200 Pixels</td>\n",
              "      <td>142 ppi</td>\n",
              "      <td>Display with IPS (In-Plane Switching) Technolo...</td>\n",
              "      <td>No</td>\n",
              "      <td>Intel Core i7-13700HX (13th Gen)</td>\n",
              "      <td>NaN</td>\n",
              "      <td>NaN</td>\n",
              "      <td>nvidia geforce rtx 4050</td>\n",
              "      <td>16</td>\n",
              "      <td>ddr5</td>\n",
              "      <td>1</td>\n",
              "      <td>1*16 Gigabyte</td>\n",
              "      <td>512 GB</td>\n",
              "      <td>4 Cell</td>\n",
              "      <td>Li-Ion</td>\n",
              "      <td>230 W</td>\n",
              "      <td>802.11 a/b/g/n/ac</td>\n",
              "      <td>5.0</td>\n",
              "      <td>Yes</td>\n",
              "      <td>5.1</td>\n",
              "      <td>1</td>\n",
              "      <td>Yes</td>\n",
              "      <td>Yes</td>\n",
              "      <td>Yes</td>\n",
              "      <td>720p</td>\n",
              "      <td>Stereo Speakers</td>\n",
              "      <td>Yes</td>\n",
              "      <td>Built-In Microphones</td>\n",
              "      <td>Multi-Gesture Touchpad, Supporting Two-Finger ...</td>\n",
              "      <td>103-/104-/107-Key FineTip RGB- Keyboard With I...</td>\n",
              "      <td>NaN</td>\n",
              "      <td>Laptop, Power Adaptor, User Guide, Warranty Do...</td>\n",
              "      <td>Available</td>\n",
              "      <td>105999.0</td>\n",
              "      <td>win 11</td>\n",
              "      <td>intel</td>\n",
              "      <td>i7</td>\n",
              "      <td>6</td>\n",
              "      <td>Dedicated</td>\n",
              "    </tr>\n",
              "  </tbody>\n",
              "</table>\n",
              "</div>"
            ],
            "text/plain": [
              "  Brand                    Model                  Series  \\\n",
              "0    HP    14-dv0055TU (2N1L1PA)                Pavilion   \n",
              "1  Acer  PHN16-71 (NH.QLTSI.002)  Predator Helios Neo 16   \n",
              "\n",
              "                   Thickness    Dimensions (WxDxH)  Weight         Colors  \\\n",
              "0    17 Millimeter thickness    325 x 216 x 17  mm    1.41  Tranquil Pink   \n",
              "1  26.5 Millimeter thickness  361 x 279 x 26.5  mm    2.60          Black   \n",
              "\n",
              "   Display Size  Display Resolution Pixel Density  \\\n",
              "0          14.0  1920 x 1080 Pixels       157 ppi   \n",
              "1          16.0  1920 x 1200 Pixels       142 ppi   \n",
              "\n",
              "                                    Display Features Display Touchscreen  \\\n",
              "0  Full HD LED Backlit Anti-glare IPS Micro-edge ...                  No   \n",
              "1  Display with IPS (In-Plane Switching) Technolo...                  No   \n",
              "\n",
              "                          Processor Clock-speed Cache  \\\n",
              "0   Intel Core i5-1135G7 (11th Gen)     4.2 Ghz  8 MB   \n",
              "1  Intel Core i7-13700HX (13th Gen)         NaN   NaN   \n",
              "\n",
              "         Graphic Processor  RAM Capacity RAM Type Memory Slots  Memory Layout  \\\n",
              "0             intel iris x            16     ddr4            2   2x8 Gigabyte   \n",
              "1  nvidia geforce rtx 4050            16     ddr5            1  1*16 Gigabyte   \n",
              "\n",
              "  SSD Capacity Battery Cell Battery Type       Power Supply  \\\n",
              "0       512 GB       3 Cell       Li-Ion  43 W AC Adapter W   \n",
              "1       512 GB       4 Cell       Li-Ion              230 W   \n",
              "\n",
              "        Wireless LAN  Wi-Fi Version Bluetooth  Bluetooth Version HDMI Ports  \\\n",
              "0    802.11 b/g/n/ax            6.0       Yes                5.0          1   \n",
              "1  802.11 a/b/g/n/ac            5.0       Yes                5.1          1   \n",
              "\n",
              "  Headphone Jack Microphone Jack Web-cam Video Recording         Speakers  \\\n",
              "0            Yes             Yes     Yes         720p HD    Dual Speakers   \n",
              "1            Yes             Yes     Yes            720p  Stereo Speakers   \n",
              "\n",
              "  In-built Microphone                Microphone Type  \\\n",
              "0                 Yes  Dual Array Digital Microphone   \n",
              "1                 Yes           Built-In Microphones   \n",
              "\n",
              "                                     Pointing device  \\\n",
              "0          Touchpad with Multi-touch Gesture Support   \n",
              "1  Multi-Gesture Touchpad, Supporting Two-Finger ...   \n",
              "\n",
              "                                            Keyboard Warranty  \\\n",
              "0                         Standard Notebook Keyboard   1 Year   \n",
              "1  103-/104-/107-Key FineTip RGB- Keyboard With I...      NaN   \n",
              "\n",
              "                                       Sales Package market_status  \\\n",
              "0            Laptop, Battery, AC Adapter, User Guide     Available   \n",
              "1  Laptop, Power Adaptor, User Guide, Warranty Do...     Available   \n",
              "\n",
              "   Price (Rs)      OS Processor_Brand Processor_Series  Graphics Memory  \\\n",
              "0     71990.0  win 10           intel               i5                0   \n",
              "1    105999.0  win 11           intel               i7                6   \n",
              "\n",
              "  graphics_type  \n",
              "0    Integrated  \n",
              "1     Dedicated  "
            ]
          },
          "execution_count": 68,
          "metadata": {},
          "output_type": "execute_result"
        }
      ],
      "source": [
        "df2.head(2)"
      ]
    },
    {
      "cell_type": "code",
      "execution_count": 69,
      "id": "3db714f5",
      "metadata": {
        "colab": {
          "base_uri": "https://localhost:8080/"
        },
        "id": "3db714f5",
        "outputId": "69f130c0-5897-4fde-88d0-64c09ddaf19d"
      },
      "outputs": [
        {
          "data": {
            "text/plain": [
              "np.int64(1087)"
            ]
          },
          "execution_count": 69,
          "metadata": {},
          "output_type": "execute_result"
        }
      ],
      "source": [
        "df2['Series'].isna().sum()"
      ]
    },
    {
      "cell_type": "code",
      "execution_count": 70,
      "id": "547a39fe",
      "metadata": {
        "id": "547a39fe"
      },
      "outputs": [],
      "source": [
        "df2['Series'] = df2['Series'].str.split(' ').str[0]\n",
        "df2['Series'] = df2['Series'].str.lower()"
      ]
    },
    {
      "cell_type": "code",
      "execution_count": 71,
      "id": "036ff8e9",
      "metadata": {
        "id": "036ff8e9"
      },
      "outputs": [],
      "source": [
        "def extract_series_from_model(model_val):\n",
        "    if pd.isna(model_val):\n",
        "        return np.nan\n",
        "    space_idx = model_val.find(' ')\n",
        "    hyphen_idx = model_val.find('-')\n",
        "\n",
        "    if space_idx == -1 and hyphen_idx == -1:\n",
        "        return model_val\n",
        "    elif space_idx == -1:\n",
        "        return model_val[:hyphen_idx]\n",
        "    elif hyphen_idx == -1:\n",
        "        return model_val[:space_idx]\n",
        "    else:\n",
        "        return model_val[:min(space_idx, hyphen_idx)]\n",
        "\n",
        "df2['Series'] = df2.apply(\n",
        "    lambda row: extract_series_from_model(row['Model']) if pd.isna(row['Series']) else row['Series'],\n",
        "    axis=1\n",
        ")"
      ]
    },
    {
      "cell_type": "code",
      "execution_count": 72,
      "id": "18754ad6",
      "metadata": {
        "colab": {
          "base_uri": "https://localhost:8080/"
        },
        "id": "18754ad6",
        "outputId": "6de5140b-982a-4064-f089-878af2fa9ebf"
      },
      "outputs": [
        {
          "data": {
            "text/plain": [
              "np.int64(0)"
            ]
          },
          "execution_count": 72,
          "metadata": {},
          "output_type": "execute_result"
        }
      ],
      "source": [
        "df2.Series.isna().sum()"
      ]
    },
    {
      "cell_type": "code",
      "execution_count": 73,
      "id": "a922d39d",
      "metadata": {
        "colab": {
          "base_uri": "https://localhost:8080/",
          "height": 340
        },
        "id": "a922d39d",
        "outputId": "be082919-f73f-4ea1-bbb8-4fa5250bbda2"
      },
      "outputs": [
        {
          "data": {
            "text/html": [
              "<div>\n",
              "<style scoped>\n",
              "    .dataframe tbody tr th:only-of-type {\n",
              "        vertical-align: middle;\n",
              "    }\n",
              "\n",
              "    .dataframe tbody tr th {\n",
              "        vertical-align: top;\n",
              "    }\n",
              "\n",
              "    .dataframe thead th {\n",
              "        text-align: right;\n",
              "    }\n",
              "</style>\n",
              "<table border=\"1\" class=\"dataframe\">\n",
              "  <thead>\n",
              "    <tr style=\"text-align: right;\">\n",
              "      <th></th>\n",
              "      <th>Brand</th>\n",
              "      <th>Model</th>\n",
              "      <th>Series</th>\n",
              "      <th>Thickness</th>\n",
              "      <th>Dimensions (WxDxH)</th>\n",
              "      <th>Weight</th>\n",
              "      <th>Colors</th>\n",
              "      <th>Display Size</th>\n",
              "      <th>Display Resolution</th>\n",
              "      <th>Pixel Density</th>\n",
              "      <th>Display Features</th>\n",
              "      <th>Display Touchscreen</th>\n",
              "      <th>Processor</th>\n",
              "      <th>Clock-speed</th>\n",
              "      <th>Cache</th>\n",
              "      <th>Graphic Processor</th>\n",
              "      <th>RAM Capacity</th>\n",
              "      <th>RAM Type</th>\n",
              "      <th>Memory Slots</th>\n",
              "      <th>Memory Layout</th>\n",
              "      <th>SSD Capacity</th>\n",
              "      <th>Battery Cell</th>\n",
              "      <th>Battery Type</th>\n",
              "      <th>Power Supply</th>\n",
              "      <th>Wireless LAN</th>\n",
              "      <th>Wi-Fi Version</th>\n",
              "      <th>Bluetooth</th>\n",
              "      <th>Bluetooth Version</th>\n",
              "      <th>HDMI Ports</th>\n",
              "      <th>Headphone Jack</th>\n",
              "      <th>Microphone Jack</th>\n",
              "      <th>Web-cam</th>\n",
              "      <th>Video Recording</th>\n",
              "      <th>Speakers</th>\n",
              "      <th>In-built Microphone</th>\n",
              "      <th>Microphone Type</th>\n",
              "      <th>Pointing device</th>\n",
              "      <th>Keyboard</th>\n",
              "      <th>Warranty</th>\n",
              "      <th>Sales Package</th>\n",
              "      <th>market_status</th>\n",
              "      <th>Price (Rs)</th>\n",
              "      <th>OS</th>\n",
              "      <th>Processor_Brand</th>\n",
              "      <th>Processor_Series</th>\n",
              "      <th>Graphics Memory</th>\n",
              "      <th>graphics_type</th>\n",
              "    </tr>\n",
              "  </thead>\n",
              "  <tbody>\n",
              "    <tr>\n",
              "      <th>0</th>\n",
              "      <td>HP</td>\n",
              "      <td>14-dv0055TU (2N1L1PA)</td>\n",
              "      <td>pavilion</td>\n",
              "      <td>17 Millimeter thickness</td>\n",
              "      <td>325 x 216 x 17  mm</td>\n",
              "      <td>1.41</td>\n",
              "      <td>Tranquil Pink</td>\n",
              "      <td>14.0</td>\n",
              "      <td>1920 x 1080 Pixels</td>\n",
              "      <td>157 ppi</td>\n",
              "      <td>Full HD LED Backlit Anti-glare IPS Micro-edge ...</td>\n",
              "      <td>No</td>\n",
              "      <td>Intel Core i5-1135G7 (11th Gen)</td>\n",
              "      <td>4.2 Ghz</td>\n",
              "      <td>8 MB</td>\n",
              "      <td>intel iris x</td>\n",
              "      <td>16</td>\n",
              "      <td>ddr4</td>\n",
              "      <td>2</td>\n",
              "      <td>2x8 Gigabyte</td>\n",
              "      <td>512 GB</td>\n",
              "      <td>3 Cell</td>\n",
              "      <td>Li-Ion</td>\n",
              "      <td>43 W AC Adapter W</td>\n",
              "      <td>802.11 b/g/n/ax</td>\n",
              "      <td>6.0</td>\n",
              "      <td>Yes</td>\n",
              "      <td>5.0</td>\n",
              "      <td>1</td>\n",
              "      <td>Yes</td>\n",
              "      <td>Yes</td>\n",
              "      <td>Yes</td>\n",
              "      <td>720p HD</td>\n",
              "      <td>Dual Speakers</td>\n",
              "      <td>Yes</td>\n",
              "      <td>Dual Array Digital Microphone</td>\n",
              "      <td>Touchpad with Multi-touch Gesture Support</td>\n",
              "      <td>Standard Notebook Keyboard</td>\n",
              "      <td>1 Year</td>\n",
              "      <td>Laptop, Battery, AC Adapter, User Guide</td>\n",
              "      <td>Available</td>\n",
              "      <td>71990.0</td>\n",
              "      <td>win 10</td>\n",
              "      <td>intel</td>\n",
              "      <td>i5</td>\n",
              "      <td>0</td>\n",
              "      <td>Integrated</td>\n",
              "    </tr>\n",
              "    <tr>\n",
              "      <th>1</th>\n",
              "      <td>Acer</td>\n",
              "      <td>PHN16-71 (NH.QLTSI.002)</td>\n",
              "      <td>predator</td>\n",
              "      <td>26.5 Millimeter thickness</td>\n",
              "      <td>361 x 279 x 26.5  mm</td>\n",
              "      <td>2.60</td>\n",
              "      <td>Black</td>\n",
              "      <td>16.0</td>\n",
              "      <td>1920 x 1200 Pixels</td>\n",
              "      <td>142 ppi</td>\n",
              "      <td>Display with IPS (In-Plane Switching) Technolo...</td>\n",
              "      <td>No</td>\n",
              "      <td>Intel Core i7-13700HX (13th Gen)</td>\n",
              "      <td>NaN</td>\n",
              "      <td>NaN</td>\n",
              "      <td>nvidia geforce rtx 4050</td>\n",
              "      <td>16</td>\n",
              "      <td>ddr5</td>\n",
              "      <td>1</td>\n",
              "      <td>1*16 Gigabyte</td>\n",
              "      <td>512 GB</td>\n",
              "      <td>4 Cell</td>\n",
              "      <td>Li-Ion</td>\n",
              "      <td>230 W</td>\n",
              "      <td>802.11 a/b/g/n/ac</td>\n",
              "      <td>5.0</td>\n",
              "      <td>Yes</td>\n",
              "      <td>5.1</td>\n",
              "      <td>1</td>\n",
              "      <td>Yes</td>\n",
              "      <td>Yes</td>\n",
              "      <td>Yes</td>\n",
              "      <td>720p</td>\n",
              "      <td>Stereo Speakers</td>\n",
              "      <td>Yes</td>\n",
              "      <td>Built-In Microphones</td>\n",
              "      <td>Multi-Gesture Touchpad, Supporting Two-Finger ...</td>\n",
              "      <td>103-/104-/107-Key FineTip RGB- Keyboard With I...</td>\n",
              "      <td>NaN</td>\n",
              "      <td>Laptop, Power Adaptor, User Guide, Warranty Do...</td>\n",
              "      <td>Available</td>\n",
              "      <td>105999.0</td>\n",
              "      <td>win 11</td>\n",
              "      <td>intel</td>\n",
              "      <td>i7</td>\n",
              "      <td>6</td>\n",
              "      <td>Dedicated</td>\n",
              "    </tr>\n",
              "  </tbody>\n",
              "</table>\n",
              "</div>"
            ],
            "text/plain": [
              "  Brand                    Model    Series                  Thickness  \\\n",
              "0    HP    14-dv0055TU (2N1L1PA)  pavilion    17 Millimeter thickness   \n",
              "1  Acer  PHN16-71 (NH.QLTSI.002)  predator  26.5 Millimeter thickness   \n",
              "\n",
              "     Dimensions (WxDxH)  Weight         Colors  Display Size  \\\n",
              "0    325 x 216 x 17  mm    1.41  Tranquil Pink          14.0   \n",
              "1  361 x 279 x 26.5  mm    2.60          Black          16.0   \n",
              "\n",
              "   Display Resolution Pixel Density  \\\n",
              "0  1920 x 1080 Pixels       157 ppi   \n",
              "1  1920 x 1200 Pixels       142 ppi   \n",
              "\n",
              "                                    Display Features Display Touchscreen  \\\n",
              "0  Full HD LED Backlit Anti-glare IPS Micro-edge ...                  No   \n",
              "1  Display with IPS (In-Plane Switching) Technolo...                  No   \n",
              "\n",
              "                          Processor Clock-speed Cache  \\\n",
              "0   Intel Core i5-1135G7 (11th Gen)     4.2 Ghz  8 MB   \n",
              "1  Intel Core i7-13700HX (13th Gen)         NaN   NaN   \n",
              "\n",
              "         Graphic Processor  RAM Capacity RAM Type Memory Slots  Memory Layout  \\\n",
              "0             intel iris x            16     ddr4            2   2x8 Gigabyte   \n",
              "1  nvidia geforce rtx 4050            16     ddr5            1  1*16 Gigabyte   \n",
              "\n",
              "  SSD Capacity Battery Cell Battery Type       Power Supply  \\\n",
              "0       512 GB       3 Cell       Li-Ion  43 W AC Adapter W   \n",
              "1       512 GB       4 Cell       Li-Ion              230 W   \n",
              "\n",
              "        Wireless LAN  Wi-Fi Version Bluetooth  Bluetooth Version HDMI Ports  \\\n",
              "0    802.11 b/g/n/ax            6.0       Yes                5.0          1   \n",
              "1  802.11 a/b/g/n/ac            5.0       Yes                5.1          1   \n",
              "\n",
              "  Headphone Jack Microphone Jack Web-cam Video Recording         Speakers  \\\n",
              "0            Yes             Yes     Yes         720p HD    Dual Speakers   \n",
              "1            Yes             Yes     Yes            720p  Stereo Speakers   \n",
              "\n",
              "  In-built Microphone                Microphone Type  \\\n",
              "0                 Yes  Dual Array Digital Microphone   \n",
              "1                 Yes           Built-In Microphones   \n",
              "\n",
              "                                     Pointing device  \\\n",
              "0          Touchpad with Multi-touch Gesture Support   \n",
              "1  Multi-Gesture Touchpad, Supporting Two-Finger ...   \n",
              "\n",
              "                                            Keyboard Warranty  \\\n",
              "0                         Standard Notebook Keyboard   1 Year   \n",
              "1  103-/104-/107-Key FineTip RGB- Keyboard With I...      NaN   \n",
              "\n",
              "                                       Sales Package market_status  \\\n",
              "0            Laptop, Battery, AC Adapter, User Guide     Available   \n",
              "1  Laptop, Power Adaptor, User Guide, Warranty Do...     Available   \n",
              "\n",
              "   Price (Rs)      OS Processor_Brand Processor_Series  Graphics Memory  \\\n",
              "0     71990.0  win 10           intel               i5                0   \n",
              "1    105999.0  win 11           intel               i7                6   \n",
              "\n",
              "  graphics_type  \n",
              "0    Integrated  \n",
              "1     Dedicated  "
            ]
          },
          "execution_count": 73,
          "metadata": {},
          "output_type": "execute_result"
        }
      ],
      "source": [
        "df2.head(2)"
      ]
    },
    {
      "cell_type": "code",
      "execution_count": 74,
      "id": "lSLCsP1zueoK",
      "metadata": {
        "colab": {
          "base_uri": "https://localhost:8080/",
          "height": 607
        },
        "id": "lSLCsP1zueoK",
        "outputId": "fd75e00f-3243-4d96-8b34-27a1e121ff81"
      },
      "outputs": [
        {
          "data": {
            "image/png": "[encoded data removed]",
            "text/plain": [
              "<Figure size 1200x600 with 2 Axes>"
            ]
          },
          "metadata": {},
          "output_type": "display_data"
        }
      ],
      "source": [
        "cross_tab = pd.crosstab(df2['Brand'], df2['Series'])\n",
        "top10_series = df2['Series'].value_counts().nlargest(10).index\n",
        "cross_tab = cross_tab[top10_series]\n",
        "\n",
        "cross_tab = cross_tab.loc[cross_tab.any(axis=1)]\n",
        "\n",
        "mask = cross_tab == 0\n",
        "\n",
        "plt.figure(figsize=(12, 6))\n",
        "sns.heatmap(cross_tab, annot=True, fmt='d', cmap='YlGnBu', mask=mask, cbar=True, linewidths=0.5, linecolor='gray')\n",
        "plt.title('Brand vs Series (Top 10 Series)')\n",
        "plt.xlabel('Series')\n",
        "plt.ylabel('Brand')\n",
        "plt.tight_layout()\n",
        "plt.show()"
      ]
    },
    {
      "cell_type": "markdown",
      "id": "d0849b64",
      "metadata": {
        "id": "d0849b64"
      },
      "source": [
        "Initially, the 'series' column contained 1,087 null values. We first cleaned the column by retaining only the series names, and then imputed the missing values by extracting series names from the 'model' column using the extract_series_from_model function."
      ]
    },
    {
      "cell_type": "markdown",
      "id": "b84c7140",
      "metadata": {
        "id": "b84c7140"
      },
      "source": [
        "# Series EDA End"
      ]
    },
    {
      "cell_type": "markdown",
      "id": "5e14b956",
      "metadata": {
        "id": "5e14b956"
      },
      "source": [
        "############################################################################\n",
        "# EDA for Pixel Density"
      ]
    },
    {
      "cell_type": "code",
      "execution_count": 75,
      "id": "71f34596",
      "metadata": {
        "colab": {
          "base_uri": "https://localhost:8080/"
        },
        "id": "71f34596",
        "outputId": "17f4dc33-a7f9-4887-8712-0315f4730fd6"
      },
      "outputs": [
        {
          "data": {
            "text/plain": [
              "np.int64(34)"
            ]
          },
          "execution_count": 75,
          "metadata": {},
          "output_type": "execute_result"
        }
      ],
      "source": [
        "df2['Pixel Density'].isna().sum()"
      ]
    },
    {
      "cell_type": "code",
      "execution_count": 76,
      "id": "0aa3cf5c",
      "metadata": {
        "colab": {
          "base_uri": "https://localhost:8080/"
        },
        "id": "0aa3cf5c",
        "outputId": "b49baa3c-69d1-4beb-eca1-f2b9b2261f16"
      },
      "outputs": [
        {
          "data": {
            "text/plain": [
              "np.int64(32)"
            ]
          },
          "execution_count": 76,
          "metadata": {},
          "output_type": "execute_result"
        }
      ],
      "source": [
        "df2['Display Resolution'].isna().sum()"
      ]
    },
    {
      "cell_type": "code",
      "execution_count": 77,
      "id": "aef949ca",
      "metadata": {
        "colab": {
          "base_uri": "https://localhost:8080/"
        },
        "id": "aef949ca",
        "outputId": "785f67fe-cc50-42e3-e754-693c2d70a8eb"
      },
      "outputs": [
        {
          "data": {
            "text/plain": [
              "(32, 47)"
            ]
          },
          "execution_count": 77,
          "metadata": {},
          "output_type": "execute_result"
        }
      ],
      "source": [
        "df2[(df2['Display Resolution'].isna()) & (df2['Pixel Density'].isna())].shape"
      ]
    },
    {
      "cell_type": "code",
      "execution_count": 78,
      "id": "388f874c",
      "metadata": {
        "colab": {
          "base_uri": "https://localhost:8080/",
          "height": 357
        },
        "id": "388f874c",
        "outputId": "b85f2b24-5e08-48e6-92ee-801b2d1e9d5c"
      },
      "outputs": [
        {
          "data": {
            "text/html": [
              "<div>\n",
              "<style scoped>\n",
              "    .dataframe tbody tr th:only-of-type {\n",
              "        vertical-align: middle;\n",
              "    }\n",
              "\n",
              "    .dataframe tbody tr th {\n",
              "        vertical-align: top;\n",
              "    }\n",
              "\n",
              "    .dataframe thead th {\n",
              "        text-align: right;\n",
              "    }\n",
              "</style>\n",
              "<table border=\"1\" class=\"dataframe\">\n",
              "  <thead>\n",
              "    <tr style=\"text-align: right;\">\n",
              "      <th></th>\n",
              "      <th>Brand</th>\n",
              "      <th>Model</th>\n",
              "      <th>Series</th>\n",
              "      <th>Thickness</th>\n",
              "      <th>Dimensions (WxDxH)</th>\n",
              "      <th>Weight</th>\n",
              "      <th>Colors</th>\n",
              "      <th>Display Size</th>\n",
              "      <th>Display Resolution</th>\n",
              "      <th>Pixel Density</th>\n",
              "      <th>Display Features</th>\n",
              "      <th>Display Touchscreen</th>\n",
              "      <th>Processor</th>\n",
              "      <th>Clock-speed</th>\n",
              "      <th>Cache</th>\n",
              "      <th>Graphic Processor</th>\n",
              "      <th>RAM Capacity</th>\n",
              "      <th>RAM Type</th>\n",
              "      <th>Memory Slots</th>\n",
              "      <th>Memory Layout</th>\n",
              "      <th>SSD Capacity</th>\n",
              "      <th>Battery Cell</th>\n",
              "      <th>Battery Type</th>\n",
              "      <th>Power Supply</th>\n",
              "      <th>Wireless LAN</th>\n",
              "      <th>Wi-Fi Version</th>\n",
              "      <th>Bluetooth</th>\n",
              "      <th>Bluetooth Version</th>\n",
              "      <th>HDMI Ports</th>\n",
              "      <th>Headphone Jack</th>\n",
              "      <th>Microphone Jack</th>\n",
              "      <th>Web-cam</th>\n",
              "      <th>Video Recording</th>\n",
              "      <th>Speakers</th>\n",
              "      <th>In-built Microphone</th>\n",
              "      <th>Microphone Type</th>\n",
              "      <th>Pointing device</th>\n",
              "      <th>Keyboard</th>\n",
              "      <th>Warranty</th>\n",
              "      <th>Sales Package</th>\n",
              "      <th>market_status</th>\n",
              "      <th>Price (Rs)</th>\n",
              "      <th>OS</th>\n",
              "      <th>Processor_Brand</th>\n",
              "      <th>Processor_Series</th>\n",
              "      <th>Graphics Memory</th>\n",
              "      <th>graphics_type</th>\n",
              "    </tr>\n",
              "  </thead>\n",
              "  <tbody>\n",
              "    <tr>\n",
              "      <th>761</th>\n",
              "      <td>HP</td>\n",
              "      <td>16-wf1174tx (B59SLPA)</td>\n",
              "      <td>omen</td>\n",
              "      <td>23.5 Millimeter thickness</td>\n",
              "      <td>369 x 259.4 x 23.5  mm</td>\n",
              "      <td>2.39</td>\n",
              "      <td>NaN</td>\n",
              "      <td>16.1</td>\n",
              "      <td>2560 x 1440 Pixels</td>\n",
              "      <td>NaN</td>\n",
              "      <td>Diagonal   QHD</td>\n",
              "      <td>No</td>\n",
              "      <td>Intel Core i7 - 14700HX (14th Gen)</td>\n",
              "      <td>5.5 Ghz</td>\n",
              "      <td>33 MB</td>\n",
              "      <td>nvidia geforce rtx 4070</td>\n",
              "      <td>32</td>\n",
              "      <td>ddr5</td>\n",
              "      <td>1</td>\n",
              "      <td>1*32 Gigabyte</td>\n",
              "      <td>1 TB</td>\n",
              "      <td>NaN</td>\n",
              "      <td>NaN</td>\n",
              "      <td>NaN</td>\n",
              "      <td>NaN</td>\n",
              "      <td>NaN</td>\n",
              "      <td>NaN</td>\n",
              "      <td>NaN</td>\n",
              "      <td>Yes (HDMI 2.1)</td>\n",
              "      <td>Yes</td>\n",
              "      <td>Yes</td>\n",
              "      <td>Yes</td>\n",
              "      <td>1080p FHD</td>\n",
              "      <td>Dual Speakers</td>\n",
              "      <td>Yes</td>\n",
              "      <td>Integrated Dual Array Digital Microphones</td>\n",
              "      <td>NaN</td>\n",
              "      <td>Full-Sized RGB Keyboard Kitted With 26-Key Rol...</td>\n",
              "      <td>1 Year</td>\n",
              "      <td>Laptop, Power Adapter, User Manual, Warranty Card</td>\n",
              "      <td>Out of Stock</td>\n",
              "      <td>194999.0</td>\n",
              "      <td>win 11</td>\n",
              "      <td>intel</td>\n",
              "      <td>i7</td>\n",
              "      <td>8</td>\n",
              "      <td>Dedicated</td>\n",
              "    </tr>\n",
              "    <tr>\n",
              "      <th>797</th>\n",
              "      <td>Lenovo</td>\n",
              "      <td>15AMN7 (82VG00J5IN)</td>\n",
              "      <td>ideapad</td>\n",
              "      <td>18 Millimeter thickness</td>\n",
              "      <td>360 x 236 x 18  mm</td>\n",
              "      <td>1.58</td>\n",
              "      <td>15.6</td>\n",
              "      <td>15.6</td>\n",
              "      <td>1920 x 1080 Pixels</td>\n",
              "      <td>NaN</td>\n",
              "      <td>NaN</td>\n",
              "      <td>No</td>\n",
              "      <td>AMD Quad-Core Ryzen 5 - 7520U</td>\n",
              "      <td>2.8 Ghz</td>\n",
              "      <td>NaN</td>\n",
              "      <td>amd radeon 610</td>\n",
              "      <td>8</td>\n",
              "      <td>lpddr5</td>\n",
              "      <td>1</td>\n",
              "      <td>1*8 Gigabyte</td>\n",
              "      <td>512 GB</td>\n",
              "      <td>3 Cell</td>\n",
              "      <td>NaN</td>\n",
              "      <td>NaN</td>\n",
              "      <td>802.11 b/g/n/ax</td>\n",
              "      <td>6.0</td>\n",
              "      <td>Yes</td>\n",
              "      <td>5.2</td>\n",
              "      <td>Yes (HDMI 1.4)</td>\n",
              "      <td>Yes</td>\n",
              "      <td>Yes</td>\n",
              "      <td>Yes</td>\n",
              "      <td>720p HD</td>\n",
              "      <td>2x 1.5W Stereo Speakers</td>\n",
              "      <td>Yes</td>\n",
              "      <td>Integrated Dual Array Microphone</td>\n",
              "      <td>NaN</td>\n",
              "      <td>Non- Keyboard</td>\n",
              "      <td>1 Year</td>\n",
              "      <td>Laptop, Power Adapter, User Manual, Warranty Card</td>\n",
              "      <td>Out of Stock</td>\n",
              "      <td>32990.0</td>\n",
              "      <td>win 11</td>\n",
              "      <td>amd</td>\n",
              "      <td>quad core</td>\n",
              "      <td>0</td>\n",
              "      <td>Integrated</td>\n",
              "    </tr>\n",
              "  </tbody>\n",
              "</table>\n",
              "</div>"
            ],
            "text/plain": [
              "      Brand                  Model   Series                  Thickness  \\\n",
              "761      HP  16-wf1174tx (B59SLPA)     omen  23.5 Millimeter thickness   \n",
              "797  Lenovo    15AMN7 (82VG00J5IN)  ideapad    18 Millimeter thickness   \n",
              "\n",
              "         Dimensions (WxDxH)  Weight Colors  Display Size  Display Resolution  \\\n",
              "761  369 x 259.4 x 23.5  mm    2.39    NaN          16.1  2560 x 1440 Pixels   \n",
              "797      360 x 236 x 18  mm    1.58   15.6          15.6  1920 x 1080 Pixels   \n",
              "\n",
              "    Pixel Density Display Features Display Touchscreen  \\\n",
              "761           NaN   Diagonal   QHD                  No   \n",
              "797           NaN              NaN                  No   \n",
              "\n",
              "                              Processor Clock-speed  Cache  \\\n",
              "761  Intel Core i7 - 14700HX (14th Gen)     5.5 Ghz  33 MB   \n",
              "797       AMD Quad-Core Ryzen 5 - 7520U     2.8 Ghz    NaN   \n",
              "\n",
              "           Graphic Processor  RAM Capacity RAM Type Memory Slots  \\\n",
              "761  nvidia geforce rtx 4070            32     ddr5            1   \n",
              "797           amd radeon 610             8   lpddr5            1   \n",
              "\n",
              "     Memory Layout SSD Capacity Battery Cell Battery Type Power Supply  \\\n",
              "761  1*32 Gigabyte         1 TB          NaN          NaN          NaN   \n",
              "797   1*8 Gigabyte       512 GB       3 Cell          NaN          NaN   \n",
              "\n",
              "        Wireless LAN  Wi-Fi Version Bluetooth  Bluetooth Version  \\\n",
              "761              NaN            NaN       NaN                NaN   \n",
              "797  802.11 b/g/n/ax            6.0       Yes                5.2   \n",
              "\n",
              "         HDMI Ports Headphone Jack Microphone Jack Web-cam Video Recording  \\\n",
              "761  Yes (HDMI 2.1)            Yes             Yes     Yes       1080p FHD   \n",
              "797  Yes (HDMI 1.4)            Yes             Yes     Yes         720p HD   \n",
              "\n",
              "                    Speakers In-built Microphone  \\\n",
              "761            Dual Speakers                 Yes   \n",
              "797  2x 1.5W Stereo Speakers                 Yes   \n",
              "\n",
              "                               Microphone Type Pointing device  \\\n",
              "761  Integrated Dual Array Digital Microphones             NaN   \n",
              "797           Integrated Dual Array Microphone             NaN   \n",
              "\n",
              "                                              Keyboard Warranty  \\\n",
              "761  Full-Sized RGB Keyboard Kitted With 26-Key Rol...   1 Year   \n",
              "797                                      Non- Keyboard   1 Year   \n",
              "\n",
              "                                         Sales Package market_status  \\\n",
              "761  Laptop, Power Adapter, User Manual, Warranty Card  Out of Stock   \n",
              "797  Laptop, Power Adapter, User Manual, Warranty Card  Out of Stock   \n",
              "\n",
              "     Price (Rs)      OS Processor_Brand Processor_Series  Graphics Memory  \\\n",
              "761    194999.0  win 11           intel               i7                8   \n",
              "797     32990.0  win 11             amd        quad core                0   \n",
              "\n",
              "    graphics_type  \n",
              "761     Dedicated  \n",
              "797    Integrated  "
            ]
          },
          "execution_count": 78,
          "metadata": {},
          "output_type": "execute_result"
        }
      ],
      "source": [
        "df2[(pd.notna(df2['Display Resolution'])) & (df2['Pixel Density'].isna())]"
      ]
    },
    {
      "cell_type": "code",
      "execution_count": 79,
      "id": "eff9c5ce",
      "metadata": {
        "colab": {
          "base_uri": "https://localhost:8080/"
        },
        "id": "eff9c5ce",
        "outputId": "94c44a21-bdaf-483f-e347-92846e8339aa"
      },
      "outputs": [
        {
          "name": "stdout",
          "output_type": "stream",
          "text": [
            "182.43537640433112\n",
            "141.21199808219862\n"
          ]
        }
      ],
      "source": [
        "# PPI = (((width)^2 + (height)^2)^0.5) / screen size (in inches) ---- Formula for PPI\n",
        "\n",
        "print(((2560**2 + 1440**2)**0.5) / 16.1)\n",
        "print(((1920**2 + 1080**2)**0.5) / 15.6)"
      ]
    },
    {
      "cell_type": "code",
      "execution_count": 80,
      "id": "72e790d4",
      "metadata": {
        "id": "72e790d4"
      },
      "outputs": [],
      "source": [
        "df2.loc[761, 'Pixel Density'] = df2.loc[761, 'Pixel Density'] = '182.43'\n",
        "df2.loc[797, 'Pixel Density'] = df2.loc[797, 'Pixel Density'] = '141.21'"
      ]
    },
    {
      "cell_type": "code",
      "execution_count": 81,
      "id": "267988e8",
      "metadata": {
        "id": "267988e8"
      },
      "outputs": [],
      "source": [
        "df2['Pixel Density'] = df2['Pixel Density'].str.split(' ').str[0]\n",
        "df2['Pixel Density'] = df2['Pixel Density'].astype('float64')"
      ]
    },
    {
      "cell_type": "code",
      "execution_count": 82,
      "id": "a118b38a",
      "metadata": {
        "colab": {
          "base_uri": "https://localhost:8080/"
        },
        "id": "a118b38a",
        "outputId": "e156bd85-95a7-4225-82ac-81a8d877d78e"
      },
      "outputs": [
        {
          "data": {
            "text/plain": [
              "np.int64(32)"
            ]
          },
          "execution_count": 82,
          "metadata": {},
          "output_type": "execute_result"
        }
      ],
      "source": [
        "df2['Pixel Density'].isna().sum()"
      ]
    },
    {
      "cell_type": "code",
      "execution_count": 83,
      "id": "Rsu8qr6IxxjY",
      "metadata": {
        "colab": {
          "base_uri": "https://localhost:8080/",
          "height": 507
        },
        "id": "Rsu8qr6IxxjY",
        "outputId": "7e0d1af0-335b-4191-e947-3a0c4bf5e57b"
      },
      "outputs": [
        {
          "data": {
            "image/png": "[encoded data removed]",
            "text/plain": [
              "<Figure size 1000x500 with 1 Axes>"
            ]
          },
          "metadata": {},
          "output_type": "display_data"
        }
      ],
      "source": [
        "plt.figure(figsize=(10, 5))\n",
        "sns.histplot(df2['Pixel Density'], kde=True, bins=30, color='skyblue')\n",
        "plt.title('Distribution of Pixel Density (PPI)')\n",
        "plt.xlabel('Pixel Density (PPI)')\n",
        "plt.ylabel('Count')\n",
        "plt.tight_layout()\n",
        "plt.show()"
      ]
    },
    {
      "cell_type": "code",
      "execution_count": 84,
      "id": "rIdL6qv9x2vZ",
      "metadata": {
        "colab": {
          "base_uri": "https://localhost:8080/",
          "height": 491
        },
        "id": "rIdL6qv9x2vZ",
        "outputId": "ce63aa88-fac5-4bc9-a9f8-63cd1680ac13"
      },
      "outputs": [
        {
          "data": {
            "image/png": "[encoded data removed]",
            "text/plain": [
              "<Figure size 1400x600 with 1 Axes>"
            ]
          },
          "metadata": {},
          "output_type": "display_data"
        }
      ],
      "source": [
        "plt.figure(figsize=(14, 6))\n",
        "sns.boxplot(data=df2, x='Brand', y='Pixel Density', palette='Set2')\n",
        "plt.title('Pixel Density by Brand')\n",
        "plt.xticks(rotation=45)\n",
        "plt.tight_layout()\n",
        "plt.show()"
      ]
    },
    {
      "cell_type": "markdown",
      "id": "7499c3e0",
      "metadata": {
        "id": "7499c3e0"
      },
      "source": [
        "Imputation of null values in the 'display_density' column was not possible in most cases, as the corresponding 'display_resolution' values were also missing. However, two entries had enough context to infer the values, so they were manually imputed."
      ]
    },
    {
      "cell_type": "markdown",
      "id": "88ae4619",
      "metadata": {},
      "source": [
        "# EDA Pixel Density End"
      ]
    },
    {
      "cell_type": "markdown",
      "id": "48a403ef",
      "metadata": {
        "id": "48a403ef"
      },
      "source": [
        "############################################################\n",
        "# EDA For SSD"
      ]
    },
    {
      "cell_type": "code",
      "execution_count": 85,
      "id": "f51cb618",
      "metadata": {
        "colab": {
          "base_uri": "https://localhost:8080/"
        },
        "id": "f51cb618",
        "outputId": "eea7a2bd-d0b2-4c94-df50-19cd2274e53a"
      },
      "outputs": [
        {
          "data": {
            "text/plain": [
              "np.int64(1329)"
            ]
          },
          "execution_count": 85,
          "metadata": {},
          "output_type": "execute_result"
        }
      ],
      "source": [
        "df2['SSD Capacity'].isna().sum()"
      ]
    },
    {
      "cell_type": "code",
      "execution_count": 86,
      "id": "ad53e414",
      "metadata": {
        "id": "ad53e414"
      },
      "outputs": [],
      "source": [
        "df2['SSD Capacity'] = df2['SSD Capacity'].str.split(' ').str[0]"
      ]
    },
    {
      "cell_type": "code",
      "execution_count": 87,
      "id": "a26c52be",
      "metadata": {
        "id": "a26c52be"
      },
      "outputs": [],
      "source": [
        "bins = [0, 40000, 60000, 80000, 100000, 150000, np.inf]\n",
        "labels = ['0-40K', '40K-60K', '60K-80K', '80K-100K', '100K-150K', '150K+']\n",
        "df2['Price_Bin'] = pd.cut(df2['Price (Rs)'], bins=bins, labels=labels)"
      ]
    },
    {
      "cell_type": "code",
      "execution_count": 88,
      "id": "87d0501c",
      "metadata": {
        "id": "87d0501c"
      },
      "outputs": [],
      "source": [
        "def smart_fill_ssd(row):\n",
        "    if pd.isna(row['SSD Capacity']):\n",
        "        group = df2[\n",
        "            (df2['Brand'] == row['Brand']) &\n",
        "            (df2['RAM Capacity'] == row['RAM Capacity']) &\n",
        "            (df2['Price_Bin'] == row['Price_Bin']) &\n",
        "            (df2['SSD Capacity'].notna())\n",
        "        ]\n",
        "        if not group.empty:\n",
        "            return group['SSD Capacity'].mode().iloc[0]\n",
        "\n",
        "        group = df2[\n",
        "            (df2['Brand'] == row['Brand']) &\n",
        "            (df2['RAM Capacity'] == row['RAM Capacity']) &\n",
        "            (df2['SSD Capacity'].notna())\n",
        "        ]\n",
        "        if not group.empty:\n",
        "            return group['SSD Capacity'].mode().iloc[0]\n",
        "\n",
        "        group = df2[\n",
        "            (df2['Brand'] == row['Brand']) &\n",
        "            (df2['SSD Capacity'].notna())\n",
        "        ]\n",
        "        if not group.empty:\n",
        "            return group['SSD Capacity'].mode().iloc[0]\n",
        "\n",
        "        return '256GB'\n",
        "\n",
        "    else:\n",
        "        return row['SSD Capacity']\n"
      ]
    },
    {
      "cell_type": "code",
      "execution_count": 89,
      "id": "473a11ec",
      "metadata": {
        "id": "473a11ec"
      },
      "outputs": [],
      "source": [
        "df2['SSD Capacity'] = df2.apply(smart_fill_ssd, axis=1)"
      ]
    },
    {
      "cell_type": "code",
      "execution_count": 90,
      "id": "fa5c132f",
      "metadata": {
        "colab": {
          "base_uri": "https://localhost:8080/"
        },
        "id": "fa5c132f",
        "outputId": "93819def-3c87-4e70-dbf6-73917c2e5575"
      },
      "outputs": [
        {
          "data": {
            "text/plain": [
              "array(['512', '256', '32', '1', '128', '16', '64', '8', '4', '2', '256GB',\n",
              "       '360'], dtype=object)"
            ]
          },
          "execution_count": 90,
          "metadata": {},
          "output_type": "execute_result"
        }
      ],
      "source": [
        "df2['SSD Capacity'].unique()"
      ]
    },
    {
      "cell_type": "code",
      "execution_count": 91,
      "id": "6b73a435",
      "metadata": {
        "colab": {
          "base_uri": "https://localhost:8080/"
        },
        "id": "6b73a435",
        "outputId": "b16d3955-e7c2-4512-8eb8-1e62907ec34d"
      },
      "outputs": [
        {
          "data": {
            "text/plain": [
              "(123, 48)"
            ]
          },
          "execution_count": 91,
          "metadata": {},
          "output_type": "execute_result"
        }
      ],
      "source": [
        "df2[df2['SSD Capacity'].isin(['64', '16', '32','8'])].shape"
      ]
    },
    {
      "cell_type": "code",
      "execution_count": 92,
      "id": "8a02e15f",
      "metadata": {
        "id": "8a02e15f"
      },
      "outputs": [],
      "source": [
        "df3 = df2[~df2['SSD Capacity'].isin(['8', '16', '32', '64'])]"
      ]
    },
    {
      "cell_type": "code",
      "execution_count": 93,
      "id": "d881827b",
      "metadata": {
        "id": "d881827b"
      },
      "outputs": [],
      "source": [
        "df3['SSD Capacity'] = df3['SSD Capacity'].replace('1', '1024')\n",
        "df3['SSD Capacity'] = df3['SSD Capacity'].replace('2', '2024')\n",
        "df3['SSD Capacity'] = df3['SSD Capacity'].replace('4', '4024')"
      ]
    },
    {
      "cell_type": "code",
      "execution_count": 94,
      "id": "e515a7fe",
      "metadata": {
        "colab": {
          "base_uri": "https://localhost:8080/"
        },
        "id": "e515a7fe",
        "outputId": "ce47e18d-a44e-4e11-b9ef-9dd379903dc6"
      },
      "outputs": [
        {
          "data": {
            "text/plain": [
              "array(['512', '256', '1024', '128', '4024', '2024', '256GB', '360'],\n",
              "      dtype=object)"
            ]
          },
          "execution_count": 94,
          "metadata": {},
          "output_type": "execute_result"
        }
      ],
      "source": [
        "df3['SSD Capacity'].unique()"
      ]
    },
    {
      "cell_type": "code",
      "execution_count": 95,
      "id": "6a6f4ffb",
      "metadata": {
        "id": "6a6f4ffb"
      },
      "outputs": [],
      "source": [
        "df3['SSD Capacity'] = df3['SSD Capacity'].replace('256GB', '256')\n",
        "df3['SSD Capacity'] = df3['SSD Capacity'].astype('int32')"
      ]
    },
    {
      "cell_type": "code",
      "execution_count": 96,
      "id": "PCZoH6UqyTkc",
      "metadata": {
        "colab": {
          "base_uri": "https://localhost:8080/",
          "height": 507
        },
        "id": "PCZoH6UqyTkc",
        "outputId": "6bde027c-e56c-47c5-d1a3-fdcc52d23efd"
      },
      "outputs": [
        {
          "data": {
            "image/png": "[encoded data removed]",
            "text/plain": [
              "<Figure size 1000x500 with 1 Axes>"
            ]
          },
          "metadata": {},
          "output_type": "display_data"
        }
      ],
      "source": [
        "avg_price_ssd = df3.groupby('SSD Capacity')['Price (Rs)'].mean().sort_index()\n",
        "\n",
        "plt.figure(figsize=(10, 5))\n",
        "sns.barplot(x=avg_price_ssd.index, y=avg_price_ssd.values, palette='magma')\n",
        "plt.title('Average Price by SSD Capacity')\n",
        "plt.xlabel('SSD Capacity (GB)')\n",
        "plt.ylabel('Average Price (Rs)')\n",
        "plt.tight_layout()\n",
        "plt.show()\n"
      ]
    },
    {
      "cell_type": "code",
      "execution_count": 97,
      "id": "Kmg2u3ThyYsv",
      "metadata": {
        "colab": {
          "base_uri": "https://localhost:8080/",
          "height": 569
        },
        "id": "Kmg2u3ThyYsv",
        "outputId": "61053d79-443e-4627-a492-b1bc0eaf973e"
      },
      "outputs": [
        {
          "data": {
            "image/png": "[encoded data removed]",
            "text/plain": [
              "<Figure size 1200x600 with 1 Axes>"
            ]
          },
          "metadata": {},
          "output_type": "display_data"
        }
      ],
      "source": [
        "plt.figure(figsize=(12, 6))\n",
        "sns.boxplot(data=df3, x='SSD Capacity', y='Price (Rs)', palette='coolwarm')\n",
        "plt.title('Price Distribution by SSD Capacity')\n",
        "plt.xlabel('SSD Capacity (GB)')\n",
        "plt.ylabel('Price (Rs)')\n",
        "plt.tight_layout()\n",
        "plt.show()\n"
      ]
    },
    {
      "cell_type": "markdown",
      "id": "92409f7e",
      "metadata": {
        "id": "92409f7e"
      },
      "source": [
        "There were 1,329 missing values in the 'SSD Capacity' column, which were imputed using the smart_fill_ssd function. This function fills missing values by selecting the most frequent SSD capacity among similar entries based on brand, RAM, and price bin. If no suitable match is found, it defaults to '256GB'. Additionally, laptops with SSD storage less than 128GB were removed, as these devices primarily relied on HDDs or optical drives. Since most laptops manufactured after 2020 come with SSDs, such entries were excluded to ensure the model is trained on relevant and modern configurations."
      ]
    },
    {
      "cell_type": "markdown",
      "id": "1b04ea89",
      "metadata": {
        "id": "1b04ea89"
      },
      "source": [
        "# SSD EDA End"
      ]
    },
    {
      "cell_type": "markdown",
      "id": "4ff62e9b",
      "metadata": {
        "id": "4ff62e9b"
      },
      "source": [
        "####################################################\n",
        "# EDA for Display Touchscreen"
      ]
    },
    {
      "cell_type": "code",
      "execution_count": 98,
      "id": "2028215c",
      "metadata": {
        "colab": {
          "base_uri": "https://localhost:8080/"
        },
        "id": "2028215c",
        "outputId": "0bdc0de6-f2f8-487a-f126-2f3c7b543923"
      },
      "outputs": [
        {
          "data": {
            "text/plain": [
              "np.int64(81)"
            ]
          },
          "execution_count": 98,
          "metadata": {},
          "output_type": "execute_result"
        }
      ],
      "source": [
        "df3['Display Touchscreen'].isna().sum()"
      ]
    },
    {
      "cell_type": "code",
      "execution_count": 99,
      "id": "6b5cfeb2",
      "metadata": {
        "colab": {
          "base_uri": "https://localhost:8080/",
          "height": 407
        },
        "id": "6b5cfeb2",
        "outputId": "865b4cc3-4c78-4421-afa2-d2dad4ae611c"
      },
      "outputs": [
        {
          "data": {
            "image/png": "[encoded data removed]",
            "text/plain": [
              "<Figure size 600x400 with 1 Axes>"
            ]
          },
          "metadata": {},
          "output_type": "display_data"
        }
      ],
      "source": [
        "df3.groupby('Display Touchscreen')['Price (Rs)'].mean().plot(kind='bar', figsize=(6, 4))\n",
        "plt.title('Average Laptop Price by Touchscreen Display')\n",
        "plt.xlabel('Touchscreen')\n",
        "plt.ylabel('Average Price (Rs)')\n",
        "plt.xticks(rotation=0)\n",
        "plt.grid(axis='y')\n",
        "plt.tight_layout()\n",
        "plt.show()"
      ]
    },
    {
      "cell_type": "code",
      "execution_count": 100,
      "id": "24bed254",
      "metadata": {
        "colab": {
          "base_uri": "https://localhost:8080/",
          "height": 958
        },
        "id": "24bed254",
        "outputId": "d51bb040-0f04-4e1b-dc1b-4fcd588c37b0"
      },
      "outputs": [
        {
          "data": {
            "text/html": [
              "<div>\n",
              "<style scoped>\n",
              "    .dataframe tbody tr th:only-of-type {\n",
              "        vertical-align: middle;\n",
              "    }\n",
              "\n",
              "    .dataframe tbody tr th {\n",
              "        vertical-align: top;\n",
              "    }\n",
              "\n",
              "    .dataframe thead th {\n",
              "        text-align: right;\n",
              "    }\n",
              "</style>\n",
              "<table border=\"1\" class=\"dataframe\">\n",
              "  <thead>\n",
              "    <tr style=\"text-align: right;\">\n",
              "      <th></th>\n",
              "      <th>Brand</th>\n",
              "      <th>Series</th>\n",
              "    </tr>\n",
              "  </thead>\n",
              "  <tbody>\n",
              "    <tr>\n",
              "      <th>46</th>\n",
              "      <td>realme</td>\n",
              "      <td>Book</td>\n",
              "    </tr>\n",
              "    <tr>\n",
              "      <th>68</th>\n",
              "      <td>Acer</td>\n",
              "      <td>aspire</td>\n",
              "    </tr>\n",
              "    <tr>\n",
              "      <th>120</th>\n",
              "      <td>HP</td>\n",
              "      <td>247</td>\n",
              "    </tr>\n",
              "    <tr>\n",
              "      <th>451</th>\n",
              "      <td>Asus</td>\n",
              "      <td>vivobook</td>\n",
              "    </tr>\n",
              "    <tr>\n",
              "      <th>1290</th>\n",
              "      <td>Honor</td>\n",
              "      <td>magicbook</td>\n",
              "    </tr>\n",
              "    <tr>\n",
              "      <th>1376</th>\n",
              "      <td>Lenovo</td>\n",
              "      <td>ideapad</td>\n",
              "    </tr>\n",
              "    <tr>\n",
              "      <th>1669</th>\n",
              "      <td>Dell</td>\n",
              "      <td>inspiron</td>\n",
              "    </tr>\n",
              "    <tr>\n",
              "      <th>1702</th>\n",
              "      <td>Asus</td>\n",
              "      <td>rog</td>\n",
              "    </tr>\n",
              "    <tr>\n",
              "      <th>1748</th>\n",
              "      <td>Asus</td>\n",
              "      <td>tuf</td>\n",
              "    </tr>\n",
              "    <tr>\n",
              "      <th>2146</th>\n",
              "      <td>Lenovo</td>\n",
              "      <td>thinkpad</td>\n",
              "    </tr>\n",
              "    <tr>\n",
              "      <th>2442</th>\n",
              "      <td>Dell</td>\n",
              "      <td>xps</td>\n",
              "    </tr>\n",
              "    <tr>\n",
              "      <th>2840</th>\n",
              "      <td>HP</td>\n",
              "      <td>15s</td>\n",
              "    </tr>\n",
              "    <tr>\n",
              "      <th>2996</th>\n",
              "      <td>MSI</td>\n",
              "      <td>Modern</td>\n",
              "    </tr>\n",
              "    <tr>\n",
              "      <th>3474</th>\n",
              "      <td>HP</td>\n",
              "      <td>pavilion</td>\n",
              "    </tr>\n",
              "    <tr>\n",
              "      <th>3494</th>\n",
              "      <td>Samsung</td>\n",
              "      <td>galaxy</td>\n",
              "    </tr>\n",
              "    <tr>\n",
              "      <th>3674</th>\n",
              "      <td>Acer</td>\n",
              "      <td>nitro</td>\n",
              "    </tr>\n",
              "    <tr>\n",
              "      <th>4340</th>\n",
              "      <td>MSI</td>\n",
              "      <td>A4DDR</td>\n",
              "    </tr>\n",
              "    <tr>\n",
              "      <th>4638</th>\n",
              "      <td>Lenovo</td>\n",
              "      <td>V15</td>\n",
              "    </tr>\n",
              "    <tr>\n",
              "      <th>4644</th>\n",
              "      <td>HP</td>\n",
              "      <td>elitebook</td>\n",
              "    </tr>\n",
              "    <tr>\n",
              "      <th>4647</th>\n",
              "      <td>HP</td>\n",
              "      <td>255</td>\n",
              "    </tr>\n",
              "    <tr>\n",
              "      <th>4648</th>\n",
              "      <td>Dell</td>\n",
              "      <td>alienware</td>\n",
              "    </tr>\n",
              "    <tr>\n",
              "      <th>4655</th>\n",
              "      <td>Acer</td>\n",
              "      <td>extensa</td>\n",
              "    </tr>\n",
              "    <tr>\n",
              "      <th>4656</th>\n",
              "      <td>HP</td>\n",
              "      <td>zbook</td>\n",
              "    </tr>\n",
              "    <tr>\n",
              "      <th>4909</th>\n",
              "      <td>HP</td>\n",
              "      <td>victus</td>\n",
              "    </tr>\n",
              "    <tr>\n",
              "      <th>5569</th>\n",
              "      <td>HP</td>\n",
              "      <td>250</td>\n",
              "    </tr>\n",
              "    <tr>\n",
              "      <th>6253</th>\n",
              "      <td>Dell</td>\n",
              "      <td>G15</td>\n",
              "    </tr>\n",
              "    <tr>\n",
              "      <th>6668</th>\n",
              "      <td>HP</td>\n",
              "      <td>15</td>\n",
              "    </tr>\n",
              "    <tr>\n",
              "      <th>6680</th>\n",
              "      <td>HP</td>\n",
              "      <td>240</td>\n",
              "    </tr>\n",
              "    <tr>\n",
              "      <th>7960</th>\n",
              "      <td>Lenovo</td>\n",
              "      <td>legion</td>\n",
              "    </tr>\n",
              "  </tbody>\n",
              "</table>\n",
              "</div>"
            ],
            "text/plain": [
              "        Brand     Series\n",
              "46     realme       Book\n",
              "68       Acer     aspire\n",
              "120        HP        247\n",
              "451      Asus   vivobook\n",
              "1290    Honor  magicbook\n",
              "1376   Lenovo    ideapad\n",
              "1669     Dell   inspiron\n",
              "1702     Asus        rog\n",
              "1748     Asus        tuf\n",
              "2146   Lenovo   thinkpad\n",
              "2442     Dell        xps\n",
              "2840       HP        15s\n",
              "2996      MSI     Modern\n",
              "3474       HP   pavilion\n",
              "3494  Samsung     galaxy\n",
              "3674     Acer      nitro\n",
              "4340      MSI      A4DDR\n",
              "4638   Lenovo        V15\n",
              "4644       HP  elitebook\n",
              "4647       HP        255\n",
              "4648     Dell  alienware\n",
              "4655     Acer    extensa\n",
              "4656       HP      zbook\n",
              "4909       HP     victus\n",
              "5569       HP        250\n",
              "6253     Dell        G15\n",
              "6668       HP         15\n",
              "6680       HP        240\n",
              "7960   Lenovo     legion"
            ]
          },
          "execution_count": 100,
          "metadata": {},
          "output_type": "execute_result"
        }
      ],
      "source": [
        "df3.loc[df3['Display Touchscreen'].isna(), ['Brand', 'Series', ]].drop_duplicates()"
      ]
    },
    {
      "cell_type": "code",
      "execution_count": 101,
      "id": "e8f05d3e",
      "metadata": {
        "id": "e8f05d3e"
      },
      "outputs": [],
      "source": [
        "df3.loc[2442, 'Display Touchscreen'] = df3.loc[2442, 'Display Touchscreen'] = 'Yes'\n",
        "df3.loc[4611, 'Display Touchscreen'] = df3.loc[2442, 'Display Touchscreen'] = 'Yes'\n",
        "df3.loc[6661, 'Display Touchscreen'] = df3.loc[2442, 'Display Touchscreen'] = 'Yes'\n",
        "df3['Display Touchscreen'].fillna('No', inplace= True)\n",
        "df3['Display Touchscreen'] = df3['Display Touchscreen'].str.lower()\n",
        "df3['Display Touchscreen'] = df3['Display Touchscreen'].map({'no': 0, 'yes': 1})"
      ]
    },
    {
      "cell_type": "markdown",
      "id": "0a7d5816",
      "metadata": {
        "id": "0a7d5816"
      },
      "source": [
        "There were 81 missing values in the 'Display Touchscreen' column. After manually reviewing the data, we identified 3 laptops as touchscreen models, while the remaining were confirmed to be non-touchscreen."
      ]
    },
    {
      "cell_type": "code",
      "execution_count": 102,
      "id": "Jibm1ZLiy8bx",
      "metadata": {
        "colab": {
          "base_uri": "https://localhost:8080/",
          "height": 407
        },
        "id": "Jibm1ZLiy8bx",
        "outputId": "51b01f02-1bba-4d52-aa73-86ebc5675603"
      },
      "outputs": [
        {
          "data": {
            "image/png": "[encoded data removed]",
            "text/plain": [
              "<Figure size 600x400 with 1 Axes>"
            ]
          },
          "metadata": {},
          "output_type": "display_data"
        }
      ],
      "source": [
        "plt.figure(figsize=(6,4))\n",
        "sns.countplot(data=df3, x='Display Touchscreen', palette=[\"#e32f2f\", '#1f78b4'])\n",
        "plt.title('How many laptops are touchscreens?')\n",
        "plt.xticks([0,1], ['No', 'Yes'])\n",
        "plt.ylabel('Number of laptops')\n",
        "plt.xlabel('')\n",
        "plt.tight_layout()\n",
        "plt.show()"
      ]
    },
    {
      "cell_type": "code",
      "execution_count": 103,
      "id": "SN5MOB13y_LR",
      "metadata": {
        "colab": {
          "base_uri": "https://localhost:8080/",
          "height": 507
        },
        "id": "SN5MOB13y_LR",
        "outputId": "c787d0d1-3414-461b-e42a-0af810299621"
      },
      "outputs": [
        {
          "data": {
            "image/png": "[encoded data removed]",
            "text/plain": [
              "<Figure size 800x500 with 1 Axes>"
            ]
          },
          "metadata": {},
          "output_type": "display_data"
        }
      ],
      "source": [
        "plt.figure(figsize=(8,5))\n",
        "sns.boxplot(data=df3, x='Display Touchscreen', y='Price (Rs)',\n",
        "            palette=[\"#f83434\",'#1f78b4'])\n",
        "plt.xticks([0,1], ['No','Yes'])\n",
        "plt.title('Price distribution by touchscreen presence')\n",
        "plt.xlabel('Has Touchscreen?'); plt.ylabel('Price (Rs)')\n",
        "plt.tight_layout()\n",
        "plt.show()"
      ]
    },
    {
      "cell_type": "markdown",
      "id": "020a49f6",
      "metadata": {
        "id": "020a49f6"
      },
      "source": [
        "# Display Touchscreen End"
      ]
    },
    {
      "cell_type": "code",
      "execution_count": 104,
      "id": "b7aae20a",
      "metadata": {
        "id": "b7aae20a"
      },
      "outputs": [],
      "source": [
        "df3.reset_index(drop=True, inplace=True)"
      ]
    },
    {
      "cell_type": "code",
      "execution_count": 105,
      "id": "54b449fb",
      "metadata": {
        "id": "54b449fb"
      },
      "outputs": [],
      "source": [
        "df3 = df3[['Brand', 'Series', 'Weight', 'Display Size', 'Pixel Density',\n",
        "           'Display Touchscreen', 'Graphic Processor', 'RAM Capacity', 'RAM Type',\n",
        "           'SSD Capacity', 'OS', 'Processor_Brand', 'Price (Rs)',\n",
        "           'Processor_Series', 'Graphics Memory']]"
      ]
    },
    {
      "cell_type": "markdown",
      "id": "222c26af",
      "metadata": {},
      "source": [
        "During my time (Gaurav Pandey) working as a laptop salesperson at Vijay Sales (a well-known electronics retail store in India), I observed that when customers walk in to purchase a laptop, their primary considerations typically include the brand, RAM, storage, operating system, weight, and laptop series. However, for customers with specific needs—such as gamers, coders, video editors, or graphic designers—the decision-making process becomes more detailed. These customers often inquire about additional specifications like the graphics processor, graphics memory, pixel density, RAM type, processor brand, and display size."
      ]
    },
    {
      "cell_type": "code",
      "execution_count": 106,
      "id": "18590430",
      "metadata": {
        "colab": {
          "base_uri": "https://localhost:8080/"
        },
        "id": "18590430",
        "outputId": "6a6f7646-c6e1-4bee-f3a3-3f353e389031"
      },
      "outputs": [
        {
          "name": "stdout",
          "output_type": "stream",
          "text": [
            "Brand 0\n",
            "Series 0\n",
            "Weight 0\n",
            "Display Size 0\n",
            "Pixel Density 32\n",
            "Display Touchscreen 0\n",
            "Graphic Processor 0\n",
            "RAM Capacity 0\n",
            "RAM Type 0\n",
            "SSD Capacity 0\n",
            "OS 0\n",
            "Processor_Brand 0\n",
            "Price (Rs) 0\n",
            "Processor_Series 0\n",
            "Graphics Memory 0\n"
          ]
        }
      ],
      "source": [
        "for col in (df3.columns):\n",
        "    print(col, df3[col].isna().sum())"
      ]
    },
    {
      "cell_type": "code",
      "execution_count": 107,
      "id": "c76886bc",
      "metadata": {
        "id": "c76886bc"
      },
      "outputs": [],
      "source": [
        "df4 = df3.dropna(subset=['Pixel Density'])"
      ]
    },
    {
      "cell_type": "code",
      "execution_count": 108,
      "id": "a02d37c2",
      "metadata": {
        "colab": {
          "base_uri": "https://localhost:8080/"
        },
        "id": "a02d37c2",
        "outputId": "2bed9ccd-9659-42fd-8b58-aee0d997cb17"
      },
      "outputs": [
        {
          "name": "stdout",
          "output_type": "stream",
          "text": [
            "Brand 0\n",
            "Series 0\n",
            "Weight 0\n",
            "Display Size 0\n",
            "Pixel Density 0\n",
            "Display Touchscreen 0\n",
            "Graphic Processor 0\n",
            "RAM Capacity 0\n",
            "RAM Type 0\n",
            "SSD Capacity 0\n",
            "OS 0\n",
            "Processor_Brand 0\n",
            "Price (Rs) 0\n",
            "Processor_Series 0\n",
            "Graphics Memory 0\n"
          ]
        }
      ],
      "source": [
        "for col in (df4.columns):\n",
        "    print(col, df4[col].isna().sum())"
      ]
    },
    {
      "cell_type": "code",
      "execution_count": 109,
      "id": "f2732b81",
      "metadata": {
        "colab": {
          "base_uri": "https://localhost:8080/"
        },
        "id": "f2732b81",
        "outputId": "57aa93ef-c812-4ed7-f79f-a4848b8bb1e0"
      },
      "outputs": [
        {
          "data": {
            "text/plain": [
              "np.int64(203)"
            ]
          },
          "execution_count": 109,
          "metadata": {},
          "output_type": "execute_result"
        }
      ],
      "source": [
        "df4.duplicated().sum()"
      ]
    },
    {
      "cell_type": "code",
      "execution_count": 110,
      "id": "b4fa229a",
      "metadata": {
        "id": "b4fa229a"
      },
      "outputs": [],
      "source": [
        "df4.drop_duplicates(inplace= True)"
      ]
    },
    {
      "cell_type": "code",
      "execution_count": 111,
      "id": "416486e3",
      "metadata": {
        "id": "416486e3"
      },
      "outputs": [],
      "source": [
        "df4.to_csv('./Data/processed_laptop_data.csv', index=False)"
      ]
    },
    {
      "cell_type": "code",
      "execution_count": 112,
      "id": "8af126ab",
      "metadata": {
        "id": "8af126ab"
      },
      "outputs": [],
      "source": [
        "df_for_correlation = df4.copy()"
      ]
    },
    {
      "cell_type": "code",
      "execution_count": 113,
      "id": "d58e2692",
      "metadata": {
        "id": "d58e2692"
      },
      "outputs": [],
      "source": [
        "from sklearn.preprocessing import LabelEncoder"
      ]
    },
    {
      "cell_type": "code",
      "execution_count": 114,
      "id": "f45d1080",
      "metadata": {
        "colab": {
          "base_uri": "https://localhost:8080/",
          "height": 487
        },
        "id": "f45d1080",
        "outputId": "f935296a-4d9c-460a-dc6f-987ffe16c432"
      },
      "outputs": [
        {
          "name": "stdout",
          "output_type": "stream",
          "text": [
            "Index(['Brand', 'Series', 'Graphic Processor', 'RAM Type', 'OS',\n",
            "       'Processor_Brand', 'Processor_Series'],\n",
            "      dtype='object')\n"
          ]
        },
        {
          "data": {
            "image/png": "[encoded data removed]",
            "text/plain": [
              "<Figure size 640x480 with 2 Axes>"
            ]
          },
          "metadata": {},
          "output_type": "display_data"
        }
      ],
      "source": [
        "categorical_cols = df_for_correlation.select_dtypes(include='object').columns\n",
        "print(categorical_cols)\n",
        "for col in categorical_cols:\n",
        "    df_for_correlation[col] = LabelEncoder().fit_transform(df_for_correlation[col].astype(str))\n",
        "\n",
        "correlation = df_for_correlation.corr()\n",
        "sns.heatmap(correlation[['Price (Rs)']].sort_values(by='Price (Rs)', ascending=False), annot=True)\n",
        "plt.show()"
      ]
    }
  ],
  "metadata": {
    "colab": {
      "provenance": []
    },
    "kernelspec": {
      "display_name": ".venv",
      "language": "python",
      "name": "python3"
    },
    "language_info": {
      "codemirror_mode": {
        "name": "ipython",
        "version": 3
      },
      "file_extension": ".py",
      "mimetype": "text/x-python",
      "name": "python",
      "nbconvert_exporter": "python",
      "pygments_lexer": "ipython3",
      "version": "3.12.6"
    }
  },
  "nbformat": 4,
  "nbformat_minor": 5
}
