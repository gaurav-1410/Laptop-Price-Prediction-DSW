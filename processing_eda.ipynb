{
  "cells": [
    {
      "cell_type": "code",
      "execution_count": 1,
      "id": "cc36ea88",
      "metadata": {
        "id": "cc36ea88"
      },
      "outputs": [],
      "source": [
        "import pandas as pd\n",
        "import warnings\n",
        "import matplotlib.pyplot as plt\n",
        "import seaborn as sns\n",
        "import numpy as np\n",
        "warnings.filterwarnings('ignore')"
      ]
    },
    {
      "cell_type": "code",
      "execution_count": 2,
      "id": "ed62e692",
      "metadata": {
        "id": "ed62e692"
      },
      "outputs": [],
      "source": [
        "pd.set_option('display.max_columns', None)\n",
        "pd.set_option('display.max_rows', None)"
      ]
    },
    {
      "cell_type": "code",
      "execution_count": null,
      "id": "90af691b",
      "metadata": {
        "colab": {
          "base_uri": "https://localhost:8080/",
          "height": 712
        },
        "id": "90af691b",
        "outputId": "59017ca0-27f8-44c9-a6ee-5753a9587945"
      },
      "outputs": [],
      "source": [
        "df = pd.read_csv('./Data/laptop_dataset.csv')\n",
        "df.head(5)"
      ]
    },
    {
      "cell_type": "code",
      "execution_count": null,
      "id": "0d5a2012",
      "metadata": {
        "colab": {
          "base_uri": "https://localhost:8080/"
        },
        "id": "0d5a2012",
        "outputId": "675e1a37-da4b-482c-cfa2-bbf8db44205f"
      },
      "outputs": [],
      "source": [
        "df.shape"
      ]
    },
    {
      "cell_type": "code",
      "execution_count": null,
      "id": "d13415fa",
      "metadata": {
        "colab": {
          "base_uri": "https://localhost:8080/",
          "height": 239
        },
        "id": "d13415fa",
        "outputId": "c42550c3-565f-46cd-e3c3-73bcd6e962cf"
      },
      "outputs": [],
      "source": [
        "df[df.duplicated()]"
      ]
    },
    {
      "cell_type": "code",
      "execution_count": 6,
      "id": "fd26aa97",
      "metadata": {
        "id": "fd26aa97"
      },
      "outputs": [],
      "source": [
        "df.drop_duplicates(inplace= True)"
      ]
    },
    {
      "cell_type": "code",
      "execution_count": null,
      "id": "2444cd20",
      "metadata": {
        "colab": {
          "base_uri": "https://localhost:8080/",
          "height": 335
        },
        "id": "2444cd20",
        "outputId": "e3c9f307-b792-4051-bc9f-9626f457dce1"
      },
      "outputs": [],
      "source": [
        "df['Price (Rs)'].describe()"
      ]
    },
    {
      "cell_type": "code",
      "execution_count": null,
      "id": "b2b0a1ec",
      "metadata": {
        "colab": {
          "base_uri": "https://localhost:8080/",
          "height": 1000
        },
        "id": "b2b0a1ec",
        "outputId": "225c7f0a-58f9-4cc8-ca16-7ea0303c6de5"
      },
      "outputs": [],
      "source": [
        "df.isnull().mean()[df.isnull().mean() > 0.3] * 100"
      ]
    },
    {
      "cell_type": "code",
      "execution_count": null,
      "id": "4981c3d5",
      "metadata": {
        "colab": {
          "base_uri": "https://localhost:8080/"
        },
        "id": "4981c3d5",
        "outputId": "7e81fe21-bc5e-4bd9-a9ee-b3c342c52786"
      },
      "outputs": [],
      "source": [
        "(df.isnull().mean()[df.isnull().mean() > 0.3] * 100).count()"
      ]
    },
    {
      "cell_type": "code",
      "execution_count": 10,
      "id": "3bc42a6d",
      "metadata": {
        "id": "3bc42a6d"
      },
      "outputs": [],
      "source": [
        "col_name = df.isnull().mean()[df.isnull().mean() > 0.3].index\n",
        "df2 = df.drop(columns= col_name)"
      ]
    },
    {
      "cell_type": "markdown",
      "id": "9b695069",
      "metadata": {
        "id": "9b695069"
      },
      "source": [
        "In our dataset, 33 columns have more than 30% missing values. These columns primarily contain optional or rarely filled-in specs (like VGA ports, rear cameras, or lockports), which are not critical for predicting laptop price. Hence, we will drop them to simplify the dataset.\n",
        "\n",
        "However, there's an exception:\n",
        "\n",
        "-Graphics Memory\n",
        "\n",
        "--Although this column has more than 60% missing values, in this case, NaN means that the laptop does not have a dedicated GPU.\n",
        "\n",
        "--So, instead of dropping this column, we will replace all NaN values with 0, indicating no graphics memory."
      ]
    },
    {
      "cell_type": "code",
      "execution_count": null,
      "id": "21acdfef",
      "metadata": {
        "colab": {
          "base_uri": "https://localhost:8080/"
        },
        "id": "21acdfef",
        "outputId": "68d4fb41-7b92-446d-dadd-8a970024607f"
      },
      "outputs": [],
      "source": [
        "df2.info()"
      ]
    },
    {
      "cell_type": "code",
      "execution_count": null,
      "id": "ccfaefe1",
      "metadata": {
        "colab": {
          "base_uri": "https://localhost:8080/"
        },
        "id": "ccfaefe1",
        "outputId": "35e59e56-0555-43c8-d9c4-408e44d4f75c"
      },
      "outputs": [],
      "source": [
        "target_value_null = df2[df2['Price (Rs)'].isna()]\n",
        "len(target_value_null)"
      ]
    },
    {
      "cell_type": "code",
      "execution_count": 13,
      "id": "d579a120",
      "metadata": {
        "id": "d579a120"
      },
      "outputs": [],
      "source": [
        "df2 = df2.dropna(subset=['Price (Rs)'])"
      ]
    },
    {
      "cell_type": "markdown",
      "id": "8b597ca6",
      "metadata": {
        "id": "8b597ca6"
      },
      "source": [
        "There are 21 rows in our dataset where the target variable Price (Rs) is missing. These entries are not useful for training a machine learning model, as we don't know what we're trying to predict.\n",
        "\n",
        "However, they can still be useful later (e.g. for making predictions on unknown data). So we’ll:\n",
        "\n",
        "- Save them separately in a variable called target_value_null.\n",
        "\n",
        "- Drop them from the main training dataset."
      ]
    },
    {
      "cell_type": "markdown",
      "id": "3a319ae2",
      "metadata": {
        "id": "3a319ae2"
      },
      "source": [
        "##########################################################################\n",
        "# EDA For OS"
      ]
    },
    {
      "cell_type": "code",
      "execution_count": null,
      "id": "24855ecb",
      "metadata": {
        "colab": {
          "base_uri": "https://localhost:8080/"
        },
        "id": "24855ecb",
        "outputId": "0ed1ae07-bb1b-4012-f8ec-308e95ec9ea9"
      },
      "outputs": [],
      "source": [
        "df2['Operating System'].isna().sum()"
      ]
    },
    {
      "cell_type": "code",
      "execution_count": null,
      "id": "fb26ed09",
      "metadata": {
        "colab": {
          "base_uri": "https://localhost:8080/"
        },
        "id": "fb26ed09",
        "outputId": "9a740eba-8e7b-454e-ce13-0a3168be8f0c"
      },
      "outputs": [],
      "source": [
        "df2['Operating System'].nunique()"
      ]
    },
    {
      "cell_type": "code",
      "execution_count": null,
      "id": "ef90d37f",
      "metadata": {
        "colab": {
          "base_uri": "https://localhost:8080/"
        },
        "id": "ef90d37f",
        "outputId": "7caa598d-6b87-43ce-9a26-30b3b60861d0"
      },
      "outputs": [],
      "source": [
        "df2['Operating System'].unique()"
      ]
    },
    {
      "cell_type": "code",
      "execution_count": 17,
      "id": "2508ffef",
      "metadata": {
        "id": "2508ffef"
      },
      "outputs": [],
      "source": [
        "def operating_system(os):\n",
        "    if os == 'Windows 10 Home Basic' or os == 'Windows 10 Professional' or os == 'Windows 10' or os == 'Windows 10 Home Premium':\n",
        "        return \"Win 10\"\n",
        "    elif os == 'Windows 11 Home Basic' or os == 'Windows 11' or os == 'Windows 11 Professional' or os == 'Windows 11 Home Premium':\n",
        "        return \"Win 11\"\n",
        "    elif os == 'DOS' or os == 'DOS Professional' or os == 'DOS Home Basic':\n",
        "        return \"DOS\"\n",
        "    elif os == 'Linux' or os == 'Ubuntu':\n",
        "        return \"Linux\"\n",
        "    elif os == 'Google Chrome' or os == 'Google Chrome Home Basic':\n",
        "        return \"Chorme OS\"\n",
        "    elif os == 'macOS Sonoma' or os == 'macOS Catalina' or os == 'macOS Big Sur' or os == 'macOS Mojave' or os == 'macOS Monterey Home Basic' or os == 'macOS Monterey' or os == 'macOS Sequoia' or os == 'macOS Ventura' or os == 'macOS High Sierra' or os == 'macOS Sierra' or os == 'MAC OS X El Capitan':\n",
        "        return \"MAC OS\"\n",
        "    else:\n",
        "        return \"Other\""
      ]
    },
    {
      "cell_type": "code",
      "execution_count": 18,
      "id": "69fdaf21",
      "metadata": {
        "id": "69fdaf21"
      },
      "outputs": [],
      "source": [
        "df2['OS'] = df2['Operating System'].apply(operating_system)\n",
        "df2['OS'] = df2['OS'].str.lower()\n",
        "df2.drop(columns= ['Operating System'], inplace= True)"
      ]
    },
    {
      "cell_type": "code",
      "execution_count": null,
      "id": "5cab1d76",
      "metadata": {
        "colab": {
          "base_uri": "https://localhost:8080/",
          "height": 507
        },
        "id": "5cab1d76",
        "outputId": "78b94a8d-1159-4253-856c-e4c8f9fa80fd"
      },
      "outputs": [],
      "source": [
        "plt.figure(figsize=(10, 5))\n",
        "sns.boxplot(data=df2, x='OS', y='Price (Rs)')\n",
        "plt.xticks(rotation=45)\n",
        "plt.title('Price Distribution by Operating System')\n",
        "plt.ylabel('Price (Rs)')\n",
        "plt.xlabel('Operating System')\n",
        "plt.tight_layout()\n",
        "plt.show()"
      ]
    },
    {
      "cell_type": "markdown",
      "id": "7a16086d",
      "metadata": {
        "id": "7a16086d"
      },
      "source": [
        "Although the original Operating System column had no missing values, it contained excessively detailed version info (e.g., Windows 10 Home Basic, Windows 11 Pro, etc.) that isn't typically a major concern for general buyers. To simplify:\n",
        "\n",
        "We created a new column called Common OS, which groups similar entries under clean categories like:\n",
        "\n",
        "Win 10, Win 11, MAC OS, DOS, Linux, etc.\n",
        "\n",
        "This allows us to better analyze price trends by OS type."
      ]
    },
    {
      "cell_type": "markdown",
      "id": "51a5bb8f",
      "metadata": {
        "id": "51a5bb8f"
      },
      "source": [
        "Insights from the Boxplot:\n",
        "\n",
        "Windows 10 and Windows 11 show a very wide price range, from entry-level laptops to premium models—this reflects their dominance across different price segments.\n",
        "\n",
        "MAC OS generally commands a higher average price, with less variation.\n",
        "\n",
        "Linux, Chrome OS, and DOS laptops tend to cluster at the lower end of the price spectrum."
      ]
    },
    {
      "cell_type": "markdown",
      "id": "ab6d7bf9",
      "metadata": {
        "id": "ab6d7bf9"
      },
      "source": [
        "# OS EDA End"
      ]
    },
    {
      "cell_type": "markdown",
      "id": "110947ad",
      "metadata": {
        "id": "110947ad"
      },
      "source": [
        "#############################################################\n",
        "# EDA For Weights"
      ]
    },
    {
      "cell_type": "code",
      "execution_count": null,
      "id": "8efb2616",
      "metadata": {
        "colab": {
          "base_uri": "https://localhost:8080/"
        },
        "id": "8efb2616",
        "outputId": "2d8c903c-0c37-4080-9956-e1598bc7c5a6"
      },
      "outputs": [],
      "source": [
        "df2.Weight.isnull().sum()"
      ]
    },
    {
      "cell_type": "code",
      "execution_count": 21,
      "id": "598500bd",
      "metadata": {
        "id": "598500bd"
      },
      "outputs": [],
      "source": [
        "df2['Weight'] = df2['Weight'].str.split(' ').str[0]\n",
        "df2['Weight'] = df2['Weight'].astype('float32')"
      ]
    },
    {
      "cell_type": "code",
      "execution_count": null,
      "id": "d1e0e376",
      "metadata": {
        "colab": {
          "base_uri": "https://localhost:8080/",
          "height": 335
        },
        "id": "d1e0e376",
        "outputId": "b06b592d-1a15-4b90-9297-850c583f8599"
      },
      "outputs": [],
      "source": [
        "df2['Weight'].describe()"
      ]
    },
    {
      "cell_type": "code",
      "execution_count": null,
      "id": "2f6fbcd4",
      "metadata": {
        "colab": {
          "base_uri": "https://localhost:8080/",
          "height": 430
        },
        "id": "2f6fbcd4",
        "outputId": "2f28e890-62d6-4055-adf7-cc36295176b5"
      },
      "outputs": [],
      "source": [
        "plt.hist(df2['Weight'])\n",
        "plt.show()"
      ]
    },
    {
      "cell_type": "code",
      "execution_count": null,
      "id": "a6bbb4e3",
      "metadata": {
        "colab": {
          "base_uri": "https://localhost:8080/",
          "height": 428
        },
        "id": "a6bbb4e3",
        "outputId": "4f5443b9-bc12-4184-9d08-c57247103422"
      },
      "outputs": [],
      "source": [
        "sns.boxplot(df2['Weight'])"
      ]
    },
    {
      "cell_type": "code",
      "execution_count": 25,
      "id": "47537189",
      "metadata": {
        "id": "47537189"
      },
      "outputs": [],
      "source": [
        "df2['Weight'].fillna(df2['Weight'].median(), inplace= True)"
      ]
    },
    {
      "cell_type": "code",
      "execution_count": null,
      "id": "da332c34",
      "metadata": {
        "colab": {
          "base_uri": "https://localhost:8080/"
        },
        "id": "da332c34",
        "outputId": "4d529c8d-df95-42db-d642-797e67709feb"
      },
      "outputs": [],
      "source": [
        "df2.Weight.isnull().sum()"
      ]
    },
    {
      "cell_type": "markdown",
      "id": "e48a96d7",
      "metadata": {
        "id": "e48a96d7"
      },
      "source": [
        "The Weight column contains 306 missing values. Since there are a extreme outliers (very heavy laptops), using the mean could be misleading.\n",
        "\n",
        "Instead, we chose to use the median to impute missing weights. The median is more robust to outliers and better reflects the central tendency of the data.\n",
        "\n",
        "Also, from a user’s perspective, purchase decisions are typically based more on model configuration and performance rather than small differences in weight, making median imputation a reasonable choice."
      ]
    },
    {
      "cell_type": "markdown",
      "id": "ed09c92c",
      "metadata": {
        "id": "ed09c92c"
      },
      "source": [
        "# EDA Weight End"
      ]
    },
    {
      "cell_type": "markdown",
      "id": "ae99e593",
      "metadata": {
        "id": "ae99e593"
      },
      "source": [
        "####################################################\n",
        "# EDA for Display"
      ]
    },
    {
      "cell_type": "code",
      "execution_count": null,
      "id": "423dab92",
      "metadata": {
        "colab": {
          "base_uri": "https://localhost:8080/"
        },
        "id": "423dab92",
        "outputId": "07097932-c83d-4f3f-c91b-bc33f70a2811"
      },
      "outputs": [],
      "source": [
        "df2['Display Size'].isna().sum()"
      ]
    },
    {
      "cell_type": "code",
      "execution_count": null,
      "id": "eb7b9b48",
      "metadata": {
        "colab": {
          "base_uri": "https://localhost:8080/",
          "height": 510
        },
        "id": "eb7b9b48",
        "outputId": "f6641d02-5a5c-44ef-e064-cec56d16e118"
      },
      "outputs": [],
      "source": [
        "df2[df2['Display Size'].isna()]"
      ]
    },
    {
      "cell_type": "code",
      "execution_count": 29,
      "id": "039a383d",
      "metadata": {
        "id": "039a383d"
      },
      "outputs": [],
      "source": [
        "df2['Display Size'] = df2['Display Size'].str.split(\" \").str[0]\n",
        "df2['Display Size'] = df2['Display Size'].astype('float32')"
      ]
    },
    {
      "cell_type": "code",
      "execution_count": 30,
      "id": "4349d790",
      "metadata": {
        "id": "4349d790"
      },
      "outputs": [],
      "source": [
        "df2.loc[[797, 1426, 7974], 'Display Size'] = 15.6"
      ]
    },
    {
      "cell_type": "code",
      "execution_count": null,
      "id": "6116786f",
      "metadata": {
        "colab": {
          "base_uri": "https://localhost:8080/"
        },
        "id": "6116786f",
        "outputId": "94c3b113-68c2-47c4-e1f4-a0f5a8515be4"
      },
      "outputs": [],
      "source": [
        "df2['Display Size'].isna().sum()"
      ]
    },
    {
      "cell_type": "markdown",
      "id": "568921af",
      "metadata": {
        "id": "568921af"
      },
      "source": [
        "We found 3 rows with missing values in the Display Size column. Instead of using statistical imputation (like mean or median), we manually annotated these values after verifying the actual display sizes from reliable web sources.\n",
        "\n",
        "Additionally, we cleaned the Display Size column by extracting only the numeric value, removing the \"Inches\" and any accompanying text. This ensures that the feature is ready for numerical analysis and modeling."
      ]
    },
    {
      "cell_type": "markdown",
      "id": "2675ece4",
      "metadata": {
        "id": "2675ece4"
      },
      "source": [
        "# EDA Display End"
      ]
    },
    {
      "cell_type": "markdown",
      "id": "ec8f052f",
      "metadata": {
        "id": "ec8f052f"
      },
      "source": [
        "#################################################################\n",
        "# EDA For RAM Capacity"
      ]
    },
    {
      "cell_type": "code",
      "execution_count": null,
      "id": "40d218cb",
      "metadata": {
        "colab": {
          "base_uri": "https://localhost:8080/"
        },
        "id": "40d218cb",
        "outputId": "6cb67dfb-24ca-4c36-9aeb-c2af01aef8db"
      },
      "outputs": [],
      "source": [
        "df2['Capacity'].isna().sum()"
      ]
    },
    {
      "cell_type": "code",
      "execution_count": 33,
      "id": "86bd2e05",
      "metadata": {
        "id": "86bd2e05"
      },
      "outputs": [],
      "source": [
        "df2['Capacity'] = df2['Capacity'].str.split(' ').str[0]\n",
        "df2['Capacity'] = df2['Capacity'].astype('int32')"
      ]
    },
    {
      "cell_type": "code",
      "execution_count": 34,
      "id": "7b9ff94e",
      "metadata": {
        "id": "7b9ff94e"
      },
      "outputs": [],
      "source": [
        "df2.rename(columns={'Capacity': 'RAM Capacity'}, inplace=True)"
      ]
    },
    {
      "cell_type": "code",
      "execution_count": null,
      "id": "e89222ac",
      "metadata": {
        "colab": {
          "base_uri": "https://localhost:8080/",
          "height": 607
        },
        "id": "e89222ac",
        "outputId": "303239c1-6d35-4123-c12f-0ce700d1650a"
      },
      "outputs": [],
      "source": [
        "plt.figure(figsize=(10, 6))\n",
        "sns.countplot(x='RAM Capacity', data=df2, palette='viridis', order=df2['RAM Capacity'].value_counts().sort_values(ascending=False).index)\n",
        "plt.title('Distribution of RAM Capacity')\n",
        "plt.xlabel('RAM Capacity (in GB)')\n",
        "plt.ylabel('Number of Laptops')\n",
        "plt.grid(axis='y')\n",
        "plt.tight_layout()\n",
        "plt.show()"
      ]
    },
    {
      "cell_type": "code",
      "execution_count": null,
      "id": "b5fb1af2",
      "metadata": {
        "colab": {
          "base_uri": "https://localhost:8080/",
          "height": 607
        },
        "id": "b5fb1af2",
        "outputId": "6cd88d08-19a7-401b-8976-c01d365220c5"
      },
      "outputs": [],
      "source": [
        "plt.figure(figsize=(8, 6))\n",
        "sns.boxplot(x=df2['RAM Capacity'], y=df2['Price (Rs)'], color='lightgreen')\n",
        "plt.title('Box Plot of RAM Capacity')\n",
        "plt.xlabel('RAM Capacity (in GB)')\n",
        "plt.grid(axis='x')\n",
        "plt.tight_layout()\n",
        "plt.show()"
      ]
    },
    {
      "cell_type": "markdown",
      "id": "c24962c2",
      "metadata": {
        "id": "c24962c2"
      },
      "source": [
        "No missing values are present in the RAM Capacity column (previously named Capacity, renamed for better readability). The most common RAM configurations are 8GB and 16GB.\n",
        "\n",
        "As RAM capacity increases, the price of laptops tends to rise, indicating that higher RAM is associated with more premium or high-performance devices. Outliers are observed in higher RAM categories (like 32GB, 64GB, 128GB), likely representing gaming laptops or professional workstations."
      ]
    },
    {
      "cell_type": "markdown",
      "id": "4eff2490",
      "metadata": {},
      "source": [
        "# EDA for RAM Capacity End"
      ]
    },
    {
      "cell_type": "markdown",
      "id": "07460481",
      "metadata": {
        "id": "07460481"
      },
      "source": [
        "###############################################################\n",
        "# EDA for Processor"
      ]
    },
    {
      "cell_type": "code",
      "execution_count": null,
      "id": "a7bbc7ce",
      "metadata": {
        "colab": {
          "base_uri": "https://localhost:8080/"
        },
        "id": "a7bbc7ce",
        "outputId": "a09b9c39-bbfe-460a-ea35-a58aef1c1e4f"
      },
      "outputs": [],
      "source": [
        "df2['Processor'].unique()[:5]"
      ]
    },
    {
      "cell_type": "code",
      "execution_count": 38,
      "id": "92dee52c",
      "metadata": {
        "id": "92dee52c"
      },
      "outputs": [],
      "source": [
        "df2['Processor_Brand'] = df2['Processor'].str.extract(r'(Intel|AMD|Apple|MediaTek|Mediatek|Qualcomm|intel|inte|Microsoft|Inte)', expand=False)\n",
        "df2.loc[df2['Processor'].str.contains('APU', case=False, na=False), 'Processor_Brand'] = 'AMD'"
      ]
    },
    {
      "cell_type": "code",
      "execution_count": null,
      "id": "cda87081",
      "metadata": {
        "colab": {
          "base_uri": "https://localhost:8080/"
        },
        "id": "cda87081",
        "outputId": "281a58d4-38cd-46ef-fb9c-100263dba727"
      },
      "outputs": [],
      "source": [
        "df2['Processor_Brand'].isna().sum()"
      ]
    },
    {
      "cell_type": "code",
      "execution_count": null,
      "id": "e789872d",
      "metadata": {
        "colab": {
          "base_uri": "https://localhost:8080/",
          "height": 87
        },
        "id": "e789872d",
        "outputId": "16a7abf3-6399-4730-865a-218bd97c951d"
      },
      "outputs": [],
      "source": [
        "df2[df2['Processor_Brand'].isna()]"
      ]
    },
    {
      "cell_type": "code",
      "execution_count": 41,
      "id": "ee9f0323",
      "metadata": {
        "id": "ee9f0323"
      },
      "outputs": [],
      "source": [
        "df2['Processor_Brand'] = df2['Processor_Brand'].str.lower()"
      ]
    },
    {
      "cell_type": "code",
      "execution_count": 42,
      "id": "9a50d5b0",
      "metadata": {
        "id": "9a50d5b0"
      },
      "outputs": [],
      "source": [
        "df2['Processor_Brand'] = df2['Processor_Brand'].replace({'inte': 'intel', 'Inte': 'intel', 'intel': 'intel'})"
      ]
    },
    {
      "cell_type": "code",
      "execution_count": null,
      "id": "d1e99ed5",
      "metadata": {
        "colab": {
          "base_uri": "https://localhost:8080/"
        },
        "id": "d1e99ed5",
        "outputId": "f5a7286a-b592-47f1-e17e-82cdb3e14767"
      },
      "outputs": [],
      "source": [
        "df2['Processor_Brand'].unique()"
      ]
    },
    {
      "cell_type": "markdown",
      "id": "e57f0ecb",
      "metadata": {
        "id": "e57f0ecb"
      },
      "source": [
        "During the data exploration process, we initially identified three major processor brands: Intel, AMD, and Apple. To ensure completeness, we continued inspecting the 'Processor_Brand' column for missing values. As we iteratively handled and filled these values, the count of null entries gradually reduced. Once the number of missing values reached zero, it confirmed that no additional processor brands were present in the dataset beyond the ones already captured."
      ]
    },
    {
      "cell_type": "code",
      "execution_count": 44,
      "id": "a8c2b4b4",
      "metadata": {
        "id": "a8c2b4b4"
      },
      "outputs": [],
      "source": [
        "df2['Processor_Series'] = df2['Processor'].str.extract(\n",
        "    r'(Quad\\sCore|Quad-Core|Octa Core|Kompanio|Athlon|Pentium|Core 5|Core 7|Core 3|Core Ultra 5|Celeron|Dual\\sCore|Dual-Core|Ultra 7|Ultra 9|Ryzen AI 9|Snapdragon|Xenon|m3|' +\n",
        "    r'i[3579]|I[3579]|' +\n",
        "    r'Ryzen\\s[3579]|' +\n",
        "    r'M\\d(?:\\s(?:Pro|Max|Ultra))?)',\n",
        "    expand=False\n",
        ")"
      ]
    },
    {
      "cell_type": "code",
      "execution_count": 45,
      "id": "f270c16c",
      "metadata": {
        "id": "f270c16c"
      },
      "outputs": [],
      "source": [
        "df2.loc[1588, 'Processor_Series'] = df2.loc[1588, 'Processor_Series'] = 'Quad Core'\n",
        "df2.loc[3709, 'Processor_Brand'] = df2.loc[3709, 'Processor_Brand'] = 'Intel'\n",
        "df2.loc[3709, 'Processor_Series'] = df2.loc[3709, 'Processor_Series'] = 'i5'"
      ]
    },
    {
      "cell_type": "code",
      "execution_count": null,
      "id": "a1667a4b",
      "metadata": {
        "colab": {
          "base_uri": "https://localhost:8080/"
        },
        "id": "a1667a4b",
        "outputId": "1c19553e-017b-47e8-dc18-3e52044866e6"
      },
      "outputs": [],
      "source": [
        "df2['Processor_Series'].isna().sum()"
      ]
    },
    {
      "cell_type": "code",
      "execution_count": null,
      "id": "585e0b5c",
      "metadata": {
        "colab": {
          "base_uri": "https://localhost:8080/",
          "height": 628
        },
        "id": "585e0b5c",
        "outputId": "d1afd990-888e-4292-9a58-336bfde4846a"
      },
      "outputs": [],
      "source": [
        "df2[df2['Processor_Series'].isna()]"
      ]
    },
    {
      "cell_type": "code",
      "execution_count": 48,
      "id": "014e5b7e",
      "metadata": {
        "id": "014e5b7e"
      },
      "outputs": [],
      "source": [
        "df2 = df2[df2['Processor_Series'].notna()]"
      ]
    },
    {
      "cell_type": "code",
      "execution_count": null,
      "id": "2d4e6747",
      "metadata": {
        "colab": {
          "base_uri": "https://localhost:8080/"
        },
        "id": "2d4e6747",
        "outputId": "800991e1-b13a-4e90-ef98-7d693bb4f53f"
      },
      "outputs": [],
      "source": [
        "df2['Processor_Series'].unique()"
      ]
    },
    {
      "cell_type": "code",
      "execution_count": null,
      "id": "4ede4cfa",
      "metadata": {
        "colab": {
          "base_uri": "https://localhost:8080/"
        },
        "id": "4ede4cfa",
        "outputId": "1a3ad9ba-60a7-4755-b145-60fb621d88c2"
      },
      "outputs": [],
      "source": [
        "mapping = {\n",
        "    'Dual-Core': 'Dual Core',\n",
        "    'Quad-Core': 'Quad Core',\n",
        "    'Core Ultra 5': 'Ultra 5',\n",
        "    'Core 7': 'i7',\n",
        "    'Core 3': 'i3'\n",
        "}\n",
        "\n",
        "df2['Processor_Series'] = df2['Processor_Series'].replace(mapping)\n",
        "df2['Processor_Series'] = df2['Processor_Series'].str.lower()\n",
        "df2['Processor_Series'].unique()"
      ]
    },
    {
      "cell_type": "markdown",
      "id": "de267b8d",
      "metadata": {
        "id": "de267b8d"
      },
      "source": [
        "To extract the Processor Series, we applied a similar approach as used for the Processor Brand. Both of these columns are derived through feature extraction from the original Processor column. Additionally, we performed manual annotation by researching reliable sources to correctly assign the processor brand and series where the automated extraction failed. General preprocessing steps were applied to ensure consistency across the dataset.\n",
        "\n",
        "We also dropped 4 rows from the dataset. These rows were removed because they either contained outdated HDD storage or had SSD capacities below 128GB, which fall outside the scope of modern laptop configurations considered in our analysis."
      ]
    },
    {
      "cell_type": "markdown",
      "id": "aef04204",
      "metadata": {
        "id": "aef04204"
      },
      "source": [
        "# EDA for Processor End"
      ]
    },
    {
      "cell_type": "markdown",
      "id": "80a6526b",
      "metadata": {
        "id": "80a6526b"
      },
      "source": [
        "##################################################################################\n",
        "# EDA For RAM"
      ]
    },
    {
      "cell_type": "code",
      "execution_count": null,
      "id": "987e4409",
      "metadata": {
        "colab": {
          "base_uri": "https://localhost:8080/"
        },
        "id": "987e4409",
        "outputId": "9a438c1b-f32d-4319-f231-70e6ed5c9e3a"
      },
      "outputs": [],
      "source": [
        "df2['RAM Type'].isna().sum()"
      ]
    },
    {
      "cell_type": "code",
      "execution_count": null,
      "id": "7c5d8eeb",
      "metadata": {
        "colab": {
          "base_uri": "https://localhost:8080/"
        },
        "id": "7c5d8eeb",
        "outputId": "3d19151d-c9f1-4886-a3fb-33b72244537a"
      },
      "outputs": [],
      "source": [
        "df2['RAM Type'].unique()"
      ]
    },
    {
      "cell_type": "code",
      "execution_count": null,
      "id": "e0de3b59",
      "metadata": {
        "colab": {
          "base_uri": "https://localhost:8080/",
          "height": 429
        },
        "id": "e0de3b59",
        "outputId": "43fd0800-351d-405d-d200-07616ac438e6"
      },
      "outputs": [],
      "source": [
        "avg_price_by_ram = df2.groupby('RAM Type')['Price (Rs)'].mean().sort_values(ascending=False)\n",
        "avg_price_by_ram"
      ]
    },
    {
      "cell_type": "code",
      "execution_count": null,
      "id": "913f41d2",
      "metadata": {
        "colab": {
          "base_uri": "https://localhost:8080/",
          "height": 607
        },
        "id": "913f41d2",
        "outputId": "414f70c6-7380-45a1-f0eb-170c7ed4c57d"
      },
      "outputs": [],
      "source": [
        "plt.figure(figsize=(10, 6))\n",
        "avg_price_by_ram.plot(kind='bar')\n",
        "plt.title('Average Laptop Price by RAM Type')\n",
        "plt.xlabel('RAM Type')\n",
        "plt.ylabel('Average Price (₹)')\n",
        "plt.xticks(rotation=45)\n",
        "plt.grid(axis='y')\n",
        "plt.tight_layout()\n",
        "plt.show()"
      ]
    },
    {
      "cell_type": "code",
      "execution_count": 55,
      "id": "9c7eb5a4",
      "metadata": {
        "id": "9c7eb5a4"
      },
      "outputs": [],
      "source": [
        "def infer_ram_type_by_price(price):\n",
        "    if price >= 135000:\n",
        "        return 'DDR5'\n",
        "    elif price >= 120000:\n",
        "        return 'LPDDR5X'\n",
        "    elif price >= 105000:\n",
        "        return 'LPDDR3'\n",
        "    elif price >= 95000:\n",
        "        return 'Unified Memory'\n",
        "    elif price >= 75000:\n",
        "        return 'LPDDR5'\n",
        "    elif price >= 60000:\n",
        "        return 'LPDDR4X'\n",
        "    elif price >= 50000:\n",
        "        return 'DDR4'\n",
        "    elif price >= 40000:\n",
        "        return 'LPDDR4'\n",
        "    else:\n",
        "        return 'DDR3'"
      ]
    },
    {
      "cell_type": "code",
      "execution_count": 56,
      "id": "4378d85a",
      "metadata": {
        "id": "4378d85a"
      },
      "outputs": [],
      "source": [
        "df2['RAM Type'] = df2.apply(\n",
        "    lambda row: infer_ram_type_by_price(row['Price (Rs)']) if pd.isna(row['RAM Type']) else row['RAM Type'],\n",
        "    axis=1\n",
        ")"
      ]
    },
    {
      "cell_type": "code",
      "execution_count": null,
      "id": "e3244b4d",
      "metadata": {
        "colab": {
          "base_uri": "https://localhost:8080/"
        },
        "id": "e3244b4d",
        "outputId": "d9921dac-d4c3-4d82-9ca7-9b62bc666f42"
      },
      "outputs": [],
      "source": [
        "df2['RAM Type'] = df2['RAM Type'].str.lower()\n",
        "df2['RAM Type'].isna().sum()"
      ]
    },
    {
      "cell_type": "markdown",
      "id": "5841b9c9",
      "metadata": {
        "id": "5841b9c9"
      },
      "source": [
        "We observed 170 missing values in the 'RAM Type' column. To impute these, we used the average laptop price corresponding to each RAM type as a reference."
      ]
    },
    {
      "cell_type": "markdown",
      "id": "8e016c78",
      "metadata": {
        "id": "8e016c78"
      },
      "source": [
        "# EDA RAM End"
      ]
    },
    {
      "cell_type": "markdown",
      "id": "d96d44cb",
      "metadata": {
        "id": "d96d44cb"
      },
      "source": [
        "############################################\n",
        "# EDA For Graphics"
      ]
    },
    {
      "cell_type": "code",
      "execution_count": null,
      "id": "roPxknRk2EhH",
      "metadata": {
        "colab": {
          "base_uri": "https://localhost:8080/",
          "height": 504
        },
        "id": "roPxknRk2EhH",
        "outputId": "6e8974cc-214d-4733-c9b5-3aaa8dbbebd7"
      },
      "outputs": [],
      "source": [
        "plt.figure(figsize=(14, 5))\n",
        "\n",
        "top10_gpu = df2['Graphic Processor'].value_counts().nlargest(10).index\n",
        "plt.subplot(1, 2, 1)\n",
        "sns.countplot(data=df2[df2['Graphic Processor'].isin(top10_gpu)],\n",
        "              y='Graphic Processor', order=top10_gpu)\n",
        "plt.title('Top 10 Graphic Processors')\n",
        "plt.xlabel('Count')"
      ]
    },
    {
      "cell_type": "code",
      "execution_count": 59,
      "id": "39c5e652",
      "metadata": {
        "id": "39c5e652"
      },
      "outputs": [],
      "source": [
        "df2['Graphics Memory'] = df['Graphics Memory']"
      ]
    },
    {
      "cell_type": "code",
      "execution_count": null,
      "id": "b316a7db",
      "metadata": {},
      "outputs": [],
      "source": [
        "top10_mem = df2['Graphics Memory'].value_counts().nlargest(10).index\n",
        "plt.subplot(1, 2, 2)\n",
        "sns.countplot(data=df2[df2['Graphics Memory'].isin(top10_mem)],\n",
        "              y='Graphics Memory', order=top10_mem)\n",
        "plt.title('Top 10 Graphics Memory Sizes (Before EDA)')\n",
        "plt.xlabel('Count')\n",
        "\n",
        "plt.tight_layout()\n",
        "plt.show()"
      ]
    },
    {
      "cell_type": "code",
      "execution_count": null,
      "id": "78f5407f",
      "metadata": {
        "colab": {
          "base_uri": "https://localhost:8080/"
        },
        "id": "78f5407f",
        "outputId": "7fe61876-868a-4323-a628-056a0cffad44"
      },
      "outputs": [],
      "source": [
        "df2[pd.isna(df2['Graphics Memory']) & pd.isna(df2['Graphic Processor'])].shape"
      ]
    },
    {
      "cell_type": "code",
      "execution_count": null,
      "id": "67e268e7",
      "metadata": {
        "colab": {
          "base_uri": "https://localhost:8080/"
        },
        "id": "67e268e7",
        "outputId": "ebe5c91b-d9b4-4203-fa2f-ec84aaf7c38d"
      },
      "outputs": [],
      "source": [
        "df2[pd.isna(df2['Graphics Memory']) & pd.notna(df2['Graphic Processor'])].shape"
      ]
    },
    {
      "cell_type": "code",
      "execution_count": null,
      "id": "7ef99c45",
      "metadata": {
        "colab": {
          "base_uri": "https://localhost:8080/"
        },
        "id": "7ef99c45",
        "outputId": "18d22e53-3eb4-4fc6-de0f-edc751c2d0b2"
      },
      "outputs": [],
      "source": [
        "df2[pd.notna(df2['Graphics Memory']) & pd.notna(df2['Graphic Processor'])].shape"
      ]
    },
    {
      "cell_type": "code",
      "execution_count": 64,
      "id": "785d8487",
      "metadata": {
        "id": "785d8487"
      },
      "outputs": [],
      "source": [
        "def get_graphics_type(row):\n",
        "    if pd.isna(row['Graphics Memory']) and pd.isna(row['Graphic Processor']):\n",
        "        return 'No Graphics'\n",
        "    elif pd.isna(row['Graphics Memory']) and pd.notna(row['Graphic Processor']):\n",
        "        return 'Integrated'\n",
        "    elif pd.notna(row['Graphics Memory']) and pd.notna(row['Graphic Processor']):\n",
        "        return 'Dedicated'\n",
        "    else:\n",
        "        return 'Unknown'\n",
        "\n",
        "df2['graphics_type'] = df2.apply(get_graphics_type, axis=1)"
      ]
    },
    {
      "cell_type": "markdown",
      "id": "546dc378",
      "metadata": {
        "id": "546dc378"
      },
      "source": [
        "The above function is designed to construct a new feature based on two existing features: 'Graphics Memory' and 'Graphic Processor'."
      ]
    },
    {
      "cell_type": "code",
      "execution_count": 65,
      "id": "dd9ba15f",
      "metadata": {
        "id": "dd9ba15f"
      },
      "outputs": [],
      "source": [
        "df2['Graphics Memory'] = df2['Graphics Memory'].fillna('0 GB')\n",
        "df2['Graphics Memory'] = df2['Graphics Memory'].str.split(' ').str[0]\n",
        "df2['Graphics Memory'] = df2['Graphics Memory'].astype('int32')"
      ]
    },
    {
      "cell_type": "code",
      "execution_count": 66,
      "id": "f9655df0",
      "metadata": {
        "id": "f9655df0"
      },
      "outputs": [],
      "source": [
        "df2['Graphic Processor'] = df2['Graphic Processor'].fillna('No Graphics')\n",
        "df2['Graphic Processor'] = df2['Graphic Processor'].str.lower()"
      ]
    },
    {
      "cell_type": "code",
      "execution_count": null,
      "id": "ad20b127",
      "metadata": {
        "colab": {
          "base_uri": "https://localhost:8080/"
        },
        "id": "ad20b127",
        "outputId": "0e672e94-d70a-4763-c899-f209ec3316a1"
      },
      "outputs": [],
      "source": [
        "df2['Graphic Processor'].unique()[:5]"
      ]
    },
    {
      "cell_type": "markdown",
      "id": "bc2c1fb3",
      "metadata": {
        "id": "bc2c1fb3"
      },
      "source": [
        "In the 'Graphic Processor' and 'Graphics Memory' columns, null values indicate the absence of a dedicated graphics system. These are therefore replaced with 'No Graphics' and '0 GB' respectively."
      ]
    },
    {
      "cell_type": "markdown",
      "id": "47ed71c5",
      "metadata": {
        "id": "47ed71c5"
      },
      "source": [
        "# Graphics EDA End"
      ]
    },
    {
      "cell_type": "markdown",
      "id": "09146db1",
      "metadata": {
        "id": "09146db1"
      },
      "source": [
        "#####################################################\n",
        "# EDA For Series"
      ]
    },
    {
      "cell_type": "code",
      "execution_count": null,
      "id": "0e086ca0",
      "metadata": {
        "colab": {
          "base_uri": "https://localhost:8080/",
          "height": 340
        },
        "id": "0e086ca0",
        "outputId": "2167b372-9295-454a-84c4-5d2fd90bb817"
      },
      "outputs": [],
      "source": [
        "df2.head(2)"
      ]
    },
    {
      "cell_type": "code",
      "execution_count": null,
      "id": "3db714f5",
      "metadata": {
        "colab": {
          "base_uri": "https://localhost:8080/"
        },
        "id": "3db714f5",
        "outputId": "69f130c0-5897-4fde-88d0-64c09ddaf19d"
      },
      "outputs": [],
      "source": [
        "df2['Series'].isna().sum()"
      ]
    },
    {
      "cell_type": "code",
      "execution_count": 70,
      "id": "547a39fe",
      "metadata": {
        "id": "547a39fe"
      },
      "outputs": [],
      "source": [
        "df2['Series'] = df2['Series'].str.split(' ').str[0]\n",
        "df2['Series'] = df2['Series'].str.lower()"
      ]
    },
    {
      "cell_type": "code",
      "execution_count": 71,
      "id": "036ff8e9",
      "metadata": {
        "id": "036ff8e9"
      },
      "outputs": [],
      "source": [
        "def extract_series_from_model(model_val):\n",
        "    if pd.isna(model_val):\n",
        "        return np.nan\n",
        "    space_idx = model_val.find(' ')\n",
        "    hyphen_idx = model_val.find('-')\n",
        "\n",
        "    if space_idx == -1 and hyphen_idx == -1:\n",
        "        return model_val\n",
        "    elif space_idx == -1:\n",
        "        return model_val[:hyphen_idx]\n",
        "    elif hyphen_idx == -1:\n",
        "        return model_val[:space_idx]\n",
        "    else:\n",
        "        return model_val[:min(space_idx, hyphen_idx)]\n",
        "\n",
        "df2['Series'] = df2.apply(\n",
        "    lambda row: extract_series_from_model(row['Model']) if pd.isna(row['Series']) else row['Series'],\n",
        "    axis=1\n",
        ")"
      ]
    },
    {
      "cell_type": "code",
      "execution_count": null,
      "id": "18754ad6",
      "metadata": {
        "colab": {
          "base_uri": "https://localhost:8080/"
        },
        "id": "18754ad6",
        "outputId": "6de5140b-982a-4064-f089-878af2fa9ebf"
      },
      "outputs": [],
      "source": [
        "df2.Series.isna().sum()"
      ]
    },
    {
      "cell_type": "code",
      "execution_count": null,
      "id": "a922d39d",
      "metadata": {
        "colab": {
          "base_uri": "https://localhost:8080/",
          "height": 340
        },
        "id": "a922d39d",
        "outputId": "be082919-f73f-4ea1-bbb8-4fa5250bbda2"
      },
      "outputs": [],
      "source": [
        "df2.head(2)"
      ]
    },
    {
      "cell_type": "code",
      "execution_count": null,
      "id": "lSLCsP1zueoK",
      "metadata": {
        "colab": {
          "base_uri": "https://localhost:8080/",
          "height": 607
        },
        "id": "lSLCsP1zueoK",
        "outputId": "fd75e00f-3243-4d96-8b34-27a1e121ff81"
      },
      "outputs": [],
      "source": [
        "cross_tab = pd.crosstab(df2['Brand'], df2['Series'])\n",
        "top10_series = df2['Series'].value_counts().nlargest(10).index\n",
        "cross_tab = cross_tab[top10_series]\n",
        "\n",
        "cross_tab = cross_tab.loc[cross_tab.any(axis=1)]\n",
        "\n",
        "mask = cross_tab == 0\n",
        "\n",
        "plt.figure(figsize=(12, 6))\n",
        "sns.heatmap(cross_tab, annot=True, fmt='d', cmap='YlGnBu', mask=mask, cbar=True, linewidths=0.5, linecolor='gray')\n",
        "plt.title('Brand vs Series (Top 10 Series)')\n",
        "plt.xlabel('Series')\n",
        "plt.ylabel('Brand')\n",
        "plt.tight_layout()\n",
        "plt.show()"
      ]
    },
    {
      "cell_type": "markdown",
      "id": "d0849b64",
      "metadata": {
        "id": "d0849b64"
      },
      "source": [
        "Initially, the 'series' column contained 1,087 null values. We first cleaned the column by retaining only the series names, and then imputed the missing values by extracting series names from the 'model' column using the extract_series_from_model function."
      ]
    },
    {
      "cell_type": "markdown",
      "id": "b84c7140",
      "metadata": {
        "id": "b84c7140"
      },
      "source": [
        "# Series EDA End"
      ]
    },
    {
      "cell_type": "markdown",
      "id": "5e14b956",
      "metadata": {
        "id": "5e14b956"
      },
      "source": [
        "############################################################################\n",
        "# EDA for Pixel Density"
      ]
    },
    {
      "cell_type": "code",
      "execution_count": null,
      "id": "71f34596",
      "metadata": {
        "colab": {
          "base_uri": "https://localhost:8080/"
        },
        "id": "71f34596",
        "outputId": "17f4dc33-a7f9-4887-8712-0315f4730fd6"
      },
      "outputs": [],
      "source": [
        "df2['Pixel Density'].isna().sum()"
      ]
    },
    {
      "cell_type": "code",
      "execution_count": null,
      "id": "0aa3cf5c",
      "metadata": {
        "colab": {
          "base_uri": "https://localhost:8080/"
        },
        "id": "0aa3cf5c",
        "outputId": "b49baa3c-69d1-4beb-eca1-f2b9b2261f16"
      },
      "outputs": [],
      "source": [
        "df2['Display Resolution'].isna().sum()"
      ]
    },
    {
      "cell_type": "code",
      "execution_count": null,
      "id": "aef949ca",
      "metadata": {
        "colab": {
          "base_uri": "https://localhost:8080/"
        },
        "id": "aef949ca",
        "outputId": "785f67fe-cc50-42e3-e754-693c2d70a8eb"
      },
      "outputs": [],
      "source": [
        "df2[(df2['Display Resolution'].isna()) & (df2['Pixel Density'].isna())].shape"
      ]
    },
    {
      "cell_type": "code",
      "execution_count": null,
      "id": "388f874c",
      "metadata": {
        "colab": {
          "base_uri": "https://localhost:8080/",
          "height": 357
        },
        "id": "388f874c",
        "outputId": "b85f2b24-5e08-48e6-92ee-801b2d1e9d5c"
      },
      "outputs": [],
      "source": [
        "df2[(pd.notna(df2['Display Resolution'])) & (df2['Pixel Density'].isna())]"
      ]
    },
    {
      "cell_type": "code",
      "execution_count": null,
      "id": "eff9c5ce",
      "metadata": {
        "colab": {
          "base_uri": "https://localhost:8080/"
        },
        "id": "eff9c5ce",
        "outputId": "94c44a21-bdaf-483f-e347-92846e8339aa"
      },
      "outputs": [],
      "source": [
        "# PPI = (((width)^2 + (height)^2)^0.5) / screen size (in inches) ---- Formula for PPI\n",
        "\n",
        "print(((2560**2 + 1440**2)**0.5) / 16.1)\n",
        "print(((1920**2 + 1080**2)**0.5) / 15.6)"
      ]
    },
    {
      "cell_type": "code",
      "execution_count": 80,
      "id": "72e790d4",
      "metadata": {
        "id": "72e790d4"
      },
      "outputs": [],
      "source": [
        "df2.loc[761, 'Pixel Density'] = df2.loc[761, 'Pixel Density'] = '182.43'\n",
        "df2.loc[797, 'Pixel Density'] = df2.loc[797, 'Pixel Density'] = '141.21'"
      ]
    },
    {
      "cell_type": "code",
      "execution_count": 81,
      "id": "267988e8",
      "metadata": {
        "id": "267988e8"
      },
      "outputs": [],
      "source": [
        "df2['Pixel Density'] = df2['Pixel Density'].str.split(' ').str[0]\n",
        "df2['Pixel Density'] = df2['Pixel Density'].astype('float64')"
      ]
    },
    {
      "cell_type": "code",
      "execution_count": null,
      "id": "a118b38a",
      "metadata": {
        "colab": {
          "base_uri": "https://localhost:8080/"
        },
        "id": "a118b38a",
        "outputId": "e156bd85-95a7-4225-82ac-81a8d877d78e"
      },
      "outputs": [],
      "source": [
        "df2['Pixel Density'].isna().sum()"
      ]
    },
    {
      "cell_type": "code",
      "execution_count": null,
      "id": "Rsu8qr6IxxjY",
      "metadata": {
        "colab": {
          "base_uri": "https://localhost:8080/",
          "height": 507
        },
        "id": "Rsu8qr6IxxjY",
        "outputId": "7e0d1af0-335b-4191-e947-3a0c4bf5e57b"
      },
      "outputs": [],
      "source": [
        "plt.figure(figsize=(10, 5))\n",
        "sns.histplot(df2['Pixel Density'], kde=True, bins=30, color='skyblue')\n",
        "plt.title('Distribution of Pixel Density (PPI)')\n",
        "plt.xlabel('Pixel Density (PPI)')\n",
        "plt.ylabel('Count')\n",
        "plt.tight_layout()\n",
        "plt.show()"
      ]
    },
    {
      "cell_type": "code",
      "execution_count": null,
      "id": "rIdL6qv9x2vZ",
      "metadata": {
        "colab": {
          "base_uri": "https://localhost:8080/",
          "height": 491
        },
        "id": "rIdL6qv9x2vZ",
        "outputId": "ce63aa88-fac5-4bc9-a9f8-63cd1680ac13"
      },
      "outputs": [],
      "source": [
        "plt.figure(figsize=(14, 6))\n",
        "sns.boxplot(data=df2, x='Brand', y='Pixel Density', palette='Set2')\n",
        "plt.title('Pixel Density by Brand')\n",
        "plt.xticks(rotation=45)\n",
        "plt.tight_layout()\n",
        "plt.show()"
      ]
    },
    {
      "cell_type": "markdown",
      "id": "7499c3e0",
      "metadata": {
        "id": "7499c3e0"
      },
      "source": [
        "Imputation of null values in the 'display_density' column was not possible in most cases, as the corresponding 'display_resolution' values were also missing. However, two entries had enough context to infer the values, so they were manually imputed."
      ]
    },
    {
      "cell_type": "markdown",
      "id": "88ae4619",
      "metadata": {},
      "source": [
        "# EDA Pixel Density End"
      ]
    },
    {
      "cell_type": "markdown",
      "id": "48a403ef",
      "metadata": {
        "id": "48a403ef"
      },
      "source": [
        "############################################################\n",
        "# EDA For SSD"
      ]
    },
    {
      "cell_type": "code",
      "execution_count": null,
      "id": "f51cb618",
      "metadata": {
        "colab": {
          "base_uri": "https://localhost:8080/"
        },
        "id": "f51cb618",
        "outputId": "eea7a2bd-d0b2-4c94-df50-19cd2274e53a"
      },
      "outputs": [],
      "source": [
        "df2['SSD Capacity'].isna().sum()"
      ]
    },
    {
      "cell_type": "code",
      "execution_count": 86,
      "id": "ad53e414",
      "metadata": {
        "id": "ad53e414"
      },
      "outputs": [],
      "source": [
        "df2['SSD Capacity'] = df2['SSD Capacity'].str.split(' ').str[0]"
      ]
    },
    {
      "cell_type": "code",
      "execution_count": 87,
      "id": "a26c52be",
      "metadata": {
        "id": "a26c52be"
      },
      "outputs": [],
      "source": [
        "bins = [0, 40000, 60000, 80000, 100000, 150000, np.inf]\n",
        "labels = ['0-40K', '40K-60K', '60K-80K', '80K-100K', '100K-150K', '150K+']\n",
        "df2['Price_Bin'] = pd.cut(df2['Price (Rs)'], bins=bins, labels=labels)"
      ]
    },
    {
      "cell_type": "code",
      "execution_count": 88,
      "id": "87d0501c",
      "metadata": {
        "id": "87d0501c"
      },
      "outputs": [],
      "source": [
        "def smart_fill_ssd(row):\n",
        "    if pd.isna(row['SSD Capacity']):\n",
        "        group = df2[\n",
        "            (df2['Brand'] == row['Brand']) &\n",
        "            (df2['RAM Capacity'] == row['RAM Capacity']) &\n",
        "            (df2['Price_Bin'] == row['Price_Bin']) &\n",
        "            (df2['SSD Capacity'].notna())\n",
        "        ]\n",
        "        if not group.empty:\n",
        "            return group['SSD Capacity'].mode().iloc[0]\n",
        "\n",
        "        group = df2[\n",
        "            (df2['Brand'] == row['Brand']) &\n",
        "            (df2['RAM Capacity'] == row['RAM Capacity']) &\n",
        "            (df2['SSD Capacity'].notna())\n",
        "        ]\n",
        "        if not group.empty:\n",
        "            return group['SSD Capacity'].mode().iloc[0]\n",
        "\n",
        "        group = df2[\n",
        "            (df2['Brand'] == row['Brand']) &\n",
        "            (df2['SSD Capacity'].notna())\n",
        "        ]\n",
        "        if not group.empty:\n",
        "            return group['SSD Capacity'].mode().iloc[0]\n",
        "\n",
        "        return '256GB'\n",
        "\n",
        "    else:\n",
        "        return row['SSD Capacity']\n"
      ]
    },
    {
      "cell_type": "code",
      "execution_count": 89,
      "id": "473a11ec",
      "metadata": {
        "id": "473a11ec"
      },
      "outputs": [],
      "source": [
        "df2['SSD Capacity'] = df2.apply(smart_fill_ssd, axis=1)"
      ]
    },
    {
      "cell_type": "code",
      "execution_count": null,
      "id": "fa5c132f",
      "metadata": {
        "colab": {
          "base_uri": "https://localhost:8080/"
        },
        "id": "fa5c132f",
        "outputId": "93819def-3c87-4e70-dbf6-73917c2e5575"
      },
      "outputs": [],
      "source": [
        "df2['SSD Capacity'].unique()"
      ]
    },
    {
      "cell_type": "code",
      "execution_count": null,
      "id": "6b73a435",
      "metadata": {
        "colab": {
          "base_uri": "https://localhost:8080/"
        },
        "id": "6b73a435",
        "outputId": "b16d3955-e7c2-4512-8eb8-1e62907ec34d"
      },
      "outputs": [],
      "source": [
        "df2[df2['SSD Capacity'].isin(['64', '16', '32','8'])].shape"
      ]
    },
    {
      "cell_type": "code",
      "execution_count": 92,
      "id": "8a02e15f",
      "metadata": {
        "id": "8a02e15f"
      },
      "outputs": [],
      "source": [
        "df3 = df2[~df2['SSD Capacity'].isin(['8', '16', '32', '64'])]"
      ]
    },
    {
      "cell_type": "code",
      "execution_count": 93,
      "id": "d881827b",
      "metadata": {
        "id": "d881827b"
      },
      "outputs": [],
      "source": [
        "df3['SSD Capacity'] = df3['SSD Capacity'].replace('1', '1024')\n",
        "df3['SSD Capacity'] = df3['SSD Capacity'].replace('2', '2024')\n",
        "df3['SSD Capacity'] = df3['SSD Capacity'].replace('4', '4024')"
      ]
    },
    {
      "cell_type": "code",
      "execution_count": null,
      "id": "e515a7fe",
      "metadata": {
        "colab": {
          "base_uri": "https://localhost:8080/"
        },
        "id": "e515a7fe",
        "outputId": "ce47e18d-a44e-4e11-b9ef-9dd379903dc6"
      },
      "outputs": [],
      "source": [
        "df3['SSD Capacity'].unique()"
      ]
    },
    {
      "cell_type": "code",
      "execution_count": 95,
      "id": "6a6f4ffb",
      "metadata": {
        "id": "6a6f4ffb"
      },
      "outputs": [],
      "source": [
        "df3['SSD Capacity'] = df3['SSD Capacity'].replace('256GB', '256')\n",
        "df3['SSD Capacity'] = df3['SSD Capacity'].astype('int32')"
      ]
    },
    {
      "cell_type": "code",
      "execution_count": null,
      "id": "PCZoH6UqyTkc",
      "metadata": {
        "colab": {
          "base_uri": "https://localhost:8080/",
          "height": 507
        },
        "id": "PCZoH6UqyTkc",
        "outputId": "6bde027c-e56c-47c5-d1a3-fdcc52d23efd"
      },
      "outputs": [],
      "source": [
        "avg_price_ssd = df3.groupby('SSD Capacity')['Price (Rs)'].mean().sort_index()\n",
        "\n",
        "plt.figure(figsize=(10, 5))\n",
        "sns.barplot(x=avg_price_ssd.index, y=avg_price_ssd.values, palette='magma')\n",
        "plt.title('Average Price by SSD Capacity')\n",
        "plt.xlabel('SSD Capacity (GB)')\n",
        "plt.ylabel('Average Price (Rs)')\n",
        "plt.tight_layout()\n",
        "plt.show()\n"
      ]
    },
    {
      "cell_type": "code",
      "execution_count": null,
      "id": "Kmg2u3ThyYsv",
      "metadata": {
        "colab": {
          "base_uri": "https://localhost:8080/",
          "height": 569
        },
        "id": "Kmg2u3ThyYsv",
        "outputId": "61053d79-443e-4627-a492-b1bc0eaf973e"
      },
      "outputs": [],
      "source": [
        "plt.figure(figsize=(12, 6))\n",
        "sns.boxplot(data=df3, x='SSD Capacity', y='Price (Rs)', palette='coolwarm')\n",
        "plt.title('Price Distribution by SSD Capacity')\n",
        "plt.xlabel('SSD Capacity (GB)')\n",
        "plt.ylabel('Price (Rs)')\n",
        "plt.tight_layout()\n",
        "plt.show()\n"
      ]
    },
    {
      "cell_type": "markdown",
      "id": "92409f7e",
      "metadata": {
        "id": "92409f7e"
      },
      "source": [
        "There were 1,329 missing values in the 'SSD Capacity' column, which were imputed using the smart_fill_ssd function. This function fills missing values by selecting the most frequent SSD capacity among similar entries based on brand, RAM, and price bin. If no suitable match is found, it defaults to '256GB'. Additionally, laptops with SSD storage less than 128GB were removed, as these devices primarily relied on HDDs or optical drives. Since most laptops manufactured after 2020 come with SSDs, such entries were excluded to ensure the model is trained on relevant and modern configurations."
      ]
    },
    {
      "cell_type": "markdown",
      "id": "1b04ea89",
      "metadata": {
        "id": "1b04ea89"
      },
      "source": [
        "# SSD EDA End"
      ]
    },
    {
      "cell_type": "markdown",
      "id": "4ff62e9b",
      "metadata": {
        "id": "4ff62e9b"
      },
      "source": [
        "####################################################\n",
        "# EDA for Display Touchscreen"
      ]
    },
    {
      "cell_type": "code",
      "execution_count": null,
      "id": "2028215c",
      "metadata": {
        "colab": {
          "base_uri": "https://localhost:8080/"
        },
        "id": "2028215c",
        "outputId": "0bdc0de6-f2f8-487a-f126-2f3c7b543923"
      },
      "outputs": [],
      "source": [
        "df3['Display Touchscreen'].isna().sum()"
      ]
    },
    {
      "cell_type": "code",
      "execution_count": null,
      "id": "6b5cfeb2",
      "metadata": {
        "colab": {
          "base_uri": "https://localhost:8080/",
          "height": 407
        },
        "id": "6b5cfeb2",
        "outputId": "865b4cc3-4c78-4421-afa2-d2dad4ae611c"
      },
      "outputs": [],
      "source": [
        "df3.groupby('Display Touchscreen')['Price (Rs)'].mean().plot(kind='bar', figsize=(6, 4))\n",
        "plt.title('Average Laptop Price by Touchscreen Display')\n",
        "plt.xlabel('Touchscreen')\n",
        "plt.ylabel('Average Price (Rs)')\n",
        "plt.xticks(rotation=0)\n",
        "plt.grid(axis='y')\n",
        "plt.tight_layout()\n",
        "plt.show()"
      ]
    },
    {
      "cell_type": "code",
      "execution_count": null,
      "id": "24bed254",
      "metadata": {
        "colab": {
          "base_uri": "https://localhost:8080/",
          "height": 958
        },
        "id": "24bed254",
        "outputId": "d51bb040-0f04-4e1b-dc1b-4fcd588c37b0"
      },
      "outputs": [],
      "source": [
        "df3.loc[df3['Display Touchscreen'].isna(), ['Brand', 'Series', ]].drop_duplicates()"
      ]
    },
    {
      "cell_type": "code",
      "execution_count": 101,
      "id": "e8f05d3e",
      "metadata": {
        "id": "e8f05d3e"
      },
      "outputs": [],
      "source": [
        "df3.loc[2442, 'Display Touchscreen'] = df3.loc[2442, 'Display Touchscreen'] = 'Yes'\n",
        "df3.loc[4611, 'Display Touchscreen'] = df3.loc[2442, 'Display Touchscreen'] = 'Yes'\n",
        "df3.loc[6661, 'Display Touchscreen'] = df3.loc[2442, 'Display Touchscreen'] = 'Yes'\n",
        "df3['Display Touchscreen'].fillna('No', inplace= True)\n",
        "df3['Display Touchscreen'] = df3['Display Touchscreen'].str.lower()\n",
        "df3['Display Touchscreen'] = df3['Display Touchscreen'].map({'no': 0, 'yes': 1})"
      ]
    },
    {
      "cell_type": "markdown",
      "id": "0a7d5816",
      "metadata": {
        "id": "0a7d5816"
      },
      "source": [
        "There were 81 missing values in the 'Display Touchscreen' column. After manually reviewing the data, we identified 3 laptops as touchscreen models, while the remaining were confirmed to be non-touchscreen."
      ]
    },
    {
      "cell_type": "code",
      "execution_count": null,
      "id": "Jibm1ZLiy8bx",
      "metadata": {
        "colab": {
          "base_uri": "https://localhost:8080/",
          "height": 407
        },
        "id": "Jibm1ZLiy8bx",
        "outputId": "51b01f02-1bba-4d52-aa73-86ebc5675603"
      },
      "outputs": [],
      "source": [
        "plt.figure(figsize=(6,4))\n",
        "sns.countplot(data=df3, x='Display Touchscreen', palette=[\"#e32f2f\", '#1f78b4'])\n",
        "plt.title('How many laptops are touchscreens?')\n",
        "plt.xticks([0,1], ['No', 'Yes'])\n",
        "plt.ylabel('Number of laptops')\n",
        "plt.xlabel('')\n",
        "plt.tight_layout()\n",
        "plt.show()"
      ]
    },
    {
      "cell_type": "code",
      "execution_count": null,
      "id": "SN5MOB13y_LR",
      "metadata": {
        "colab": {
          "base_uri": "https://localhost:8080/",
          "height": 507
        },
        "id": "SN5MOB13y_LR",
        "outputId": "c787d0d1-3414-461b-e42a-0af810299621"
      },
      "outputs": [],
      "source": [
        "plt.figure(figsize=(8,5))\n",
        "sns.boxplot(data=df3, x='Display Touchscreen', y='Price (Rs)',\n",
        "            palette=[\"#f83434\",'#1f78b4'])\n",
        "plt.xticks([0,1], ['No','Yes'])\n",
        "plt.title('Price distribution by touchscreen presence')\n",
        "plt.xlabel('Has Touchscreen?'); plt.ylabel('Price (Rs)')\n",
        "plt.tight_layout()\n",
        "plt.show()"
      ]
    },
    {
      "cell_type": "markdown",
      "id": "020a49f6",
      "metadata": {
        "id": "020a49f6"
      },
      "source": [
        "# Display Touchscreen End"
      ]
    },
    {
      "cell_type": "code",
      "execution_count": 104,
      "id": "b7aae20a",
      "metadata": {
        "id": "b7aae20a"
      },
      "outputs": [],
      "source": [
        "df3.reset_index(drop=True, inplace=True)"
      ]
    },
    {
      "cell_type": "code",
      "execution_count": 105,
      "id": "54b449fb",
      "metadata": {
        "id": "54b449fb"
      },
      "outputs": [],
      "source": [
        "df3 = df3[['Brand', 'Series', 'Weight', 'Display Size', 'Pixel Density',\n",
        "           'Display Touchscreen', 'Graphic Processor', 'RAM Capacity', 'RAM Type',\n",
        "           'SSD Capacity', 'OS', 'Processor_Brand', 'Price (Rs)',\n",
        "           'Processor_Series', 'Graphics Memory']]"
      ]
    },
    {
      "cell_type": "markdown",
      "id": "222c26af",
      "metadata": {},
      "source": [
        "During my time (Gaurav Pandey) working as a laptop salesperson at Vijay Sales (a well-known electronics retail store in India), I observed that when customers walk in to purchase a laptop, their primary considerations typically include the brand, RAM, storage, operating system, weight, and laptop series. However, for customers with specific needs—such as gamers, coders, video editors, or graphic designers—the decision-making process becomes more detailed. These customers often inquire about additional specifications like the graphics processor, graphics memory, pixel density, RAM type, processor brand, and display size."
      ]
    },
    {
      "cell_type": "code",
      "execution_count": null,
      "id": "18590430",
      "metadata": {
        "colab": {
          "base_uri": "https://localhost:8080/"
        },
        "id": "18590430",
        "outputId": "6a6f7646-c6e1-4bee-f3a3-3f353e389031"
      },
      "outputs": [],
      "source": [
        "for col in (df3.columns):\n",
        "    print(col, df3[col].isna().sum())"
      ]
    },
    {
      "cell_type": "code",
      "execution_count": 107,
      "id": "c76886bc",
      "metadata": {
        "id": "c76886bc"
      },
      "outputs": [],
      "source": [
        "df4 = df3.dropna(subset=['Pixel Density'])"
      ]
    },
    {
      "cell_type": "code",
      "execution_count": null,
      "id": "a02d37c2",
      "metadata": {
        "colab": {
          "base_uri": "https://localhost:8080/"
        },
        "id": "a02d37c2",
        "outputId": "2bed9ccd-9659-42fd-8b58-aee0d997cb17"
      },
      "outputs": [],
      "source": [
        "for col in (df4.columns):\n",
        "    print(col, df4[col].isna().sum())"
      ]
    },
    {
      "cell_type": "code",
      "execution_count": null,
      "id": "f2732b81",
      "metadata": {
        "colab": {
          "base_uri": "https://localhost:8080/"
        },
        "id": "f2732b81",
        "outputId": "57aa93ef-c812-4ed7-f79f-a4848b8bb1e0"
      },
      "outputs": [],
      "source": [
        "df4.duplicated().sum()"
      ]
    },
    {
      "cell_type": "code",
      "execution_count": 110,
      "id": "b4fa229a",
      "metadata": {
        "id": "b4fa229a"
      },
      "outputs": [],
      "source": [
        "df4.drop_duplicates(inplace= True)"
      ]
    },
    {
      "cell_type": "code",
      "execution_count": 111,
      "id": "416486e3",
      "metadata": {
        "id": "416486e3"
      },
      "outputs": [],
      "source": [
        "df4.to_csv('./Data/processed_laptop_data.csv', index=False)"
      ]
    },
    {
      "cell_type": "code",
      "execution_count": 112,
      "id": "8af126ab",
      "metadata": {
        "id": "8af126ab"
      },
      "outputs": [],
      "source": [
        "df_for_correlation = df4.copy()"
      ]
    },
    {
      "cell_type": "code",
      "execution_count": 113,
      "id": "d58e2692",
      "metadata": {
        "id": "d58e2692"
      },
      "outputs": [],
      "source": [
        "from sklearn.preprocessing import LabelEncoder"
      ]
    },
    {
      "cell_type": "code",
      "execution_count": null,
      "id": "f45d1080",
      "metadata": {
        "colab": {
          "base_uri": "https://localhost:8080/",
          "height": 487
        },
        "id": "f45d1080",
        "outputId": "f935296a-4d9c-460a-dc6f-987ffe16c432"
      },
      "outputs": [],
      "source": [
        "categorical_cols = df_for_correlation.select_dtypes(include='object').columns\n",
        "print(categorical_cols)\n",
        "for col in categorical_cols:\n",
        "    df_for_correlation[col] = LabelEncoder().fit_transform(df_for_correlation[col].astype(str))\n",
        "\n",
        "correlation = df_for_correlation.corr()\n",
        "sns.heatmap(correlation[['Price (Rs)']].sort_values(by='Price (Rs)', ascending=False), annot=True)\n",
        "plt.show()"
      ]
    },
    {
      "cell_type": "code",
      "execution_count": 115,
      "id": "06ff9e13",
      "metadata": {},
      "outputs": [],
      "source": [
        "from sklearn.compose import ColumnTransformer\n",
        "from sklearn.pipeline import Pipeline\n",
        "from sklearn.preprocessing import OneHotEncoder, StandardScaler, RobustScaler\n",
        "from sklearn.metrics import r2_score,mean_absolute_error\n",
        "from sklearn.model_selection import train_test_split, GridSearchCV\n",
        "from sklearn.linear_model import LinearRegression\n",
        "from sklearn.svm import SVR"
      ]
    },
    {
      "cell_type": "code",
      "execution_count": 116,
      "id": "7821322a",
      "metadata": {},
      "outputs": [],
      "source": [
        "df=pd.read_csv('Data//processed_laptop_data.csv')"
      ]
    },
    {
      "cell_type": "code",
      "execution_count": 117,
      "id": "d2bf9e94",
      "metadata": {},
      "outputs": [],
      "source": [
        "X = df.drop(columns= ['Price (Rs)'])\n",
        "y = np.log(df['Price (Rs)'])"
      ]
    },
    {
      "cell_type": "code",
      "execution_count": 118,
      "id": "ec5c6d4d",
      "metadata": {},
      "outputs": [],
      "source": [
        "X_train, X_test, y_train, y_test = train_test_split(X, y, test_size=0.3, random_state=42)"
      ]
    },
    {
      "cell_type": "code",
      "execution_count": 119,
      "id": "0da2e24e",
      "metadata": {},
      "outputs": [],
      "source": [
        "cat_col = ['Brand', 'Series', 'Graphic Processor', 'RAM Type', 'OS', 'Processor_Brand', 'Processor_Series']\n",
        "num_col = [col for col in X_train.columns if col not in cat_col]"
      ]
    },
    {
      "cell_type": "code",
      "execution_count": null,
      "id": "733ed9cf",
      "metadata": {},
      "outputs": [],
      "source": [
        "step1 = ColumnTransformer(transformers=[\n",
        "    ('col_tnf',OneHotEncoder(sparse_output=False,drop='first',handle_unknown='ignore'), cat_col),\n",
        "    ('num', StandardScaler(), num_col)\n",
        "],remainder='passthrough')\n",
        "\n",
        "step2 = LinearRegression()\n",
        "\n",
        "pipe_lr = Pipeline([\n",
        "    ('step1',step1),\n",
        "    ('step2',step2)\n",
        "])\n",
        "\n",
        "pipe_lr.fit(X_train,y_train)\n",
        "\n",
        "y_pred = pipe_lr.predict(X_test)\n",
        "\n",
        "print('R2 score',r2_score(y_test,y_pred))\n",
        "print('MAE',mean_absolute_error(y_test,y_pred))"
      ]
    },
    {
      "cell_type": "code",
      "execution_count": null,
      "id": "b647b8ef",
      "metadata": {},
      "outputs": [],
      "source": [
        "step1 = ColumnTransformer(transformers=[\n",
        "    ('col_tnf',OneHotEncoder(sparse_output=False,drop='first',handle_unknown='ignore'), cat_col),\n",
        "    ('num', RobustScaler(), num_col)\n",
        "],remainder='passthrough')\n",
        "\n",
        "step2 = SVR(kernel='rbf',C=10000,epsilon=0.1)\n",
        "\n",
        "pipe_svr = Pipeline([\n",
        "    ('step1',step1),\n",
        "    ('step2',step2)\n",
        "])\n",
        "\n",
        "pipe_svr.fit(X_train,y_train)\n",
        "\n",
        "y_pred = pipe_svr.predict(X_test)\n",
        "\n",
        "print('R2 score',r2_score(y_test,y_pred))\n",
        "print('MAE',mean_absolute_error(y_test,y_pred))"
      ]
    },
    {
      "cell_type": "code",
      "execution_count": null,
      "metadata": {},
      "outputs": [],
      "source": [
        "svr_step1 = ColumnTransformer(transformers=[\n",
        "    ('col_tnf', OneHotEncoder(sparse_output=False, drop='first', handle_unknown='ignore'), cat_col),\n",
        "    ('num', RobustScaler(), num_col)\n",
        "], remainder='passthrough')\n",
        "\n",
        "svr_step2 = SVR(kernel='rbf')\n",
        "\n",
        "pipe_svr = Pipeline([\n",
        "    ('step1', svr_step1),\n",
        "    ('step2', svr_step2)\n",
        "])\n",
        "\n",
        "param_grid = {\n",
        "    'step2__C': [100, 1000, 10000],\n",
        "    'step2__epsilon': [0.01, 0.1, 0.5],\n",
        "    'step2__gamma': ['scale', 'auto']\n",
        "}\n",
        "\n",
        "grid_search = GridSearchCV(pipe_svr, \n",
        "                          param_grid, \n",
        "                          cv=2,  \n",
        "                          scoring='r2',\n",
        "                          n_jobs=-1,\n",
        "                          verbose=1)\n",
        "\n",
        "print(\"\\nPerforming grid search...\")\n",
        "grid_search.fit(X_train, y_train)\n",
        "\n",
        "best_svr = grid_search.best_estimator_\n",
        "\n",
        "y_pred = best_svr.predict(X_test)\n",
        "print('\\nSVR Validation Scores (after tuning):')\n",
        "print('R2 score:', r2_score(y_test, y_pred))\n",
        "print('MAE:', mean_absolute_error(y_test, y_pred))\n",
        "\n"
      ]
    },
    {
      "cell_type": "code",
      "execution_count": null,
      "id": "47d11c1f",
      "metadata": {},
      "outputs": [],
      "source": [
        "input_df = pd.DataFrame([{\n",
        "    'Brand': 'HP',\n",
        "    'Series': 'pavilion',\n",
        "    'Weight': 1.50,\n",
        "    'Display Size': 14.0,\n",
        "    'Pixel Density': 157.0,\n",
        "    'Display Touchscreen': 0,\n",
        "    'Graphic Processor': 'intel uhd',\n",
        "    'RAM Capacity': 8,\n",
        "    'RAM Type': 'ddr4',\n",
        "    'SSD Capacity': 512,\n",
        "    'OS': 'win 11',\n",
        "    'Processor_Brand': 'intel',\n",
        "    'Processor_Series': 'i3',\n",
        "    'Graphics Memory': 0\n",
        "}])"
      ]
    },
    {
      "cell_type": "code",
      "execution_count": null,
      "id": "bc10e4eb",
      "metadata": {},
      "outputs": [],
      "source": [
        "model_dict = {\n",
        "    \"Linear Regression\": pipe_lr,\n",
        "    \"SVR\": best_svr \n",
        "}\n",
        "\n",
        "for name, model in model_dict.items():\n",
        "    p = model.predict(input_df)\n",
        "    predicted_price = np.exp(p[0])\n",
        "    print(f\"{name:25}: ₹ {predicted_price:,.2f}\")"
      ]
    }
  ],
  "metadata": {
    "colab": {
      "provenance": []
    },
    "kernelspec": {
      "display_name": "env",
      "language": "python",
      "name": "python3"
    },
    "language_info": {
      "codemirror_mode": {
        "name": "ipython",
        "version": 3
      },
      "file_extension": ".py",
      "mimetype": "text/x-python",
      "name": "python",
      "nbconvert_exporter": "python",
      "pygments_lexer": "ipython3",
      "version": "3.12.0"
    }
  },
  "nbformat": 4,
  "nbformat_minor": 5
}
